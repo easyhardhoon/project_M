{
  "nbformat": 4,
  "nbformat_minor": 0,
  "metadata": {
    "colab": {
      "name": "project_M.ipynb",
      "provenance": [],
      "collapsed_sections": [],
      "authorship_tag": "ABX9TyOJU6OlE7dc90REZOmxYJk9",
      "include_colab_link": true
    },
    "kernelspec": {
      "name": "python3",
      "display_name": "Python 3"
    },
    "language_info": {
      "name": "python"
    }
  },
  "cells": [
    {
      "cell_type": "markdown",
      "metadata": {
        "id": "view-in-github",
        "colab_type": "text"
      },
      "source": [
        "<a href=\"https://colab.research.google.com/github/easyhardhoon/project_M/blob/main/project_M.ipynb\" target=\"_parent\"><img src=\"https://colab.research.google.com/assets/colab-badge.svg\" alt=\"Open In Colab\"/></a>"
      ]
    },
    {
      "cell_type": "markdown",
      "source": [
        "#project_M\n",
        "\n",
        "**마피아의 수와 시민의 수의 변화에 따른 시민승 확률값의 변화에 대한 규칙성 탐구**\n",
        "\n",
        "▶마피아 코드를 작성하고 시뮬레이션으로 데이터를 생성,수집합니다\n",
        "\n",
        "▶matplotlib, pandas 등의 라이브러리로 데이터를 분석,시각화합니다\n",
        "\n",
        "▶신경망을 직접 만들어 csv데이터를 주고 모델을 학습시킵니다\n",
        "\n",
        "▶조건을 달리한 모델들을 추가적으로 만들어 각각을 학습시키고 그 각각의 성능을 평가합니다\n",
        "\n",
        "▶최고의 성능을 보인 모델을 선정하고, 예측데이터와 실제데이터를 비교하여 insight를 도출합니다\n"
      ],
      "metadata": {
        "id": "IiYsHWPvKPiM"
      }
    },
    {
      "cell_type": "markdown",
      "source": [
        "**1. maphia code(테스트용)작성**\n",
        "\n",
        "https://github.com/easyhardhoon/Project_Maphia/blob/master/project_maphia_code_final.py 를 참고하였습니다"
      ],
      "metadata": {
        "id": "Gi58Gzw3KGCI"
      }
    },
    {
      "cell_type": "code",
      "execution_count": null,
      "metadata": {
        "colab": {
          "base_uri": "https://localhost:8080/"
        },
        "id": "dif_3HcGJhCL",
        "outputId": "f71d23ce-57c2-4962-d2d8-73131693bd8f"
      },
      "outputs": [
        {
          "name": "stdout",
          "output_type": "stream",
          "text": [
            "시민의 수를 입력하세요 : 15\n",
            "마피아의 수를 입력하세요 : 4\n",
            "speical case를 도입할건지 선택하세요. [1 : true. 0 : false] : 1\n"
          ]
        }
      ],
      "source": [
        "from random import *\n",
        "from copy import *\n",
        "from time import *\n",
        "citizens_number = int(input(\"시민의 수를 입력하세요 : \"))\n",
        "mapia_number = int(input(\"마피아의 수를 입력하세요 : \"))\n",
        "special_case = int(input(\"speical case를 도입할건지 선택하세요. [1 : true. 0 : false] : \"))\n",
        "array_for_smartpolice = [0]\n",
        "#smart_police을 위한 배열\n",
        "def checking_exist_maphia(array,number_between_citizens_maphias):\n",
        "    for a in array:\n",
        "        if(a>number_between_citizens_maphias):\n",
        "            return True    \n",
        "    return False\n",
        "def checking_exist_police(array):\n",
        "    for a in array:\n",
        "        if(a == 0):\n",
        "            return True    \n",
        "    return False\n",
        "def checking_exist_doctor(array):\n",
        "    for a in array:\n",
        "        if(a == -1):\n",
        "            return True    \n",
        "    return False\n",
        "def checking_exist_citizens(array,number_between_citizens_maphias):\n",
        "    for a in array:\n",
        "        if (a<=number_between_citizens_maphias):\n",
        "            return True\n",
        "    return False\n",
        "def set_police_among_citizen(array,citizens_number):\n",
        "    police = randrange(0,citizens_number) #경찰은 0이다\n",
        "    array[police] = 0\n",
        "    return array\n",
        "def set_doctor_among_citizen(array, citizens_number):\n",
        "    while True:\n",
        "           doctor = randrange(0,citizens_number)\n",
        "           if array[doctor]  == 0: #의사와 경찰이 겹치면 안된다. 의사는 -1이다\n",
        "               continue\n",
        "           break\n",
        "    array[doctor] = -1\n",
        "    return array\n",
        "def set_army_among_citizen(array, citizens_number):\n",
        "    while True:\n",
        "        army = randrange(0,citizens_number)\n",
        "        if array[army] == 0 or array[army] == -1: # 군인 의사 경찰이 겹치면 안된다. 군인은 -2이다\n",
        "            continue\n",
        "        break\n",
        "    array[army] = -2\n",
        "    return array\n",
        "def set_noble_among_citizen(array, citizens_number):\n",
        "    while True:\n",
        "        noble = randrange(0,citizens_number)\n",
        "        if array[noble] == 0 or array[noble] == -1 or array[noble] == -2: # 귀족 군인 의사 경찰이 겹치면 안된다. 귀족은 -3이다\n",
        "            continue\n",
        "        break\n",
        "    array[noble] = -3\n",
        "    return array\n",
        "def police_work_uglycase(array,citizens_number):\n",
        "    #중복 검사 허용하는 ugly 경찰\n",
        "    print(\"경찰은 한명을 지목하여 마피아인지 아닌지 확인합니다\")\n",
        "    while True:\n",
        "        key = choice(array)\n",
        "        if key == 0:\n",
        "            continue #경찰은 자기자신을 지목하지 못한다\n",
        "        break\n",
        "    if (key > citizens_number):\n",
        "        print(\"경찰이 지목한 사람은 마피아가 맞습니다\")\n",
        "        target = key\n",
        "        return target\n",
        "    else:\n",
        "        print(\"경찰이 지목한 사람은 선량한 시민입니다\")\n",
        "        target = 0\n",
        "        return target\n",
        "\n",
        "def police_work_smartcase(array,citizens_number):\n",
        "    #중복 검사 허용하지 않는 경찰.\n",
        "    copy_array = deepcopy(array)\n",
        "    #깊은 복사의 개념. import copy의 deepcopy 함수로 구현. 원래 array 값 훼손하지 않기 위해 구현\n",
        "    for smart_key in array_for_smartpolice:\n",
        "        if(smart_key in copy_array):\n",
        "            copy_array.remove(smart_key)\n",
        "    print(\"경찰은 한명을 지목하여 마피아인지 아닌지 확인합니다\")\n",
        "    key = choice(copy_array)\n",
        "    #전체 array에서 smart_key_for_smartpolice 배열을 뺀 배열을 정의\n",
        "    #최초 smart_array에 0을 넣음으로써 remove 에러 안뜨기 & 경찰 자기자신 안고르기 효과 일타이피\n",
        "    if (key > citizens_number):\n",
        "        print(\"경찰이 지목한 사람은 마피아가 맞습니다\")\n",
        "        target = key\n",
        "        nn=0\n",
        "        for smart_key in array_for_smartpolice:\n",
        "            if key == smart_key:\n",
        "                nn+=1\n",
        "        if(nn==0):\n",
        "            array_for_smartpolice.append(key)\n",
        "        return target #마피아를 찾으면 마피아를 target에 넣어주고 리턴\n",
        "    else:\n",
        "        print(\"경찰이 지목한 사람은 선량한 시민입니다\")\n",
        "        target = 0\n",
        "        nn=0\n",
        "        for smart_key in array_for_smartpolice:\n",
        "            if key == smart_key:\n",
        "                nn+=1\n",
        "        if(nn==0):\n",
        "            array_for_smartpolice.append(key)\n",
        "        return target #마피아가 아니면 0값을 target에 넣어주고 리턴\n",
        "\n",
        "def doctor_work(array):\n",
        "    print(\"의사는 살릴 대상을 선택합니다\")\n",
        "    saver = choice(array)\n",
        "    return saver #살릴 사람 무작위 선택(자기자신 포함)\n",
        "def army_work(army_life):\n",
        "    army_life=1\n",
        "    return army_life #군인 생명 하나 단축\n",
        "def noble_work(noble_life):\n",
        "    noble_life=1\n",
        "    return noble_life #의사 생명 하나 단축\n",
        "def is_target_maphia(target):\n",
        "    if target == 0:\n",
        "        return False\n",
        "    else:\n",
        "        return True\n",
        "def die_people_name(die_people,citizens_number):\n",
        "    if die_people == -3:\n",
        "        result = \"귀족\"\n",
        "        return result\n",
        "    elif die_people == -2:\n",
        "        result = \"군인\"\n",
        "        return result\n",
        "    elif die_people == -1:\n",
        "        result = \"의사\"\n",
        "        return result\n",
        "    elif die_people == 0:\n",
        "        result = \"경찰\"\n",
        "        return result\n",
        "    elif die_people <= citizens_number:\n",
        "        result = \"시민\"\n",
        "        return result\n",
        "    else:\n",
        "        result = \"마피아\"\n",
        "        return result\n",
        "    \n",
        "def first_game_like_real(array,citizens_number): #실제 이름을 넣어주어 실감나게 구현\n",
        "    array = list(map(str,array))\n",
        "    for a in range(len(array)):\n",
        "        if array[a] == \"0\":\n",
        "            array[a] = \"지훈\"\n",
        "        elif array[a] == \"1\":\n",
        "            array[a] = \"민찬\"\n",
        "        elif array[a] == \"2\":\n",
        "            array[a] = \"예훈\"\n",
        "        elif array[a] == \"3\":\n",
        "            array[a] = \"창한\"\n",
        "        elif array[a] == \"4\":\n",
        "            array[a] = \"하운\"\n",
        "        elif array[a] == \"5\":\n",
        "            array[a] = \"정윤\"\n",
        "        elif array[a] == \"6\":\n",
        "            array[a] = \"민지\"\n",
        "        elif array[a] == \"7\":\n",
        "            array[a] = \"규민\"\n",
        "        elif array[a] == \"8\":\n",
        "            array[a] = \"지호\"\n",
        "        elif array[a] == \"9\":\n",
        "            array[a] = \"시영\"\n",
        "        elif array[a] == \"10\":\n",
        "            array[a] = \"민혁\"\n",
        "        elif array[a] == \"11\":\n",
        "            array[a] = \"승찬\"\n",
        "        elif array[a] == \"12\":\n",
        "            array[a] = \"석문\"\n",
        "        elif array[a] == \"13\":\n",
        "            array[a] = \"서윤\"\n",
        "        elif array[a] == \"14\":\n",
        "            array[a] = \"준철\"\n",
        "        elif array[a] == \"15\":\n",
        "            array[a] = \"기훈\"\n",
        "        elif array[a] == \"16\":\n",
        "            array[a] = \"우상\"\n",
        "        elif array[a] == \"17\":\n",
        "            array[a] = \"세진 \"\n",
        "        elif array[a] == \"18\":\n",
        "            array[a] = \"상원\"\n",
        "        elif array[a] == \"19\":\n",
        "            array[a] = \"해경\"\n",
        "        elif array[a] == \"20\":\n",
        "            array[a] = \"성진\"\n",
        "    return array\n",
        "def game_like_real(array,citizens_number): #실제 이름을 넣어주어 실감나게 구현\n",
        "    array = list(map(str,array))\n",
        "    for a in range(len(array)):\n",
        "        if int(array[a]) > citizens_number:\n",
        "            array[a] = \"마피아\"\n",
        "        elif array[a] == \"-3\":\n",
        "            array[a] = \"귀족\"\n",
        "        elif array[a] == \"-2\":\n",
        "            array[a] = \"군인\"\n",
        "        elif array[a] == \"-1\":\n",
        "            array[a] = \"의사\"\n",
        "        elif array[a] == \"0\":\n",
        "            array[a] = \"경찰\"\n",
        "        elif array[a] == \"1\":\n",
        "            array[a] = \"민찬\"\n",
        "        elif array[a] == \"2\":\n",
        "            array[a] = \"예훈\"\n",
        "        elif array[a] == \"3\":\n",
        "            array[a] = \"창한\"\n",
        "        elif array[a] == \"4\":\n",
        "            array[a] = \"하운\"\n",
        "        elif array[a] == \"5\":\n",
        "            array[a] = \"정윤\"\n",
        "        elif array[a] == \"6\":\n",
        "            array[a] = \"민지\"\n",
        "        elif array[a] == \"7\":\n",
        "            array[a] = \"규민\"\n",
        "        elif array[a] == \"8\":\n",
        "            array[a] = \"지호\"\n",
        "        elif array[a] == \"9\":\n",
        "            array[a] = \"시영\"\n",
        "        elif array[a] == \"10\":\n",
        "            array[a] = \"민혁\"\n",
        "        elif array[a] == \"11\":\n",
        "            array[a] = \"승찬\"\n",
        "        elif array[a] == \"12\":\n",
        "            array[a] = \"석문\"\n",
        "        elif array[a] == \"13\":\n",
        "            array[a] = \"서윤\"\n",
        "        elif array[a] == \"14\":\n",
        "            array[a] = \"준철\"\n",
        "        elif array[a] == \"15\":\n",
        "            array[a] = \"기훈\"\n",
        "        elif array[a] == \"16\":\n",
        "            array[a] = \"우상\"\n",
        "        elif array[a] == \"17\":\n",
        "            array[a] = \"세진 \"\n",
        "        elif array[a] == \"18\":\n",
        "            array[a] = \"상원\"\n",
        "        elif array[a] == \"19\":\n",
        "            array[a] = \"해경\"\n",
        "        elif array[a] == \"20\":\n",
        "            array[a] = \"성진\"\n",
        "    return array\n",
        "def smart_maphia_win_drawtime(checking_number,Gamer):\n",
        "    if checking_number == len(Gamer)-checking_number:\n",
        "        return True\n",
        "    else:\n",
        "        return False\n",
        "def smart_maphia_choice(Gamer,citizens_number):\n",
        "    special_Gamer = []\n",
        "    for people in Gamer:\n",
        "        if people<=citizens_number:\n",
        "            special_Gamer.append(people)\n",
        "            special_Gamer.append(people)\n",
        "        else:\n",
        "            special_Gamer.append(people)\n",
        "    #시민 2 마피아 1의 비율로 확률 조정\n",
        "    die_people = choice(special_Gamer)\n",
        "    #print(special_Gamer)\n",
        "    return die_people\n",
        "\n",
        "def game_start(citizens_number,maphia_number):\n",
        "    date=1\n",
        "    checking_number = citizens_number\n",
        "    #checking_number : 시민의 수가 줄면 하나씩 줄어든다. 마피아가 밤에 시민을 찾아 죽일때 사용\n",
        "    Citizens = list(range(1,citizens_number+1))\n",
        "    Mapias = list(range(citizens_number+1,citizens_number + mapia_number+1))\n",
        "    Gamer = Citizens + Mapias\n",
        "    print(\"참가자 : \",first_game_like_real(Gamer,citizens_number))\n",
        "    Gamer = set_police_among_citizen(Gamer,citizens_number)\n",
        "    Gamer = set_doctor_among_citizen(Gamer, citizens_number)\n",
        "    Gamer = set_army_among_citizen(Gamer,citizens_number)\n",
        "    Gamer = set_noble_among_citizen(Gamer,citizens_number)\n",
        "    print(\"게임 세팅이 완료되었습니다\")\n",
        "    print(\"마피아 게임 시작합니다\")\n",
        "    print(\"참가자 : \",game_like_real(Gamer,citizens_number))\n",
        "    is_exist_citizens = True\n",
        "    is_exist_maphias = True\n",
        "    is_exist_police  = True\n",
        "    is_exist_doctor = True\n",
        "    target = 0 #임시. 마피아를 찾으면 양의 정수형태로 바뀌게 코드 구현\n",
        "    saver = -10 #임시. 게임에 버그를 안주기 위해 안쓰는 음수값 하나 선택\n",
        "    army_life = 2 #군인의 목숨\n",
        "    noble_life = 2 #귀족의 목숨\n",
        "    print(\"\\n\")\n",
        "    while(1):\n",
        "        print(\"{}일 낮이 밝았습니다.\".format(date))\n",
        "        print(\"투표가 진행중입니다.\")\n",
        "        sleep(1)\n",
        "        if special_case: \n",
        "            if smart_maphia_win_drawtime(checking_number,Gamer):\n",
        "                print(\"마피아의 수와 시민의 수가 동률입니다. 마피아의 승리입니다.\")\n",
        "                who_is_winner = \"maphia\"\n",
        "                break\n",
        "            #마피아가 마피아를 투표하지 못하게 하는 기능 구현. 마피아가 운좋게 투표로 죽을 확률 감소시킨다. 여기서는 절반 감소로 세팅\n",
        "            die_people = smart_maphia_choice(Gamer,citizens_number)\n",
        "        else:\n",
        "            die_people = choice(Gamer)\n",
        "        if ((is_target_maphia(target) == True) and (is_exist_police == True)): #경찰이 아직 살아있고 전날에 찾은 target이 마피아일때 발동\n",
        "            Gamer.remove(target)\n",
        "            target = 0\n",
        "            print(\"경찰의 도움으로 마피아가 투표로 사망했습니다\")\n",
        "        else:\n",
        "            if(die_people_name(die_people,citizens_number) == \"귀족\" and noble_life == 2): #귀족의 목숨이 2개일때만 발동\n",
        "                noble_life = noble_work(noble_life)\n",
        "                print(\"귀족의 능력으로 투표로 죽지않았습니다 (이제 귀족의 능력은 소멸됩니다)\")\n",
        "            else:\n",
        "                Gamer.remove(die_people)\n",
        "                if die_people_name(die_people,citizens_number) == \"의사\":\n",
        "                    print(\"우리의 의사가 투표로 사망했습니다\")\n",
        "                    #실제 게임에서는 안알려주는게 맞지만 코드의 분석을 위해 사용\n",
        "                    checking_number-=1 #시민의 수가 줄면 checking_number도 이에 맞게 감소해야함\n",
        "                    is_exist_doctor = False\n",
        "                elif die_people_name(die_people,citizens_number) == \"경찰\":\n",
        "                    print(\"우리의 경찰이 투표로 사망했습니다\")\n",
        "                    #실제 게임에서는 안알려주는게 맞지만 코드의 분석을 위해 사용\n",
        "                    checking_number-=1\n",
        "                    is_exist_police = False\n",
        "                elif die_people_name(die_people,citizens_number) == \"군인\":\n",
        "                    print(\"우리의 군인이 투표로 사망했습니다\")\n",
        "                    checking_number-=1\n",
        "                elif die_people_name(die_people,citizens_number) == \"귀족\":\n",
        "                    print(\"우리의 귀족이 능력을 소멸하여 투표로 사망했습니다\")\n",
        "                    checking_number-=1\n",
        "                elif die_people_name(die_people,citizens_number) == \"시민\":\n",
        "                    checking_number-=1\n",
        "                    print(\"선량한 시민이 투표로 사망했습니다\")\n",
        "                elif die_people_name(die_people,citizens_number) == \"마피아\":\n",
        "                    #pass\n",
        "                    print(\"운좋게도 마피아가 투표로 사망했습니다\")\n",
        "        print(\"생존자 : \",game_like_real(Gamer,citizens_number))\n",
        "        is_exist_citizens = checking_exist_citizens(Gamer, citizens_number)\n",
        "        is_exist_maphias = checking_exist_maphia(Gamer, citizens_number)\n",
        "        if (is_exist_citizens == False): #투표로 인해 시민이 전멸하면 바로 게임종료\n",
        "            who_is_winner = \"maphia\"\n",
        "            break\n",
        "        elif (is_exist_maphias == False): #투표로 인해 마피아가 전멸하면 바로 게임종료\n",
        "            who_is_winner = \"citizen\"\n",
        "            break\n",
        "        print(\"{}일 밤이 밝았습니다\".format(date))\n",
        "        if(is_exist_police == True): \n",
        "            #target = police_work_uglycase(Gamer,citizens_number) \n",
        "            target = police_work_smartcase(Gamer,citizens_number)\n",
        "        die_people = choice(Gamer[:checking_number]) #checking_number로 인해 올바르게 시민만 찾아 죽일 수 있음\n",
        "        if(is_exist_doctor == True):\n",
        "            saver = doctor_work(Gamer) #의사가 살릴 대상 saver에 저장\n",
        "        print(\"결과를 발표하겠습니다\")\n",
        "        sleep(1)\n",
        "        if (saver == die_people):\n",
        "            print(\"의사의 도움으로 극적으로 살아났습니다!!!!!\")\n",
        "            saver = -10\n",
        "        else:\n",
        "            if die_people_name(die_people,citizens_number) == \"군인\" and army_life == 2:\n",
        "                army_life = army_work(army_life)\n",
        "                print(\"군인의 능력으로 마피아의 습격을 견뎠습니다!!!!!(이제 군인의 능력은 소멸됩니다)\")\n",
        "                saver = -10\n",
        "                #의사의 능력을 우선순위로 책정하기 위해 군인의 능력을 else에 배치\n",
        "            else:\n",
        "                Gamer.remove(die_people)\n",
        "                checking_number-=1\n",
        "                saver = -10\n",
        "                if die_people_name(die_people,citizens_number) == \"의사\":\n",
        "                    print(\"우리의 의사가 마피아의 습격으로 사망했습니다\")\n",
        "                    #실제 게임에서는 안알려주는게 맞지만 코드의 분석을 위해 사용\n",
        "                    is_exist_doctor = False\n",
        "                elif die_people_name(die_people,citizens_number) == \"군인\":\n",
        "                    #pass\n",
        "                    print(\"우리의 군인이 능력을 소멸하여 마피아의 습격으로 사망했습니다\")\n",
        "                elif die_people_name(die_people,citizens_number) == \"경찰\":\n",
        "                    print(\"우리의 경찰이 마피아의 습격으로 사망했습니다\")\n",
        "                    is_exist_police = False\n",
        "                elif die_people_name(die_people,citizens_number) == \"귀족\":\n",
        "                    #pass\n",
        "                    print(\"우리의 귀족이 마피아의 습격으로 사망했습니다\")\n",
        "                else:\n",
        "                    print(\"선량한 시민이 마피아의 습격으로 사망했습니다\")\n",
        "                    #pass\n",
        "        print(\"생존자 : \",game_like_real(Gamer,citizens_number))\n",
        "        print(\"\\n\")\n",
        "        is_exist_citizens = checking_exist_citizens(Gamer, citizens_number)\n",
        "        is_exist_maphias = checking_exist_maphia(Gamer, citizens_number)\n",
        "        if (is_exist_citizens == False): #마피아의 습격으로 시민이 전멸하면 break\n",
        "            who_is_winner = \"maphia\"\n",
        "            break\n",
        "        elif (is_exist_maphias == False): #사실 필요없을듯\n",
        "            who_is_winner = \"citizen\"\n",
        "            break\n",
        "        date+=1 # 실제 게임처럼 구현하기 위해 day 도입\n",
        "    return who_is_winner #while 무한루프를 빠져나와 최종적으로 who_is_winner를 리턴 \n",
        "\n",
        "total_citizen_win = 0\n",
        "total_maphia_win = 0\n",
        "#k = 100000\n",
        "k = 1"
      ]
    },
    {
      "cell_type": "code",
      "source": [
        "for i in range(k):\n",
        "    who_is_winner = game_start(citizens_number, mapia_number)\n",
        "    array_for_smartpolice = [0] #array를 다시 초기화해줘야 함\n",
        "    if who_is_winner == \"maphia\":\n",
        "        total_maphia_win +=1\n",
        "    else:\n",
        "        total_citizen_win +=1\n",
        "    print(\"게임이 종료되었습니다\")\n",
        "    print(\"{} 팀의 승리입니다\".format(who_is_winner))\n",
        "  #print(\"시민팀은 {}번 이겼고 : 마피아팀은 {}번 이겼습니다 \".format(total_citizen_win,total_maphia_win))"
      ],
      "metadata": {
        "colab": {
          "base_uri": "https://localhost:8080/"
        },
        "id": "xdiri6kCJyQu",
        "outputId": "f624f78a-1512-4642-be5f-1d1be88c4dd1"
      },
      "execution_count": null,
      "outputs": [
        {
          "output_type": "stream",
          "name": "stdout",
          "text": [
            "참가자 :  ['민찬', '예훈', '창한', '하운', '정윤', '민지', '규민', '지호', '시영', '민혁', '승찬', '석문', '서윤', '준철', '기훈', '우상', '세진 ', '상원', '해경']\n",
            "게임 세팅이 완료되었습니다\n",
            "마피아 게임 시작합니다\n",
            "참가자 :  ['민찬', '예훈', '창한', '하운', '정윤', '경찰', '규민', '의사', '시영', '군인', '승찬', '석문', '서윤', '귀족', '기훈', '마피아', '마피아', '마피아', '마피아']\n",
            "\n",
            "\n",
            "1일 낮이 밝았습니다.\n",
            "투표가 진행중입니다.\n",
            "귀족의 능력으로 투표로 죽지않았습니다 (이제 귀족의 능력은 소멸됩니다)\n",
            "생존자 :  ['민찬', '예훈', '창한', '하운', '정윤', '경찰', '규민', '의사', '시영', '군인', '승찬', '석문', '서윤', '귀족', '기훈', '마피아', '마피아', '마피아', '마피아']\n",
            "1일 밤이 밝았습니다\n",
            "경찰은 한명을 지목하여 마피아인지 아닌지 확인합니다\n",
            "경찰이 지목한 사람은 마피아가 맞습니다\n",
            "의사는 살릴 대상을 선택합니다\n",
            "결과를 발표하겠습니다\n",
            "우리의 귀족이 마피아의 습격으로 사망했습니다\n",
            "생존자 :  ['민찬', '예훈', '창한', '하운', '정윤', '경찰', '규민', '의사', '시영', '군인', '승찬', '석문', '서윤', '기훈', '마피아', '마피아', '마피아', '마피아']\n",
            "\n",
            "\n",
            "2일 낮이 밝았습니다.\n",
            "투표가 진행중입니다.\n",
            "경찰의 도움으로 마피아가 투표로 사망했습니다\n",
            "생존자 :  ['민찬', '예훈', '창한', '하운', '정윤', '경찰', '규민', '의사', '시영', '군인', '승찬', '석문', '서윤', '기훈', '마피아', '마피아', '마피아']\n",
            "2일 밤이 밝았습니다\n",
            "경찰은 한명을 지목하여 마피아인지 아닌지 확인합니다\n",
            "경찰이 지목한 사람은 선량한 시민입니다\n",
            "의사는 살릴 대상을 선택합니다\n",
            "결과를 발표하겠습니다\n",
            "선량한 시민이 마피아의 습격으로 사망했습니다\n",
            "생존자 :  ['민찬', '예훈', '창한', '하운', '정윤', '경찰', '규민', '의사', '시영', '군인', '승찬', '석문', '서윤', '마피아', '마피아', '마피아']\n",
            "\n",
            "\n",
            "3일 낮이 밝았습니다.\n",
            "투표가 진행중입니다.\n",
            "선량한 시민이 투표로 사망했습니다\n",
            "생존자 :  ['예훈', '창한', '하운', '정윤', '경찰', '규민', '의사', '시영', '군인', '승찬', '석문', '서윤', '마피아', '마피아', '마피아']\n",
            "3일 밤이 밝았습니다\n",
            "경찰은 한명을 지목하여 마피아인지 아닌지 확인합니다\n",
            "경찰이 지목한 사람은 마피아가 맞습니다\n",
            "의사는 살릴 대상을 선택합니다\n",
            "결과를 발표하겠습니다\n",
            "선량한 시민이 마피아의 습격으로 사망했습니다\n",
            "생존자 :  ['예훈', '창한', '하운', '정윤', '경찰', '규민', '의사', '시영', '군인', '승찬', '서윤', '마피아', '마피아', '마피아']\n",
            "\n",
            "\n",
            "4일 낮이 밝았습니다.\n",
            "투표가 진행중입니다.\n",
            "경찰의 도움으로 마피아가 투표로 사망했습니다\n",
            "생존자 :  ['예훈', '창한', '하운', '정윤', '경찰', '규민', '의사', '시영', '군인', '승찬', '서윤', '마피아', '마피아']\n",
            "4일 밤이 밝았습니다\n",
            "경찰은 한명을 지목하여 마피아인지 아닌지 확인합니다\n",
            "경찰이 지목한 사람은 선량한 시민입니다\n",
            "의사는 살릴 대상을 선택합니다\n",
            "결과를 발표하겠습니다\n",
            "선량한 시민이 마피아의 습격으로 사망했습니다\n",
            "생존자 :  ['예훈', '창한', '정윤', '경찰', '규민', '의사', '시영', '군인', '승찬', '서윤', '마피아', '마피아']\n",
            "\n",
            "\n",
            "5일 낮이 밝았습니다.\n",
            "투표가 진행중입니다.\n",
            "우리의 의사가 투표로 사망했습니다\n",
            "생존자 :  ['예훈', '창한', '정윤', '경찰', '규민', '시영', '군인', '승찬', '서윤', '마피아', '마피아']\n",
            "5일 밤이 밝았습니다\n",
            "경찰은 한명을 지목하여 마피아인지 아닌지 확인합니다\n",
            "경찰이 지목한 사람은 선량한 시민입니다\n",
            "결과를 발표하겠습니다\n",
            "군인의 능력으로 마피아의 습격을 견뎠습니다!!!!!(이제 군인의 능력은 소멸됩니다)\n",
            "생존자 :  ['예훈', '창한', '정윤', '경찰', '규민', '시영', '군인', '승찬', '서윤', '마피아', '마피아']\n",
            "\n",
            "\n",
            "6일 낮이 밝았습니다.\n",
            "투표가 진행중입니다.\n",
            "선량한 시민이 투표로 사망했습니다\n",
            "생존자 :  ['창한', '정윤', '경찰', '규민', '시영', '군인', '승찬', '서윤', '마피아', '마피아']\n",
            "6일 밤이 밝았습니다\n",
            "경찰은 한명을 지목하여 마피아인지 아닌지 확인합니다\n",
            "경찰이 지목한 사람은 선량한 시민입니다\n",
            "결과를 발표하겠습니다\n",
            "선량한 시민이 마피아의 습격으로 사망했습니다\n",
            "생존자 :  ['창한', '경찰', '규민', '시영', '군인', '승찬', '서윤', '마피아', '마피아']\n",
            "\n",
            "\n",
            "7일 낮이 밝았습니다.\n",
            "투표가 진행중입니다.\n",
            "선량한 시민이 투표로 사망했습니다\n",
            "생존자 :  ['창한', '경찰', '규민', '시영', '군인', '승찬', '마피아', '마피아']\n",
            "7일 밤이 밝았습니다\n",
            "경찰은 한명을 지목하여 마피아인지 아닌지 확인합니다\n",
            "경찰이 지목한 사람은 마피아가 맞습니다\n",
            "결과를 발표하겠습니다\n",
            "선량한 시민이 마피아의 습격으로 사망했습니다\n",
            "생존자 :  ['창한', '경찰', '규민', '군인', '승찬', '마피아', '마피아']\n",
            "\n",
            "\n",
            "8일 낮이 밝았습니다.\n",
            "투표가 진행중입니다.\n",
            "경찰의 도움으로 마피아가 투표로 사망했습니다\n",
            "생존자 :  ['창한', '경찰', '규민', '군인', '승찬', '마피아']\n",
            "8일 밤이 밝았습니다\n",
            "경찰은 한명을 지목하여 마피아인지 아닌지 확인합니다\n",
            "경찰이 지목한 사람은 마피아가 맞습니다\n",
            "결과를 발표하겠습니다\n",
            "우리의 경찰이 마피아의 습격으로 사망했습니다\n",
            "생존자 :  ['창한', '규민', '군인', '승찬', '마피아']\n",
            "\n",
            "\n",
            "9일 낮이 밝았습니다.\n",
            "투표가 진행중입니다.\n",
            "선량한 시민이 투표로 사망했습니다\n",
            "생존자 :  ['규민', '군인', '승찬', '마피아']\n",
            "9일 밤이 밝았습니다\n",
            "결과를 발표하겠습니다\n",
            "우리의 군인이 능력을 소멸하여 마피아의 습격으로 사망했습니다\n",
            "생존자 :  ['규민', '승찬', '마피아']\n",
            "\n",
            "\n",
            "10일 낮이 밝았습니다.\n",
            "투표가 진행중입니다.\n",
            "선량한 시민이 투표로 사망했습니다\n",
            "생존자 :  ['규민', '마피아']\n",
            "10일 밤이 밝았습니다\n",
            "결과를 발표하겠습니다\n",
            "선량한 시민이 마피아의 습격으로 사망했습니다\n",
            "생존자 :  ['마피아']\n",
            "\n",
            "\n",
            "게임이 종료되었습니다\n",
            "maphia 팀의 승리입니다\n"
          ]
        }
      ]
    },
    {
      "cell_type": "markdown",
      "source": [
        "**2. 데이터 수집을 위해, 위 코드를 분석용으로 전환합니다**"
      ],
      "metadata": {
        "id": "iNkHZIO3LFYm"
      }
    },
    {
      "cell_type": "code",
      "source": [
        "from random import *\n",
        "from copy import *\n",
        "from time import *\n",
        "citizens_number = int(input(\"시민의 수를 입력하세요 : \"))\n",
        "mapia_number = int(input(\"마피아의 수를 입력하세요 : \"))\n",
        "special_case = int(input(\"speical case를 도입할건지 선택하세요. [1 : true. 0 : false] : \"))\n",
        "array_for_smartpolice = [0]\n",
        "#smart_police을 위한 배열\n",
        "def checking_exist_maphia(array,number_between_citizens_maphias):\n",
        "    for a in array:\n",
        "        if(a>number_between_citizens_maphias):\n",
        "            return True    \n",
        "    return False\n",
        "def checking_exist_police(array):\n",
        "    for a in array:\n",
        "        if(a == 0):\n",
        "            return True    \n",
        "    return False\n",
        "def checking_exist_doctor(array):\n",
        "    for a in array:\n",
        "        if(a == -1):\n",
        "            return True    \n",
        "    return False\n",
        "def checking_exist_citizens(array,number_between_citizens_maphias):\n",
        "    for a in array:\n",
        "        if (a<=number_between_citizens_maphias):\n",
        "            return True\n",
        "    return False\n",
        "def set_police_among_citizen(array,citizens_number):\n",
        "    police = randrange(0,citizens_number) #경찰은 0이다\n",
        "    array[police] = 0\n",
        "    return array\n",
        "def set_doctor_among_citizen(array, citizens_number):\n",
        "    while True:\n",
        "           doctor = randrange(0,citizens_number)\n",
        "           if array[doctor]  == 0: #의사와 경찰이 겹치면 안된다. 의사는 -1이다\n",
        "               continue\n",
        "           break\n",
        "    array[doctor] = -1\n",
        "    return array\n",
        "def set_army_among_citizen(array, citizens_number):\n",
        "    while True:\n",
        "        army = randrange(0,citizens_number)\n",
        "        if array[army] == 0 or array[army] == -1: # 군인 의사 경찰이 겹치면 안된다. 군인은 -2이다\n",
        "            continue\n",
        "        break\n",
        "    array[army] = -2\n",
        "    return array\n",
        "def set_noble_among_citizen(array, citizens_number):\n",
        "    while True:\n",
        "        noble = randrange(0,citizens_number)\n",
        "        if array[noble] == 0 or array[noble] == -1 or array[noble] == -2: # 귀족 군인 의사 경찰이 겹치면 안된다. 귀족은 -3이다\n",
        "            continue\n",
        "        break\n",
        "    array[noble] = -3\n",
        "    return array\n",
        "def police_work_uglycase(array,citizens_number):\n",
        "    #중복 검사 허용하는 ugly 경찰\n",
        "    #print(\"경찰은 한명을 지목하여 마피아인지 아닌지 확인합니다\")\n",
        "    while True:\n",
        "        key = choice(array)\n",
        "        if key == 0:\n",
        "            continue #경찰은 자기자신을 지목하지 못한다\n",
        "        break\n",
        "    if (key > citizens_number):\n",
        "        #print(\"경찰이 지목한 사람은 마피아가 맞습니다\")\n",
        "        target = key\n",
        "        return target\n",
        "    else:\n",
        "        #print(\"경찰이 지목한 사람은 선량한 시민입니다\")\n",
        "        target = 0\n",
        "        return target\n",
        "\n",
        "def police_work_smartcase(array,citizens_number):\n",
        "    #중복 검사 허용하지 않는 경찰.\n",
        "    copy_array = deepcopy(array)\n",
        "    #깊은 복사의 개념. import copy의 deepcopy 함수로 구현. 원래 array 값 훼손하지 않기 위해 구현\n",
        "    for smart_key in array_for_smartpolice:\n",
        "        if(smart_key in copy_array):\n",
        "            copy_array.remove(smart_key)\n",
        "    #print(\"경찰은 한명을 지목하여 마피아인지 아닌지 확인합니다\")\n",
        "    key = choice(copy_array)\n",
        "    #전체 array에서 smart_key_for_smartpolice 배열을 뺀 배열을 정의\n",
        "    #최초 smart_array에 0을 넣음으로써 remove 에러 안뜨기 & 경찰 자기자신 안고르기 효과 일타이피\n",
        "    if (key > citizens_number):\n",
        "        #print(\"경찰이 지목한 사람은 마피아가 맞습니다\")\n",
        "        target = key\n",
        "        nn=0\n",
        "        for smart_key in array_for_smartpolice:\n",
        "            if key == smart_key:\n",
        "                nn+=1\n",
        "        if(nn==0):\n",
        "            array_for_smartpolice.append(key)\n",
        "        return target #마피아를 찾으면 마피아를 target에 넣어주고 리턴\n",
        "    else:\n",
        "        #print(\"경찰이 지목한 사람은 선량한 시민입니다\")\n",
        "        target = 0\n",
        "        nn=0\n",
        "        for smart_key in array_for_smartpolice:\n",
        "            if key == smart_key:\n",
        "                nn+=1\n",
        "        if(nn==0):\n",
        "            array_for_smartpolice.append(key)\n",
        "        return target #마피아가 아니면 0값을 target에 넣어주고 리턴\n",
        "\n",
        "def doctor_work(array):\n",
        "    #print(\"의사는 살릴 대상을 선택합니다\")\n",
        "    saver = choice(array)\n",
        "    return saver #살릴 사람 무작위 선택(자기자신 포함)\n",
        "def army_work(army_life):\n",
        "    army_life=1\n",
        "    return army_life #군인 생명 하나 단축\n",
        "def noble_work(noble_life):\n",
        "    noble_life=1\n",
        "    return noble_life #의사 생명 하나 단축\n",
        "def is_target_maphia(target):\n",
        "    if target == 0:\n",
        "        return False\n",
        "    else:\n",
        "        return True\n",
        "def die_people_name(die_people,citizens_number):\n",
        "    if die_people == -3:\n",
        "        result = \"귀족\"\n",
        "        return result\n",
        "    elif die_people == -2:\n",
        "        result = \"군인\"\n",
        "        return result\n",
        "    elif die_people == -1:\n",
        "        result = \"의사\"\n",
        "        return result\n",
        "    elif die_people == 0:\n",
        "        result = \"경찰\"\n",
        "        return result\n",
        "    elif die_people <= citizens_number:\n",
        "        result = \"시민\"\n",
        "        return result\n",
        "    else:\n",
        "        result = \"마피아\"\n",
        "        return result\n",
        "    \n",
        "def first_game_like_real(array,citizens_number): #실제 이름을 넣어주어 실감나게 구현\n",
        "    array = list(map(str,array))\n",
        "    for a in range(len(array)):\n",
        "        if array[a] == \"0\":\n",
        "            array[a] = \"지훈\"\n",
        "        elif array[a] == \"1\":\n",
        "            array[a] = \"민찬\"\n",
        "        elif array[a] == \"2\":\n",
        "            array[a] = \"예훈\"\n",
        "        elif array[a] == \"3\":\n",
        "            array[a] = \"창한\"\n",
        "        elif array[a] == \"4\":\n",
        "            array[a] = \"하운\"\n",
        "        elif array[a] == \"5\":\n",
        "            array[a] = \"정윤\"\n",
        "        elif array[a] == \"6\":\n",
        "            array[a] = \"민지\"\n",
        "        elif array[a] == \"7\":\n",
        "            array[a] = \"규민\"\n",
        "        elif array[a] == \"8\":\n",
        "            array[a] = \"지호\"\n",
        "        elif array[a] == \"9\":\n",
        "            array[a] = \"시영\"\n",
        "        elif array[a] == \"10\":\n",
        "            array[a] = \"민혁\"\n",
        "        elif array[a] == \"11\":\n",
        "            array[a] = \"승찬\"\n",
        "        elif array[a] == \"12\":\n",
        "            array[a] = \"석문\"\n",
        "        elif array[a] == \"13\":\n",
        "            array[a] = \"서윤\"\n",
        "        elif array[a] == \"14\":\n",
        "            array[a] = \"준철\"\n",
        "        elif array[a] == \"15\":\n",
        "            array[a] = \"기훈\"\n",
        "        elif array[a] == \"16\":\n",
        "            array[a] = \"우상\"\n",
        "        elif array[a] == \"17\":\n",
        "            array[a] = \"세진 \"\n",
        "        elif array[a] == \"18\":\n",
        "            array[a] = \"상원\"\n",
        "        elif array[a] == \"19\":\n",
        "            array[a] = \"해경\"\n",
        "        elif array[a] == \"20\":\n",
        "            array[a] = \"성진\"\n",
        "    return array\n",
        "def game_like_real(array,citizens_number): #실제 이름을 넣어주어 실감나게 구현\n",
        "    array = list(map(str,array))\n",
        "    for a in range(len(array)):\n",
        "        if int(array[a]) > citizens_number:\n",
        "            array[a] = \"마피아\"\n",
        "        elif array[a] == \"-3\":\n",
        "            array[a] = \"귀족\"\n",
        "        elif array[a] == \"-2\":\n",
        "            array[a] = \"군인\"\n",
        "        elif array[a] == \"-1\":\n",
        "            array[a] = \"의사\"\n",
        "        elif array[a] == \"0\":\n",
        "            array[a] = \"경찰\"\n",
        "        elif array[a] == \"1\":\n",
        "            array[a] = \"민찬\"\n",
        "        elif array[a] == \"2\":\n",
        "            array[a] = \"예훈\"\n",
        "        elif array[a] == \"3\":\n",
        "            array[a] = \"창한\"\n",
        "        elif array[a] == \"4\":\n",
        "            array[a] = \"하운\"\n",
        "        elif array[a] == \"5\":\n",
        "            array[a] = \"정윤\"\n",
        "        elif array[a] == \"6\":\n",
        "            array[a] = \"민지\"\n",
        "        elif array[a] == \"7\":\n",
        "            array[a] = \"규민\"\n",
        "        elif array[a] == \"8\":\n",
        "            array[a] = \"지호\"\n",
        "        elif array[a] == \"9\":\n",
        "            array[a] = \"시영\"\n",
        "        elif array[a] == \"10\":\n",
        "            array[a] = \"민혁\"\n",
        "        elif array[a] == \"11\":\n",
        "            array[a] = \"승찬\"\n",
        "        elif array[a] == \"12\":\n",
        "            array[a] = \"석문\"\n",
        "        elif array[a] == \"13\":\n",
        "            array[a] = \"서윤\"\n",
        "        elif array[a] == \"14\":\n",
        "            array[a] = \"준철\"\n",
        "        elif array[a] == \"15\":\n",
        "            array[a] = \"기훈\"\n",
        "        elif array[a] == \"16\":\n",
        "            array[a] = \"우상\"\n",
        "        elif array[a] == \"17\":\n",
        "            array[a] = \"세진 \"\n",
        "        elif array[a] == \"18\":\n",
        "            array[a] = \"상원\"\n",
        "        elif array[a] == \"19\":\n",
        "            array[a] = \"해경\"\n",
        "        elif array[a] == \"20\":\n",
        "            array[a] = \"성진\"\n",
        "    return array\n",
        "def smart_maphia_win_drawtime(checking_number,Gamer):\n",
        "    if checking_number == len(Gamer)-checking_number:\n",
        "        return True\n",
        "    else:\n",
        "        return False\n",
        "def smart_maphia_choice(Gamer,citizens_number):\n",
        "    special_Gamer = []\n",
        "    for people in Gamer:\n",
        "        if people<=citizens_number:\n",
        "            special_Gamer.append(people)\n",
        "            special_Gamer.append(people)\n",
        "        else:\n",
        "            special_Gamer.append(people)\n",
        "    #시민 2 마피아 1의 비율로 확률 조정\n",
        "    die_people = choice(special_Gamer)\n",
        "    #print(special_Gamer)\n",
        "    return die_people\n",
        "\n",
        "def game_start(citizens_number,maphia_number):\n",
        "    date=1\n",
        "    checking_number = citizens_number\n",
        "    #checking_number : 시민의 수가 줄면 하나씩 줄어든다. 마피아가 밤에 시민을 찾아 죽일때 사용\n",
        "    Citizens = list(range(1,citizens_number+1))\n",
        "    Mapias = list(range(citizens_number+1,citizens_number + mapia_number+1))\n",
        "    Gamer = Citizens + Mapias\n",
        "    #print(\"참가자 : \",first_game_like_real(Gamer,citizens_number))\n",
        "    Gamer = set_police_among_citizen(Gamer,citizens_number)\n",
        "    Gamer = set_doctor_among_citizen(Gamer, citizens_number)\n",
        "    Gamer = set_army_among_citizen(Gamer,citizens_number)\n",
        "    Gamer = set_noble_among_citizen(Gamer,citizens_number)\n",
        "    #print(\"게임 세팅이 완료되었습니다\")\n",
        "    #print(\"마피아 게임 시작합니다\")\n",
        "    #print(\"참가자 : \",game_like_real(Gamer,citizens_number))\n",
        "    is_exist_citizens = True\n",
        "    is_exist_maphias = True\n",
        "    is_exist_police  = True\n",
        "    is_exist_doctor = True\n",
        "    target = 0 #임시. 마피아를 찾으면 양의 정수형태로 바뀌게 코드 구현\n",
        "    saver = -10 #임시. 게임에 버그를 안주기 위해 안쓰는 음수값 하나 선택\n",
        "    army_life = 2 #군인의 목숨\n",
        "    noble_life = 2 #귀족의 목숨\n",
        "    #print(\"\\n\")\n",
        "    while(1):\n",
        "        #print(\"{}일 낮이 밝았습니다.\".format(date))\n",
        "        #print(\"투표가 진행중입니다.\")\n",
        "        #sleep(1)\n",
        "        if special_case: \n",
        "            if smart_maphia_win_drawtime(checking_number,Gamer):\n",
        "                #print(\"마피아의 수와 시민의 수가 동률입니다. 마피아의 승리입니다.\")\n",
        "                who_is_winner = \"maphia\"\n",
        "                break\n",
        "            #마피아가 마피아를 투표하지 못하게 하는 기능 구현. 마피아가 운좋게 투표로 죽을 확률 감소시킨다. 여기서는 절반 감소로 세팅\n",
        "            die_people = smart_maphia_choice(Gamer,citizens_number)\n",
        "        else:\n",
        "            die_people = choice(Gamer)\n",
        "        if ((is_target_maphia(target) == True) and (is_exist_police == True)): #경찰이 아직 살아있고 전날에 찾은 target이 마피아일때 발동\n",
        "            Gamer.remove(target)\n",
        "            target = 0\n",
        "            #print(\"경찰의 도움으로 마피아가 투표로 사망했습니다\")\n",
        "        else:\n",
        "            if(die_people_name(die_people,citizens_number) == \"귀족\" and noble_life == 2): #귀족의 목숨이 2개일때만 발동\n",
        "                noble_life = noble_work(noble_life)\n",
        "                #print(\"귀족의 능력으로 투표로 죽지않았습니다 (이제 귀족의 능력은 소멸됩니다)\")\n",
        "            else:\n",
        "                Gamer.remove(die_people)\n",
        "                if die_people_name(die_people,citizens_number) == \"의사\":\n",
        "                    #print(\"우리의 의사가 투표로 사망했습니다\")\n",
        "                    #실제 게임에서는 안알려주는게 맞지만 코드의 분석을 위해 사용\n",
        "                    checking_number-=1 #시민의 수가 줄면 checking_number도 이에 맞게 감소해야함\n",
        "                    is_exist_doctor = False\n",
        "                elif die_people_name(die_people,citizens_number) == \"경찰\":\n",
        "                    #print(\"우리의 경찰이 투표로 사망했습니다\")\n",
        "                    #실제 게임에서는 안알려주는게 맞지만 코드의 분석을 위해 사용\n",
        "                    checking_number-=1\n",
        "                    is_exist_police = False\n",
        "                elif die_people_name(die_people,citizens_number) == \"군인\":\n",
        "                    #print(\"우리의 군인이 투표로 사망했습니다\")\n",
        "                    checking_number-=1\n",
        "                elif die_people_name(die_people,citizens_number) == \"귀족\":\n",
        "                    #print(\"우리의 귀족이 능력을 소멸하여 투표로 사망했습니다\")\n",
        "                    checking_number-=1\n",
        "                elif die_people_name(die_people,citizens_number) == \"시민\":\n",
        "                    checking_number-=1\n",
        "                    #print(\"선량한 시민이 투표로 사망했습니다\")\n",
        "                elif die_people_name(die_people,citizens_number) == \"마피아\":\n",
        "                    pass\n",
        "                    #print(\"운좋게도 마피아가 투표로 사망했습니다\")\n",
        "        #print(\"생존자 : \",game_like_real(Gamer,citizens_number))\n",
        "        is_exist_citizens = checking_exist_citizens(Gamer, citizens_number)\n",
        "        is_exist_maphias = checking_exist_maphia(Gamer, citizens_number)\n",
        "        if (is_exist_citizens == False): #투표로 인해 시민이 전멸하면 바로 게임종료\n",
        "            who_is_winner = \"maphia\"\n",
        "            break\n",
        "        elif (is_exist_maphias == False): #투표로 인해 마피아가 전멸하면 바로 게임종료\n",
        "            who_is_winner = \"citizen\"\n",
        "            break\n",
        "        #print(\"{}일 밤이 밝았습니다\".format(date))\n",
        "        if(is_exist_police == True): \n",
        "            #target = police_work_uglycase(Gamer,citizens_number) \n",
        "            target = police_work_smartcase(Gamer,citizens_number)\n",
        "        die_people = choice(Gamer[:checking_number]) #checking_number로 인해 올바르게 시민만 찾아 죽일 수 있음\n",
        "        if(is_exist_doctor == True):\n",
        "            saver = doctor_work(Gamer) #의사가 살릴 대상 saver에 저장\n",
        "        #print(\"결과를 발표하겠습니다\")\n",
        "        #sleep(1)\n",
        "        if (saver == die_people):\n",
        "            #print(\"의사의 도움으로 극적으로 살아났습니다!!!!!\")\n",
        "            saver = -10\n",
        "        else:\n",
        "            if die_people_name(die_people,citizens_number) == \"군인\" and army_life == 2:\n",
        "                army_life = army_work(army_life)\n",
        "                #print(\"군인의 능력으로 마피아의 습격을 견뎠습니다!!!!!(이제 군인의 능력은 소멸됩니다)\")\n",
        "                saver = -10\n",
        "                #의사의 능력을 우선순위로 책정하기 위해 군인의 능력을 else에 배치\n",
        "            else:\n",
        "                Gamer.remove(die_people)\n",
        "                checking_number-=1\n",
        "                saver = -10\n",
        "                if die_people_name(die_people,citizens_number) == \"의사\":\n",
        "                    #print(\"우리의 의사가 마피아의 습격으로 사망했습니다\")\n",
        "                    #실제 게임에서는 안알려주는게 맞지만 코드의 분석을 위해 사용\n",
        "                    is_exist_doctor = False\n",
        "                elif die_people_name(die_people,citizens_number) == \"군인\":\n",
        "                    pass\n",
        "                    #print(\"우리의 군인이 능력을 소멸하여 마피아의 습격으로 사망했습니다\")\n",
        "                elif die_people_name(die_people,citizens_number) == \"경찰\":\n",
        "                    #print(\"우리의 경찰이 마피아의 습격으로 사망했습니다\")\n",
        "                    is_exist_police = False\n",
        "                elif die_people_name(die_people,citizens_number) == \"귀족\":\n",
        "                    pass\n",
        "                    #print(\"우리의 귀족이 마피아의 습격으로 사망했습니다\")\n",
        "                else:\n",
        "                    #print(\"선량한 시민이 마피아의 습격으로 사망했습니다\")\n",
        "                    pass\n",
        "        #print(\"생존자 : \",game_like_real(Gamer,citizens_number))\n",
        "        #print(\"\\n\")\n",
        "        is_exist_citizens = checking_exist_citizens(Gamer, citizens_number)\n",
        "        is_exist_maphias = checking_exist_maphia(Gamer, citizens_number)\n",
        "        if (is_exist_citizens == False): #마피아의 습격으로 시민이 전멸하면 break\n",
        "            who_is_winner = \"maphia\"\n",
        "            break\n",
        "        elif (is_exist_maphias == False): #사실 필요없을듯\n",
        "            who_is_winner = \"citizen\"\n",
        "            break\n",
        "        date+=1 # 실제 게임처럼 구현하기 위해 day 도입\n",
        "    return who_is_winner #while 무한루프를 빠져나와 최종적으로 who_is_winner를 리턴 \n",
        "\n",
        "total_citizen_win = 0\n",
        "total_maphia_win = 0\n",
        "k = 100000\n",
        "#k = 1\n",
        "for i in range(k):\n",
        "    who_is_winner = game_start(citizens_number, mapia_number)\n",
        "    array_for_smartpolice = [0] #array를 다시 초기화해줘야 함\n",
        "    if who_is_winner == \"maphia\":\n",
        "        total_maphia_win +=1\n",
        "    else:\n",
        "        total_citizen_win +=1\n",
        "    #print(\"게임이 종료되었습니다\")\n",
        "    #print(\"{} 팀의 승리입니다\".format(who_is_winner))\n",
        "print(\"시민팀은 {}번 이겼고 : 마피아팀은 {}번 이겼습니다 \".format(total_citizen_win,total_maphia_win))"
      ],
      "metadata": {
        "colab": {
          "base_uri": "https://localhost:8080/"
        },
        "id": "8OtvYtuZKA12",
        "outputId": "83448b6c-ed5c-46d0-c06b-4e3369c58bbd"
      },
      "execution_count": null,
      "outputs": [
        {
          "output_type": "stream",
          "name": "stdout",
          "text": [
            "시민의 수를 입력하세요 : 20\n",
            "마피아의 수를 입력하세요 : 5\n",
            "speical case를 도입할건지 선택하세요. [1 : true. 0 : false] : 1\n",
            "시민팀은 19707번 이겼고 : 마피아팀은 80293번 이겼습니다 \n"
          ]
        }
      ]
    },
    {
      "cell_type": "markdown",
      "source": [
        "위의 과정대로 case마다 시민이 이길 확률을 계산합니다. 이 과정대로 데이터를 수집해 csv파일에 저장해놓았습니다.\n",
        "\n",
        "**3. csv 파일을 불러옵니다.**"
      ],
      "metadata": {
        "id": "c0nskq0DNC_K"
      }
    },
    {
      "cell_type": "code",
      "source": [
        "import pandas as pd\n",
        "maphia = pd.read_csv(\"data_for_maphia.csv\")\n",
        "maphia.head()"
      ],
      "metadata": {
        "colab": {
          "base_uri": "https://localhost:8080/",
          "height": 206
        },
        "id": "KsCnE7Z7L7eX",
        "outputId": "a695e5d6-4023-4133-8895-74638fb9ca3b"
      },
      "execution_count": null,
      "outputs": [
        {
          "output_type": "execute_result",
          "data": {
            "text/html": [
              "\n",
              "  <div id=\"df-4a1fa94e-64f3-4e0c-9fa2-d0885d341e91\">\n",
              "    <div class=\"colab-df-container\">\n",
              "      <div>\n",
              "<style scoped>\n",
              "    .dataframe tbody tr th:only-of-type {\n",
              "        vertical-align: middle;\n",
              "    }\n",
              "\n",
              "    .dataframe tbody tr th {\n",
              "        vertical-align: top;\n",
              "    }\n",
              "\n",
              "    .dataframe thead th {\n",
              "        text-align: right;\n",
              "    }\n",
              "</style>\n",
              "<table border=\"1\" class=\"dataframe\">\n",
              "  <thead>\n",
              "    <tr style=\"text-align: right;\">\n",
              "      <th></th>\n",
              "      <th>citizen_number</th>\n",
              "      <th>maphia_number</th>\n",
              "      <th>probability</th>\n",
              "    </tr>\n",
              "  </thead>\n",
              "  <tbody>\n",
              "    <tr>\n",
              "      <th>0</th>\n",
              "      <td>4</td>\n",
              "      <td>1</td>\n",
              "      <td>45.338</td>\n",
              "    </tr>\n",
              "    <tr>\n",
              "      <th>1</th>\n",
              "      <td>4</td>\n",
              "      <td>2</td>\n",
              "      <td>17.351</td>\n",
              "    </tr>\n",
              "    <tr>\n",
              "      <th>2</th>\n",
              "      <td>4</td>\n",
              "      <td>3</td>\n",
              "      <td>7.141</td>\n",
              "    </tr>\n",
              "    <tr>\n",
              "      <th>3</th>\n",
              "      <td>5</td>\n",
              "      <td>1</td>\n",
              "      <td>47.668</td>\n",
              "    </tr>\n",
              "    <tr>\n",
              "      <th>4</th>\n",
              "      <td>5</td>\n",
              "      <td>2</td>\n",
              "      <td>24.579</td>\n",
              "    </tr>\n",
              "  </tbody>\n",
              "</table>\n",
              "</div>\n",
              "      <button class=\"colab-df-convert\" onclick=\"convertToInteractive('df-4a1fa94e-64f3-4e0c-9fa2-d0885d341e91')\"\n",
              "              title=\"Convert this dataframe to an interactive table.\"\n",
              "              style=\"display:none;\">\n",
              "        \n",
              "  <svg xmlns=\"http://www.w3.org/2000/svg\" height=\"24px\"viewBox=\"0 0 24 24\"\n",
              "       width=\"24px\">\n",
              "    <path d=\"M0 0h24v24H0V0z\" fill=\"none\"/>\n",
              "    <path d=\"M18.56 5.44l.94 2.06.94-2.06 2.06-.94-2.06-.94-.94-2.06-.94 2.06-2.06.94zm-11 1L8.5 8.5l.94-2.06 2.06-.94-2.06-.94L8.5 2.5l-.94 2.06-2.06.94zm10 10l.94 2.06.94-2.06 2.06-.94-2.06-.94-.94-2.06-.94 2.06-2.06.94z\"/><path d=\"M17.41 7.96l-1.37-1.37c-.4-.4-.92-.59-1.43-.59-.52 0-1.04.2-1.43.59L10.3 9.45l-7.72 7.72c-.78.78-.78 2.05 0 2.83L4 21.41c.39.39.9.59 1.41.59.51 0 1.02-.2 1.41-.59l7.78-7.78 2.81-2.81c.8-.78.8-2.07 0-2.86zM5.41 20L4 18.59l7.72-7.72 1.47 1.35L5.41 20z\"/>\n",
              "  </svg>\n",
              "      </button>\n",
              "      \n",
              "  <style>\n",
              "    .colab-df-container {\n",
              "      display:flex;\n",
              "      flex-wrap:wrap;\n",
              "      gap: 12px;\n",
              "    }\n",
              "\n",
              "    .colab-df-convert {\n",
              "      background-color: #E8F0FE;\n",
              "      border: none;\n",
              "      border-radius: 50%;\n",
              "      cursor: pointer;\n",
              "      display: none;\n",
              "      fill: #1967D2;\n",
              "      height: 32px;\n",
              "      padding: 0 0 0 0;\n",
              "      width: 32px;\n",
              "    }\n",
              "\n",
              "    .colab-df-convert:hover {\n",
              "      background-color: #E2EBFA;\n",
              "      box-shadow: 0px 1px 2px rgba(60, 64, 67, 0.3), 0px 1px 3px 1px rgba(60, 64, 67, 0.15);\n",
              "      fill: #174EA6;\n",
              "    }\n",
              "\n",
              "    [theme=dark] .colab-df-convert {\n",
              "      background-color: #3B4455;\n",
              "      fill: #D2E3FC;\n",
              "    }\n",
              "\n",
              "    [theme=dark] .colab-df-convert:hover {\n",
              "      background-color: #434B5C;\n",
              "      box-shadow: 0px 1px 3px 1px rgba(0, 0, 0, 0.15);\n",
              "      filter: drop-shadow(0px 1px 2px rgba(0, 0, 0, 0.3));\n",
              "      fill: #FFFFFF;\n",
              "    }\n",
              "  </style>\n",
              "\n",
              "      <script>\n",
              "        const buttonEl =\n",
              "          document.querySelector('#df-4a1fa94e-64f3-4e0c-9fa2-d0885d341e91 button.colab-df-convert');\n",
              "        buttonEl.style.display =\n",
              "          google.colab.kernel.accessAllowed ? 'block' : 'none';\n",
              "\n",
              "        async function convertToInteractive(key) {\n",
              "          const element = document.querySelector('#df-4a1fa94e-64f3-4e0c-9fa2-d0885d341e91');\n",
              "          const dataTable =\n",
              "            await google.colab.kernel.invokeFunction('convertToInteractive',\n",
              "                                                     [key], {});\n",
              "          if (!dataTable) return;\n",
              "\n",
              "          const docLinkHtml = 'Like what you see? Visit the ' +\n",
              "            '<a target=\"_blank\" href=https://colab.research.google.com/notebooks/data_table.ipynb>data table notebook</a>'\n",
              "            + ' to learn more about interactive tables.';\n",
              "          element.innerHTML = '';\n",
              "          dataTable['output_type'] = 'display_data';\n",
              "          await google.colab.output.renderOutput(dataTable, element);\n",
              "          const docLink = document.createElement('div');\n",
              "          docLink.innerHTML = docLinkHtml;\n",
              "          element.appendChild(docLink);\n",
              "        }\n",
              "      </script>\n",
              "    </div>\n",
              "  </div>\n",
              "  "
            ],
            "text/plain": [
              "   citizen_number  maphia_number  probability\n",
              "0               4              1       45.338\n",
              "1               4              2       17.351\n",
              "2               4              3        7.141\n",
              "3               5              1       47.668\n",
              "4               5              2       24.579"
            ]
          },
          "metadata": {},
          "execution_count": 1
        }
      ]
    },
    {
      "cell_type": "markdown",
      "source": [
        "**4. 위의 데이터를 분석,시각화합니다**"
      ],
      "metadata": {
        "id": "wKuTJznYRu7A"
      }
    },
    {
      "cell_type": "markdown",
      "source": [
        "✅pandas를 활용한 데이터 분석"
      ],
      "metadata": {
        "id": "AkQASFseVOvw"
      }
    },
    {
      "cell_type": "markdown",
      "source": [
        "마피아의 수가 1명일때 시민의 수의 변화에 따른 확률값 분석"
      ],
      "metadata": {
        "id": "RmxPL0bafOJ-"
      }
    },
    {
      "cell_type": "code",
      "source": [
        "maphia[maphia.maphia_number == 1]"
      ],
      "metadata": {
        "colab": {
          "base_uri": "https://localhost:8080/",
          "height": 582
        },
        "id": "kkViynZ6QVT4",
        "outputId": "2445c9cb-97ce-4f24-bf47-dfd15b77372e"
      },
      "execution_count": null,
      "outputs": [
        {
          "output_type": "execute_result",
          "data": {
            "text/html": [
              "\n",
              "  <div id=\"df-dcc207e0-63cf-4236-b915-cf58f45854fd\">\n",
              "    <div class=\"colab-df-container\">\n",
              "      <div>\n",
              "<style scoped>\n",
              "    .dataframe tbody tr th:only-of-type {\n",
              "        vertical-align: middle;\n",
              "    }\n",
              "\n",
              "    .dataframe tbody tr th {\n",
              "        vertical-align: top;\n",
              "    }\n",
              "\n",
              "    .dataframe thead th {\n",
              "        text-align: right;\n",
              "    }\n",
              "</style>\n",
              "<table border=\"1\" class=\"dataframe\">\n",
              "  <thead>\n",
              "    <tr style=\"text-align: right;\">\n",
              "      <th></th>\n",
              "      <th>citizen_number</th>\n",
              "      <th>maphia_number</th>\n",
              "      <th>probability</th>\n",
              "    </tr>\n",
              "  </thead>\n",
              "  <tbody>\n",
              "    <tr>\n",
              "      <th>0</th>\n",
              "      <td>4</td>\n",
              "      <td>1</td>\n",
              "      <td>45.3380</td>\n",
              "    </tr>\n",
              "    <tr>\n",
              "      <th>3</th>\n",
              "      <td>5</td>\n",
              "      <td>1</td>\n",
              "      <td>47.6680</td>\n",
              "    </tr>\n",
              "    <tr>\n",
              "      <th>7</th>\n",
              "      <td>6</td>\n",
              "      <td>1</td>\n",
              "      <td>52.9810</td>\n",
              "    </tr>\n",
              "    <tr>\n",
              "      <th>12</th>\n",
              "      <td>7</td>\n",
              "      <td>1</td>\n",
              "      <td>54.8750</td>\n",
              "    </tr>\n",
              "    <tr>\n",
              "      <th>17</th>\n",
              "      <td>8</td>\n",
              "      <td>1</td>\n",
              "      <td>57.5030</td>\n",
              "    </tr>\n",
              "    <tr>\n",
              "      <th>22</th>\n",
              "      <td>9</td>\n",
              "      <td>1</td>\n",
              "      <td>58.8780</td>\n",
              "    </tr>\n",
              "    <tr>\n",
              "      <th>27</th>\n",
              "      <td>10</td>\n",
              "      <td>1</td>\n",
              "      <td>60.8830</td>\n",
              "    </tr>\n",
              "    <tr>\n",
              "      <th>32</th>\n",
              "      <td>11</td>\n",
              "      <td>1</td>\n",
              "      <td>62.0655</td>\n",
              "    </tr>\n",
              "    <tr>\n",
              "      <th>33</th>\n",
              "      <td>12</td>\n",
              "      <td>1</td>\n",
              "      <td>63.2441</td>\n",
              "    </tr>\n",
              "    <tr>\n",
              "      <th>34</th>\n",
              "      <td>13</td>\n",
              "      <td>1</td>\n",
              "      <td>63.6254</td>\n",
              "    </tr>\n",
              "    <tr>\n",
              "      <th>35</th>\n",
              "      <td>14</td>\n",
              "      <td>1</td>\n",
              "      <td>64.7199</td>\n",
              "    </tr>\n",
              "    <tr>\n",
              "      <th>36</th>\n",
              "      <td>15</td>\n",
              "      <td>1</td>\n",
              "      <td>65.2863</td>\n",
              "    </tr>\n",
              "    <tr>\n",
              "      <th>37</th>\n",
              "      <td>16</td>\n",
              "      <td>1</td>\n",
              "      <td>66.1832</td>\n",
              "    </tr>\n",
              "    <tr>\n",
              "      <th>38</th>\n",
              "      <td>17</td>\n",
              "      <td>1</td>\n",
              "      <td>66.5285</td>\n",
              "    </tr>\n",
              "    <tr>\n",
              "      <th>39</th>\n",
              "      <td>18</td>\n",
              "      <td>1</td>\n",
              "      <td>67.5149</td>\n",
              "    </tr>\n",
              "    <tr>\n",
              "      <th>40</th>\n",
              "      <td>19</td>\n",
              "      <td>1</td>\n",
              "      <td>68.0421</td>\n",
              "    </tr>\n",
              "    <tr>\n",
              "      <th>41</th>\n",
              "      <td>20</td>\n",
              "      <td>1</td>\n",
              "      <td>68.1113</td>\n",
              "    </tr>\n",
              "  </tbody>\n",
              "</table>\n",
              "</div>\n",
              "      <button class=\"colab-df-convert\" onclick=\"convertToInteractive('df-dcc207e0-63cf-4236-b915-cf58f45854fd')\"\n",
              "              title=\"Convert this dataframe to an interactive table.\"\n",
              "              style=\"display:none;\">\n",
              "        \n",
              "  <svg xmlns=\"http://www.w3.org/2000/svg\" height=\"24px\"viewBox=\"0 0 24 24\"\n",
              "       width=\"24px\">\n",
              "    <path d=\"M0 0h24v24H0V0z\" fill=\"none\"/>\n",
              "    <path d=\"M18.56 5.44l.94 2.06.94-2.06 2.06-.94-2.06-.94-.94-2.06-.94 2.06-2.06.94zm-11 1L8.5 8.5l.94-2.06 2.06-.94-2.06-.94L8.5 2.5l-.94 2.06-2.06.94zm10 10l.94 2.06.94-2.06 2.06-.94-2.06-.94-.94-2.06-.94 2.06-2.06.94z\"/><path d=\"M17.41 7.96l-1.37-1.37c-.4-.4-.92-.59-1.43-.59-.52 0-1.04.2-1.43.59L10.3 9.45l-7.72 7.72c-.78.78-.78 2.05 0 2.83L4 21.41c.39.39.9.59 1.41.59.51 0 1.02-.2 1.41-.59l7.78-7.78 2.81-2.81c.8-.78.8-2.07 0-2.86zM5.41 20L4 18.59l7.72-7.72 1.47 1.35L5.41 20z\"/>\n",
              "  </svg>\n",
              "      </button>\n",
              "      \n",
              "  <style>\n",
              "    .colab-df-container {\n",
              "      display:flex;\n",
              "      flex-wrap:wrap;\n",
              "      gap: 12px;\n",
              "    }\n",
              "\n",
              "    .colab-df-convert {\n",
              "      background-color: #E8F0FE;\n",
              "      border: none;\n",
              "      border-radius: 50%;\n",
              "      cursor: pointer;\n",
              "      display: none;\n",
              "      fill: #1967D2;\n",
              "      height: 32px;\n",
              "      padding: 0 0 0 0;\n",
              "      width: 32px;\n",
              "    }\n",
              "\n",
              "    .colab-df-convert:hover {\n",
              "      background-color: #E2EBFA;\n",
              "      box-shadow: 0px 1px 2px rgba(60, 64, 67, 0.3), 0px 1px 3px 1px rgba(60, 64, 67, 0.15);\n",
              "      fill: #174EA6;\n",
              "    }\n",
              "\n",
              "    [theme=dark] .colab-df-convert {\n",
              "      background-color: #3B4455;\n",
              "      fill: #D2E3FC;\n",
              "    }\n",
              "\n",
              "    [theme=dark] .colab-df-convert:hover {\n",
              "      background-color: #434B5C;\n",
              "      box-shadow: 0px 1px 3px 1px rgba(0, 0, 0, 0.15);\n",
              "      filter: drop-shadow(0px 1px 2px rgba(0, 0, 0, 0.3));\n",
              "      fill: #FFFFFF;\n",
              "    }\n",
              "  </style>\n",
              "\n",
              "      <script>\n",
              "        const buttonEl =\n",
              "          document.querySelector('#df-dcc207e0-63cf-4236-b915-cf58f45854fd button.colab-df-convert');\n",
              "        buttonEl.style.display =\n",
              "          google.colab.kernel.accessAllowed ? 'block' : 'none';\n",
              "\n",
              "        async function convertToInteractive(key) {\n",
              "          const element = document.querySelector('#df-dcc207e0-63cf-4236-b915-cf58f45854fd');\n",
              "          const dataTable =\n",
              "            await google.colab.kernel.invokeFunction('convertToInteractive',\n",
              "                                                     [key], {});\n",
              "          if (!dataTable) return;\n",
              "\n",
              "          const docLinkHtml = 'Like what you see? Visit the ' +\n",
              "            '<a target=\"_blank\" href=https://colab.research.google.com/notebooks/data_table.ipynb>data table notebook</a>'\n",
              "            + ' to learn more about interactive tables.';\n",
              "          element.innerHTML = '';\n",
              "          dataTable['output_type'] = 'display_data';\n",
              "          await google.colab.output.renderOutput(dataTable, element);\n",
              "          const docLink = document.createElement('div');\n",
              "          docLink.innerHTML = docLinkHtml;\n",
              "          element.appendChild(docLink);\n",
              "        }\n",
              "      </script>\n",
              "    </div>\n",
              "  </div>\n",
              "  "
            ],
            "text/plain": [
              "    citizen_number  maphia_number  probability\n",
              "0                4              1      45.3380\n",
              "3                5              1      47.6680\n",
              "7                6              1      52.9810\n",
              "12               7              1      54.8750\n",
              "17               8              1      57.5030\n",
              "22               9              1      58.8780\n",
              "27              10              1      60.8830\n",
              "32              11              1      62.0655\n",
              "33              12              1      63.2441\n",
              "34              13              1      63.6254\n",
              "35              14              1      64.7199\n",
              "36              15              1      65.2863\n",
              "37              16              1      66.1832\n",
              "38              17              1      66.5285\n",
              "39              18              1      67.5149\n",
              "40              19              1      68.0421\n",
              "41              20              1      68.1113"
            ]
          },
          "metadata": {},
          "execution_count": 57
        }
      ]
    },
    {
      "cell_type": "code",
      "source": [
        "maphia[maphia.maphia_number==1][\"probability\"]"
      ],
      "metadata": {
        "colab": {
          "base_uri": "https://localhost:8080/"
        },
        "id": "aY-X8UUJS_-2",
        "outputId": "b0a57b8c-90df-41f0-d7bd-6f0c38c0b6f3"
      },
      "execution_count": null,
      "outputs": [
        {
          "output_type": "execute_result",
          "data": {
            "text/plain": [
              "0     45.3380\n",
              "3     47.6680\n",
              "7     52.9810\n",
              "12    54.8750\n",
              "17    57.5030\n",
              "22    58.8780\n",
              "27    60.8830\n",
              "32    62.0655\n",
              "33    63.2441\n",
              "34    63.6254\n",
              "35    64.7199\n",
              "36    65.2863\n",
              "37    66.1832\n",
              "38    66.5285\n",
              "39    67.5149\n",
              "40    68.0421\n",
              "41    68.1113\n",
              "Name: probability, dtype: float64"
            ]
          },
          "metadata": {},
          "execution_count": 58
        }
      ]
    },
    {
      "cell_type": "markdown",
      "source": [
        "마피아의 수가 2명 이하일때와 2명 이상일때의 각각의 모든 case 중 시민이 이길 확률의 평균"
      ],
      "metadata": {
        "id": "E-1xQKDkfXXO"
      }
    },
    {
      "cell_type": "code",
      "source": [
        "print(maphia[maphia.maphia_number<=2][\"probability\"].mean())\n",
        "print(maphia[maphia.maphia_number>2][\"probability\"].mean())"
      ],
      "metadata": {
        "colab": {
          "base_uri": "https://localhost:8080/"
        },
        "id": "Q4DIZPfHTagJ",
        "outputId": "4528652c-98a1-410b-afda-295ce24ae322"
      },
      "execution_count": null,
      "outputs": [
        {
          "output_type": "stream",
          "name": "stdout",
          "text": [
            "49.52738529411764\n",
            "18.192447916666666\n"
          ]
        }
      ]
    },
    {
      "cell_type": "markdown",
      "source": [
        "iloc의 의미"
      ],
      "metadata": {
        "id": "Z84tp_bYwS0g"
      }
    },
    {
      "cell_type": "code",
      "source": [
        "xs = maphia[\"probability\"]\n",
        "xs"
      ],
      "metadata": {
        "colab": {
          "base_uri": "https://localhost:8080/"
        },
        "id": "ApJjyzNZz5gc",
        "outputId": "0692321d-c37c-45a5-a48d-9db34c5b6dc3"
      },
      "execution_count": null,
      "outputs": [
        {
          "output_type": "execute_result",
          "data": {
            "text/plain": [
              "0     45.3380\n",
              "1     17.3510\n",
              "2      7.1410\n",
              "3     47.6680\n",
              "4     24.5790\n",
              "       ...   \n",
              "77    16.1134\n",
              "78    17.2221\n",
              "79    17.9515\n",
              "80    18.6813\n",
              "81    19.7079\n",
              "Name: probability, Length: 82, dtype: float64"
            ]
          },
          "metadata": {},
          "execution_count": 75
        }
      ]
    },
    {
      "cell_type": "code",
      "source": [
        "xx = xs.iloc[0]\n",
        "xx\n",
        "#인덱스 빼고 특정 열의 값만 찾아오는 코드..\n",
        "#iloc을 쓰면 0번째 행의 값을 가져오니까 45.338이 나왔다"
      ],
      "metadata": {
        "colab": {
          "base_uri": "https://localhost:8080/"
        },
        "id": "1tmWZG7EmnMk",
        "outputId": "9285cf6c-dc13-4a52-830d-d3c8e3ec4ac5"
      },
      "execution_count": null,
      "outputs": [
        {
          "output_type": "execute_result",
          "data": {
            "text/plain": [
              "45.338"
            ]
          },
          "metadata": {},
          "execution_count": 76
        }
      ]
    },
    {
      "cell_type": "code",
      "source": [
        "xxx = xs.iloc[:]\n",
        "xxx\n",
        "#이렇게 하니 probability 열의 값들이 다 나왔지만 새로운 인덱스가 추가되어버렸다."
      ],
      "metadata": {
        "colab": {
          "base_uri": "https://localhost:8080/"
        },
        "id": "L2O2NtFr0iPo",
        "outputId": "5116bfb3-6066-41d7-e39e-c099f77a6bc0"
      },
      "execution_count": null,
      "outputs": [
        {
          "output_type": "execute_result",
          "data": {
            "text/plain": [
              "0     45.3380\n",
              "1     17.3510\n",
              "2      7.1410\n",
              "3     47.6680\n",
              "4     24.5790\n",
              "       ...   \n",
              "77    16.1134\n",
              "78    17.2221\n",
              "79    17.9515\n",
              "80    18.6813\n",
              "81    19.7079\n",
              "Name: probability, Length: 82, dtype: float64"
            ]
          },
          "metadata": {},
          "execution_count": 77
        }
      ]
    },
    {
      "cell_type": "code",
      "source": [
        "sss=  list(xs)\n",
        "sss #이렇게 단순히 list로 선언하여 원하는 결과를 도출하였다.\n",
        "# np.array(xs) 이렇게 np의 array로 선언해도 된다"
      ],
      "metadata": {
        "colab": {
          "base_uri": "https://localhost:8080/"
        },
        "id": "CrUd1cDd0vRJ",
        "outputId": "c83ef2e6-8d81-453f-a7d3-65414330b595"
      },
      "execution_count": null,
      "outputs": [
        {
          "output_type": "execute_result",
          "data": {
            "text/plain": [
              "[45.338,\n",
              " 17.351,\n",
              " 7.141,\n",
              " 47.668,\n",
              " 24.579,\n",
              " 9.414,\n",
              " 3.764,\n",
              " 52.981,\n",
              " 27.102,\n",
              " 14.148,\n",
              " 5.409,\n",
              " 2.049,\n",
              " 54.875,\n",
              " 31.455,\n",
              " 16.381,\n",
              " 8.776,\n",
              " 5.455,\n",
              " 57.503,\n",
              " 33.014,\n",
              " 19.777,\n",
              " 10.312,\n",
              " 5.443,\n",
              " 58.878,\n",
              " 36.332,\n",
              " 21.234,\n",
              " 12.742,\n",
              " 6.665,\n",
              " 60.883,\n",
              " 37.288,\n",
              " 25.039,\n",
              " 14.398,\n",
              " 8.566,\n",
              " 62.0655,\n",
              " 63.2441,\n",
              " 63.6254,\n",
              " 64.7199,\n",
              " 65.2863,\n",
              " 66.1832,\n",
              " 66.5285,\n",
              " 67.5149,\n",
              " 68.0421,\n",
              " 68.1113,\n",
              " 39.6213,\n",
              " 40.3948,\n",
              " 42.0742,\n",
              " 43.2944,\n",
              " 44.3949,\n",
              " 45.2033,\n",
              " 45.9242,\n",
              " 46.8149,\n",
              " 47.6355,\n",
              " 48.0054,\n",
              " 25.0512,\n",
              " 26.9143,\n",
              " 28.1077,\n",
              " 29.5839,\n",
              " 30.5253,\n",
              " 31.8134,\n",
              " 32.4912,\n",
              " 33.4723,\n",
              " 34.3459,\n",
              " 35.1136,\n",
              " 16.3284,\n",
              " 17.4645,\n",
              " 19.1454,\n",
              " 20.2378,\n",
              " 21.6247,\n",
              " 22.6713,\n",
              " 23.4592,\n",
              " 24.4958,\n",
              " 25.2068,\n",
              " 25.9012,\n",
              " 9.9238,\n",
              " 11.3634,\n",
              " 12.6162,\n",
              " 14.0412,\n",
              " 14.9498,\n",
              " 16.1134,\n",
              " 17.2221,\n",
              " 17.9515,\n",
              " 18.6813,\n",
              " 19.7079]"
            ]
          },
          "metadata": {},
          "execution_count": 78
        }
      ]
    },
    {
      "cell_type": "markdown",
      "source": [
        "✅matplotlib을 활용한 데이터 시각화"
      ],
      "metadata": {
        "id": "57cIDceIwJKx"
      }
    },
    {
      "cell_type": "markdown",
      "source": [
        "✔**3차원 산점도 그래프**를 통한 시각화(각 축의 데이터의 **리스트화**)"
      ],
      "metadata": {
        "id": "BZwd0cUCh1wr"
      }
    },
    {
      "cell_type": "code",
      "source": [
        "from mpl_toolkits.mplot3d import Axes3D\n",
        "import matplotlib.pyplot as plt\n",
        "import numpy as np\n",
        "\n",
        "#xs = np.array([(xmax - xmin) * np.random.random_sample() + xmin for i in range(n)])\n",
        "xs = list(maphia[\"maphia_number\"])\n",
        "#xs = list(map(int,xs)) float를 int로 전환. 굳이 필요하지 않다. \n",
        "\n",
        "#ys = np.array([(ymax - ymin) * np.random.random_sample() + ymin for i in range(n)])\n",
        "ys = list(maphia[\"citizen_number\"])\n",
        "#ys = list(map(int,ys))\n",
        "\n",
        "#zs = np.array([(zmax - zmin) * np.random.random_sample() + zmin for i in range(n)])\n",
        "zs = list(maphia[\"probability\"])\n",
        "#zs = list(map(int,zs))\n",
        "\n",
        "#color = np.array([(cmax - cmin) * np.random.random_sample() + cmin for i in range(n)])\n",
        "#컬러는 생략하였습니다.\n",
        "\n",
        "fig = plt.figure(figsize=(6, 6))\n",
        "ax = fig.add_subplot(111, projection='3d')\n",
        "ax.scatter(xs, ys, zs,  marker='o', s=15, cmap='Greens')\n",
        "plt.show()"
      ],
      "metadata": {
        "colab": {
          "base_uri": "https://localhost:8080/",
          "height": 357
        },
        "id": "DlMqn8yyazYb",
        "outputId": "d05b0b73-ddf9-435c-ea63-a4f059749dca"
      },
      "execution_count": null,
      "outputs": [
        {
          "output_type": "display_data",
          "data": {
            "image/png": "[encoded data removed]",
            "text/plain": [
              "<Figure size 432x432 with 1 Axes>"
            ]
          },
          "metadata": {
            "needs_background": "light"
          }
        }
      ]
    },
    {
      "cell_type": "markdown",
      "source": [
        "✔**3차원 산점도 그래프**를 통한 시각화(각 축의 데이터의 **np.array화**)"
      ],
      "metadata": {
        "id": "IIyFFCrwiEIq"
      }
    },
    {
      "cell_type": "code",
      "source": [
        "from mpl_toolkits.mplot3d import Axes3D\n",
        "import matplotlib.pyplot as plt\n",
        "import numpy as np\n",
        "\n",
        "#xs = np.array([(xmax - xmin) * np.random.random_sample() + xmin for i in range(n)])\n",
        "xs = np.array(maphia[\"maphia_number\"])\n",
        "#xs = list(map(int,xs)) float를 int로 전환. 굳이 필요하지 않다. \n",
        "\n",
        "#ys = np.array([(ymax - ymin) * np.random.random_sample() + ymin for i in range(n)])\n",
        "ys = np.array(maphia[\"citizen_number\"])\n",
        "#ys = list(map(int,ys))\n",
        "\n",
        "#zs = np.array([(zmax - zmin) * np.random.random_sample() + zmin for i in range(n)])\n",
        "zs = np.array(maphia[\"probability\"])\n",
        "#zs = list(map(int,zs))\n",
        "\n",
        "#color = np.array([(cmax - cmin) * np.random.random_sample() + cmin for i in range(n)])\n",
        "#컬러는 생략하였습니다.\n",
        "\n",
        "fig = plt.figure(figsize=(6, 6))\n",
        "ax = fig.add_subplot(111, projection='3d')\n",
        "ax.scatter(xs, ys, zs,  marker='o', s=15, cmap='Greens')\n",
        "plt.show()"
      ],
      "metadata": {
        "colab": {
          "base_uri": "https://localhost:8080/",
          "height": 357
        },
        "id": "WpiuLC0VhI6p",
        "outputId": "e7e5f8d5-42b3-49c0-ff79-af3709667403"
      },
      "execution_count": null,
      "outputs": [
        {
          "output_type": "display_data",
          "data": {
            "image/png": "[encoded data removed]",
            "text/plain": [
              "<Figure size 432x432 with 1 Axes>"
            ]
          },
          "metadata": {
            "needs_background": "light"
          }
        }
      ]
    },
    {
      "cell_type": "markdown",
      "source": [
        "✔**3D포인트 플롯**을 사용한 데이터 시각화"
      ],
      "metadata": {
        "id": "gyrO8bVU1SOu"
      }
    },
    {
      "cell_type": "code",
      "source": [
        "xdata = np.array(maphia[\"maphia_number\"])\n",
        "ydata = np.array(maphia[\"citizen_number\"])\n",
        "zdata = np.array(maphia[\"probability\"])\n",
        "fig = plt.figure()\n",
        "ax = plt.axes(projection=\"3d\")\n",
        "ax.scatter3D(xdata,ydata,zdata)\n",
        "ax.set_xlabel(\"x\")\n",
        "ax.set_ylabel(\"y\")\n",
        "ax.set_zlabel(\"z\")\n",
        "plt.savefig(\"3d_scatter.png\",dpi=300)"
      ],
      "metadata": {
        "colab": {
          "base_uri": "https://localhost:8080/",
          "height": 248
        },
        "id": "xljckZQ7mnXk",
        "outputId": "29482c2d-2cf1-476c-9682-805b1d3a24b0"
      },
      "execution_count": null,
      "outputs": [
        {
          "output_type": "display_data",
          "data": {
            "image/png": "[encoded data removed]",
            "text/plain": [
              "<Figure size 432x288 with 1 Axes>"
            ]
          },
          "metadata": {
            "needs_background": "light"
          }
        }
      ]
    },
    {
      "cell_type": "markdown",
      "source": [
        "위 그래프들을 보면, 마피아의 수를 고정시킨 상태에서 시민의 수를 늘릴때마다 시민이 이길 확률이 높아짐을 알 수 있다."
      ],
      "metadata": {
        "id": "0bsBAgp_pwSn"
      }
    },
    {
      "cell_type": "code",
      "source": [
        "xdata = np.array(maphia[\"citizen_number\"])\n",
        "ydata = np.array(maphia[\"maphia_number\"])\n",
        "zdata = np.array(maphia[\"probability\"])\n",
        "fig = plt.figure()\n",
        "ax = plt.axes(projection=\"3d\")\n",
        "ax.scatter3D(xdata,ydata,zdata)\n",
        "ax.set_xlabel(\"x\")\n",
        "ax.set_ylabel(\"y\")\n",
        "ax.set_zlabel(\"z\")\n",
        "plt.savefig(\"3d_scatter.png\",dpi=300)"
      ],
      "metadata": {
        "colab": {
          "base_uri": "https://localhost:8080/",
          "height": 248
        },
        "id": "Riwz7uipn8ST",
        "outputId": "e2d8675a-dbef-4b12-8731-a0f66b1834d5"
      },
      "execution_count": null,
      "outputs": [
        {
          "output_type": "display_data",
          "data": {
            "image/png": "[encoded data removed]",
            "text/plain": [
              "<Figure size 432x288 with 1 Axes>"
            ]
          },
          "metadata": {
            "needs_background": "light"
          }
        }
      ]
    },
    {
      "cell_type": "markdown",
      "source": [
        "위 그래프처럼, x축을 citizen_number, y축을 maphia_number로 설정하면 적절하게 데이터의 시각화가 되지 않는다."
      ],
      "metadata": {
        "id": "ZMH-scmOoEYh"
      }
    },
    {
      "cell_type": "markdown",
      "source": [
        "✔**3D라인 플롯**을 사용한 데이터 시각화"
      ],
      "metadata": {
        "id": "bpnoAHq1l-rH"
      }
    },
    {
      "cell_type": "code",
      "source": [
        "fig = plt.figure()\n",
        "#create data for 3d line\n",
        "xline = np.array(maphia[\"maphia_number\"])\n",
        "yline = np.array(maphia[\"citizen_number\"])\n",
        "zline = np.array(maphia[\"probability\"])\n",
        "#3d container\n",
        "ax = plt.axes(projection = '3d')\n",
        "#3d scatter plot\n",
        "ax.plot3D(xline, yline, zline)\n",
        "#give labels\n",
        "ax.set_xlabel('maphia_number')\n",
        "ax.set_ylabel('citizen_number')\n",
        "ax.set_zlabel('probability')\n",
        "#save figure\n",
        "plt.savefig('3d_plot.png', dpi = 300)"
      ],
      "metadata": {
        "colab": {
          "base_uri": "https://localhost:8080/",
          "height": 248
        },
        "id": "e9BsjJuKkrBl",
        "outputId": "8261aafb-ffd9-4868-c9e5-b67072940f00"
      },
      "execution_count": null,
      "outputs": [
        {
          "output_type": "display_data",
          "data": {
            "image/png": "[encoded data removed]",
            "text/plain": [
              "<Figure size 432x288 with 1 Axes>"
            ]
          },
          "metadata": {
            "needs_background": "light"
          }
        }
      ]
    },
    {
      "cell_type": "markdown",
      "source": [
        "위 그래프를 보면, 시민의 수를 고정시킨 상태에서 마피아의 수를 늘릴때마다 시민이 이길 확률이 적어짐을 알 수 있다."
      ],
      "metadata": {
        "id": "8Tvks8J4o4eR"
      }
    },
    {
      "cell_type": "markdown",
      "source": [
        "✔**3D 등고선도**를 사용한 데이터 시각화"
      ],
      "metadata": {
        "id": "GxPRV6lRqFMj"
      }
    },
    {
      "cell_type": "code",
      "source": [
        "# create data points\n",
        "x = np.array(maphia[\"maphia_number\"])\n",
        "y = np.array(maphia[\"citizen_number\"])\n",
        "# create grid\n",
        "X, Y = np.meshgrid(x, y)\n",
        "Z = np.sin(X) - np.sin(X) + np.array(maphia[\"probability\"])\n",
        "\n",
        "# create figure container\n",
        "fig = plt.figure(figsize=(9, 6))\n",
        "ax = plt.axes(projection = '3d')\n",
        "# 3d contour plot\n",
        "ax.contour3D(X, Y, Z, 100, cmap = 'viridis')\n",
        "# set labels\n",
        "ax.set_xlabel('maphia_number')\n",
        "ax.set_ylabel('citizen_ number')\n",
        "ax.set_zlabel('probability')\n",
        "# save figure\n",
        "plt.savefig('3d_contour.png', dpi = 300)"
      ],
      "metadata": {
        "colab": {
          "base_uri": "https://localhost:8080/",
          "height": 414
        },
        "id": "N5p-vw4rlKd3",
        "outputId": "04b7d44c-acb7-40b2-ccbc-f9d850da2407"
      },
      "execution_count": null,
      "outputs": [
        {
          "output_type": "stream",
          "name": "stderr",
          "text": [
            "/usr/local/lib/python3.7/dist-packages/mpl_toolkits/mplot3d/art3d.py:304: VisibleDeprecationWarning: Creating an ndarray from ragged nested sequences (which is a list-or-tuple of lists-or-tuples-or ndarrays with different lengths or shapes) is deprecated. If you meant to do this, you must specify 'dtype=object' when creating the ndarray.\n",
            "  self._segments3d = np.asanyarray(segments)\n"
          ]
        },
        {
          "output_type": "display_data",
          "data": {
            "image/png": "[encoded data removed]",
            "text/plain": [
              "<Figure size 648x432 with 1 Axes>"
            ]
          },
          "metadata": {
            "needs_background": "light"
          }
        }
      ]
    },
    {
      "cell_type": "markdown",
      "source": [
        "✔3D 표면 플롯을 사용한 데이터 시각화"
      ],
      "metadata": {
        "id": "hQo6UOOpv51A"
      }
    },
    {
      "cell_type": "code",
      "source": [
        "x = np.array(maphia[\"maphia_number\"])\n",
        "y = np.array(maphia[\"citizen_number\"])\n",
        "# create grid\n",
        "X, Y = np.meshgrid(x, y)\n",
        "Z = np.sin(X) - np.sin(X) + np.array(maphia[\"probability\"])\n",
        "# create figure container\n",
        "fig = plt.figure(figsize=(9, 6))\n",
        "ax = plt.axes(projection = '3d')\n",
        "# 3d contour plot\n",
        "ax.plot_surface(X, Y, Z, rstride = 1, cstride = 1, cmap = 'inferno')\n",
        "# set labels\n",
        "ax.set_xlabel('maphia_number')\n",
        "ax.set_ylabel('citzien_number')\n",
        "ax.set_zlabel('probabilty')\n",
        "# set point of view, altitude and azimuthal axis\n",
        "ax.view_init(60, 95)\n",
        "# save figure\n",
        "plt.savefig('3d_surface.png', dpi = 300)"
      ],
      "metadata": {
        "colab": {
          "base_uri": "https://localhost:8080/",
          "height": 357
        },
        "id": "lvhK_pD9wCRM",
        "outputId": "1a42ca2f-991a-4acd-fec3-bcb2b6837ff2"
      },
      "execution_count": null,
      "outputs": [
        {
          "output_type": "display_data",
          "data": {
            "image/png": "[encoded data removed]",
            "text/plain": [
              "<Figure size 648x432 with 1 Axes>"
            ]
          },
          "metadata": {
            "needs_background": "light"
          }
        }
      ]
    },
    {
      "cell_type": "markdown",
      "source": [
        "⏰위의 그래프들을 통한 데이터 시각화를 통해 알 수 있는 점\n",
        "\n",
        "▶ 마피아의 수를 고정시킨 상태에서 시민의 수를 증가시키면 시민이 이길 확률(probability)가 올라간다\n",
        "\n",
        "▶ 시민의 수를 고정시킨 상태에서 마피아의 수를 증가시키면 시민이 이길 확률이 감소한다.\n",
        "\n",
        "▶ 위처럼 두 변수중 하나의 변수를 고정시키고 다른 변수를 증가시킬때 확률값의 변화폭은 거의 일정한 패턴을 보인다.\n",
        "\n",
        "▶ 독립변수 maphia_number와  citizen_number를 통해 구해지는 종속변수 probability의 양상을 위 그래프들을 통해 예측할 수 있다."
      ],
      "metadata": {
        "id": "BCzUJuBTxdkD"
      }
    },
    {
      "cell_type": "markdown",
      "source": [
        "**5. 신경망 구현&학습&평가(선형모델이라 가정)**\n",
        "\n",
        "\n",
        "https://kd1658.tistory.com/113 를 참고하였습니다\n",
        "\n",
        "\n",
        "\n"
      ],
      "metadata": {
        "id": "yAQuVDf7rsXE"
      }
    },
    {
      "cell_type": "code",
      "source": [
        "import torch\n",
        "from torch import nn\n",
        "from torch.utils.data import TensorDataset\n",
        "from torch.utils.data import DataLoader\n",
        "\n",
        "import numpy as np\n",
        "import pandas as pd\n",
        "import matplotlib.pyplot as plt \n",
        "import seaborn as sns #matplotlib 보다 빠른 데이터시각화\n",
        "\n",
        "from sklearn import linear_model\n",
        "from sklearn.model_selection import train_test_split\n",
        "import glob"
      ],
      "metadata": {
        "id": "Z6L79ykwAq_D"
      },
      "execution_count": null,
      "outputs": []
    },
    {
      "cell_type": "markdown",
      "source": [
        "우선 maphia_number가 1일경우만 구현해보겠습니다."
      ],
      "metadata": {
        "id": "8OWtkHCBX7BZ"
      }
    },
    {
      "cell_type": "code",
      "source": [
        "first = maphia[maphia.maphia_number==1]\n",
        "first.isnull().sum() # Null 값이 있는지 확인. "
      ],
      "metadata": {
        "colab": {
          "base_uri": "https://localhost:8080/"
        },
        "id": "KIUutM-lXP0w",
        "outputId": "88b9af47-43c0-433a-e2a1-d1a7966420f9"
      },
      "execution_count": null,
      "outputs": [
        {
          "output_type": "execute_result",
          "data": {
            "text/plain": [
              "citizen_number    0\n",
              "maphia_number     0\n",
              "probability       0\n",
              "dtype: int64"
            ]
          },
          "metadata": {},
          "execution_count": 3
        }
      ]
    },
    {
      "cell_type": "markdown",
      "source": [
        "2차원 형식의 데이터 분석(참고)"
      ],
      "metadata": {
        "id": "SMmWORtJYTlX"
      }
    },
    {
      "cell_type": "code",
      "source": [
        "sns.scatterplot(x=first[\"citizen_number\"], y = first[\"probability\"])\n",
        "plt.show()"
      ],
      "metadata": {
        "colab": {
          "base_uri": "https://localhost:8080/",
          "height": 280
        },
        "id": "dFV1IR_6XkJp",
        "outputId": "96435142-2fb3-405e-8905-89264c11b595"
      },
      "execution_count": null,
      "outputs": [
        {
          "output_type": "display_data",
          "data": {
            "image/png": "[encoded data removed]",
            "text/plain": [
              "<Figure size 432x288 with 1 Axes>"
            ]
          },
          "metadata": {
            "needs_background": "light"
          }
        }
      ]
    },
    {
      "cell_type": "markdown",
      "source": [
        "pearson 상관계수. 0.94로 매우 높은 상관계수가 나옴"
      ],
      "metadata": {
        "id": "X8hD5TdzZO4A"
      }
    },
    {
      "cell_type": "code",
      "source": [
        "sns.heatmap(data = first.corr(method=\"pearson\"), annot=True, fmt = '.2f', linewidths=.5, cmap='Blues')\n",
        "plt.show()"
      ],
      "metadata": {
        "colab": {
          "base_uri": "https://localhost:8080/",
          "height": 270
        },
        "id": "vJfNm0FfYNAc",
        "outputId": "9d5a84f4-2c90-4cb7-e732-907bda43f8c0"
      },
      "execution_count": null,
      "outputs": [
        {
          "output_type": "display_data",
          "data": {
            "image/png": "[encoded data removed]",
            "text/plain": [
              "<Figure size 432x288 with 2 Axes>"
            ]
          },
          "metadata": {
            "needs_background": "light"
          }
        }
      ]
    },
    {
      "cell_type": "markdown",
      "source": [
        "sklearn에서 제공하는 train_test_split을 이용하여 train 데이터와 test 데이터 셋을 나눠주기"
      ],
      "metadata": {
        "id": "dWGKq-D2Zs-B"
      }
    },
    {
      "cell_type": "code",
      "source": [
        "train, test = train_test_split(first,  test_size = 0.2)\n",
        "print(train, test)"
      ],
      "metadata": {
        "colab": {
          "base_uri": "https://localhost:8080/"
        },
        "id": "K_dkLF82Y-pI",
        "outputId": "3db60427-1f1c-4cfe-fc13-883c87d6c4e2"
      },
      "execution_count": null,
      "outputs": [
        {
          "output_type": "stream",
          "name": "stdout",
          "text": [
            "    citizen_number  maphia_number  probability\n",
            "38              17              1      66.5285\n",
            "0                4              1      45.3380\n",
            "33              12              1      63.2441\n",
            "27              10              1      60.8830\n",
            "39              18              1      67.5149\n",
            "34              13              1      63.6254\n",
            "40              19              1      68.0421\n",
            "22               9              1      58.8780\n",
            "37              16              1      66.1832\n",
            "17               8              1      57.5030\n",
            "12               7              1      54.8750\n",
            "3                5              1      47.6680\n",
            "32              11              1      62.0655     citizen_number  maphia_number  probability\n",
            "36              15              1      65.2863\n",
            "7                6              1      52.9810\n",
            "35              14              1      64.7199\n",
            "41              20              1      68.1113\n"
          ]
        }
      ]
    },
    {
      "cell_type": "markdown",
      "source": [
        "torch가 데이터를 읽을 수 있게씀 형태 변환. \n",
        "\n",
        "TensorDataset을 이용하여 train_data 변수에 학습 데이터 넣어주기\n",
        "\n",
        "DataLoader를 이용하여 최종 데이터 넣어주기"
      ],
      "metadata": {
        "id": "-I9Y6gdKa-wM"
      }
    },
    {
      "cell_type": "code",
      "source": [
        "x_train = torch.Tensor([[x] for x in list(train.citizen_number)])\n",
        "y_train = torch.Tensor([[x] for x in list(train.probability)])"
      ],
      "metadata": {
        "id": "TXJBuUMDZk6_"
      },
      "execution_count": null,
      "outputs": []
    },
    {
      "cell_type": "code",
      "source": [
        "train_data = TensorDataset(x_train,y_train)"
      ],
      "metadata": {
        "id": "STMGATMyarp9"
      },
      "execution_count": null,
      "outputs": []
    },
    {
      "cell_type": "code",
      "source": [
        "batch_size = len(x_train) #그냥 한번에 넣어버리겠다\n",
        "train_first = DataLoader(train_data,batch_size,shuffle=True)"
      ],
      "metadata": {
        "id": "z6Ic6hGjau3s"
      },
      "execution_count": null,
      "outputs": []
    },
    {
      "cell_type": "code",
      "source": [
        "model = nn.Linear(1,1)\n",
        "loss  = nn.MSELoss()\n",
        "optimizer = torch.optim.SGD(model.parameters(),lr=0.001)"
      ],
      "metadata": {
        "id": "-iaKemLYbcn-"
      },
      "execution_count": null,
      "outputs": []
    },
    {
      "cell_type": "markdown",
      "source": [
        "학습 실행 코드"
      ],
      "metadata": {
        "id": "2H8xHItScJg9"
      }
    },
    {
      "cell_type": "code",
      "source": [
        "def lrmodel(num_epochs, model, loss_fn, optimizer, train_dl):\n",
        "    for epoch in range(num_epochs):\n",
        "        for xb,yb in train_dl:\n",
        "            pred = model(xb)\n",
        "            loss = loss_fn(pred, yb)\n",
        "            optimizer.zero_grad()\n",
        "            loss.backward()\n",
        "            optimizer.step()            \n",
        "        \n",
        "        if epoch % 10000 == 0:\n",
        "          print('Epoch [{}/{}], Loss: {:.4f}'.format(epoch+1, num_epochs, loss.item()))\n",
        "\n",
        "num_epochs=100000\n",
        "lrmodel(num_epochs, model, loss, optimizer, train_first)"
      ],
      "metadata": {
        "colab": {
          "base_uri": "https://localhost:8080/"
        },
        "id": "r7zTLl_2bxdI",
        "outputId": "bb2ec600-db81-4117-acaa-fbd05477e876"
      },
      "execution_count": null,
      "outputs": [
        {
          "output_type": "stream",
          "name": "stdout",
          "text": [
            "Epoch [1/100000], Loss: 4826.2412\n",
            "Epoch [10001/100000], Loss: 6.6232\n",
            "Epoch [20001/100000], Loss: 5.7758\n",
            "Epoch [30001/100000], Loss: 5.7732\n",
            "Epoch [40001/100000], Loss: 5.7732\n",
            "Epoch [50001/100000], Loss: 5.7732\n",
            "Epoch [60001/100000], Loss: 5.7732\n",
            "Epoch [70001/100000], Loss: 5.7732\n",
            "Epoch [80001/100000], Loss: 5.7732\n",
            "Epoch [90001/100000], Loss: 5.7732\n"
          ]
        }
      ]
    },
    {
      "cell_type": "markdown",
      "source": [
        "훈련은 완료되었고 이제 테스트 데이터를 통한 시험"
      ],
      "metadata": {
        "id": "bPqgjiSsdg9G"
      }
    },
    {
      "cell_type": "code",
      "source": [
        "x_test = torch.Tensor([[x] for x in list(test.citizen_number)])\n",
        "preds = model(x_test)\n",
        "print(preds)\n",
        "\n",
        "print(float(model.weight))\n",
        "print(float(model.bias))\n",
        "#여기의 parameter인 weight(a)와 bias(b)는 선형회귀라고 가정하였을때\n",
        "# y = ax + b의 구조를 이룬다\n",
        "# 즉, y = 1.3987x + 44.2626 "
      ],
      "metadata": {
        "colab": {
          "base_uri": "https://localhost:8080/"
        },
        "id": "Jfz_VrIScZFC",
        "outputId": "628c760e-475b-445d-a15e-1bdc397281c9"
      },
      "execution_count": null,
      "outputs": [
        {
          "output_type": "stream",
          "name": "stdout",
          "text": [
            "tensor([[65.0708],\n",
            "        [52.6304],\n",
            "        [63.6886],\n",
            "        [71.9822]], grad_fn=<AddmmBackward0>)\n",
            "1.382269263267517\n",
            "44.33678436279297\n"
          ]
        }
      ]
    },
    {
      "cell_type": "code",
      "source": [
        "test"
      ],
      "metadata": {
        "colab": {
          "base_uri": "https://localhost:8080/",
          "height": 174
        },
        "id": "E9N6WNcCfNMX",
        "outputId": "bb4a4c41-0228-4c93-c3d9-86cbf4ba2ec1"
      },
      "execution_count": null,
      "outputs": [
        {
          "output_type": "execute_result",
          "data": {
            "text/html": [
              "\n",
              "  <div id=\"df-fd489dc6-2691-4ad2-ba92-9e587b8d9688\">\n",
              "    <div class=\"colab-df-container\">\n",
              "      <div>\n",
              "<style scoped>\n",
              "    .dataframe tbody tr th:only-of-type {\n",
              "        vertical-align: middle;\n",
              "    }\n",
              "\n",
              "    .dataframe tbody tr th {\n",
              "        vertical-align: top;\n",
              "    }\n",
              "\n",
              "    .dataframe thead th {\n",
              "        text-align: right;\n",
              "    }\n",
              "</style>\n",
              "<table border=\"1\" class=\"dataframe\">\n",
              "  <thead>\n",
              "    <tr style=\"text-align: right;\">\n",
              "      <th></th>\n",
              "      <th>citizen_number</th>\n",
              "      <th>maphia_number</th>\n",
              "      <th>probability</th>\n",
              "    </tr>\n",
              "  </thead>\n",
              "  <tbody>\n",
              "    <tr>\n",
              "      <th>36</th>\n",
              "      <td>15</td>\n",
              "      <td>1</td>\n",
              "      <td>65.2863</td>\n",
              "    </tr>\n",
              "    <tr>\n",
              "      <th>7</th>\n",
              "      <td>6</td>\n",
              "      <td>1</td>\n",
              "      <td>52.9810</td>\n",
              "    </tr>\n",
              "    <tr>\n",
              "      <th>35</th>\n",
              "      <td>14</td>\n",
              "      <td>1</td>\n",
              "      <td>64.7199</td>\n",
              "    </tr>\n",
              "    <tr>\n",
              "      <th>41</th>\n",
              "      <td>20</td>\n",
              "      <td>1</td>\n",
              "      <td>68.1113</td>\n",
              "    </tr>\n",
              "  </tbody>\n",
              "</table>\n",
              "</div>\n",
              "      <button class=\"colab-df-convert\" onclick=\"convertToInteractive('df-fd489dc6-2691-4ad2-ba92-9e587b8d9688')\"\n",
              "              title=\"Convert this dataframe to an interactive table.\"\n",
              "              style=\"display:none;\">\n",
              "        \n",
              "  <svg xmlns=\"http://www.w3.org/2000/svg\" height=\"24px\"viewBox=\"0 0 24 24\"\n",
              "       width=\"24px\">\n",
              "    <path d=\"M0 0h24v24H0V0z\" fill=\"none\"/>\n",
              "    <path d=\"M18.56 5.44l.94 2.06.94-2.06 2.06-.94-2.06-.94-.94-2.06-.94 2.06-2.06.94zm-11 1L8.5 8.5l.94-2.06 2.06-.94-2.06-.94L8.5 2.5l-.94 2.06-2.06.94zm10 10l.94 2.06.94-2.06 2.06-.94-2.06-.94-.94-2.06-.94 2.06-2.06.94z\"/><path d=\"M17.41 7.96l-1.37-1.37c-.4-.4-.92-.59-1.43-.59-.52 0-1.04.2-1.43.59L10.3 9.45l-7.72 7.72c-.78.78-.78 2.05 0 2.83L4 21.41c.39.39.9.59 1.41.59.51 0 1.02-.2 1.41-.59l7.78-7.78 2.81-2.81c.8-.78.8-2.07 0-2.86zM5.41 20L4 18.59l7.72-7.72 1.47 1.35L5.41 20z\"/>\n",
              "  </svg>\n",
              "      </button>\n",
              "      \n",
              "  <style>\n",
              "    .colab-df-container {\n",
              "      display:flex;\n",
              "      flex-wrap:wrap;\n",
              "      gap: 12px;\n",
              "    }\n",
              "\n",
              "    .colab-df-convert {\n",
              "      background-color: #E8F0FE;\n",
              "      border: none;\n",
              "      border-radius: 50%;\n",
              "      cursor: pointer;\n",
              "      display: none;\n",
              "      fill: #1967D2;\n",
              "      height: 32px;\n",
              "      padding: 0 0 0 0;\n",
              "      width: 32px;\n",
              "    }\n",
              "\n",
              "    .colab-df-convert:hover {\n",
              "      background-color: #E2EBFA;\n",
              "      box-shadow: 0px 1px 2px rgba(60, 64, 67, 0.3), 0px 1px 3px 1px rgba(60, 64, 67, 0.15);\n",
              "      fill: #174EA6;\n",
              "    }\n",
              "\n",
              "    [theme=dark] .colab-df-convert {\n",
              "      background-color: #3B4455;\n",
              "      fill: #D2E3FC;\n",
              "    }\n",
              "\n",
              "    [theme=dark] .colab-df-convert:hover {\n",
              "      background-color: #434B5C;\n",
              "      box-shadow: 0px 1px 3px 1px rgba(0, 0, 0, 0.15);\n",
              "      filter: drop-shadow(0px 1px 2px rgba(0, 0, 0, 0.3));\n",
              "      fill: #FFFFFF;\n",
              "    }\n",
              "  </style>\n",
              "\n",
              "      <script>\n",
              "        const buttonEl =\n",
              "          document.querySelector('#df-fd489dc6-2691-4ad2-ba92-9e587b8d9688 button.colab-df-convert');\n",
              "        buttonEl.style.display =\n",
              "          google.colab.kernel.accessAllowed ? 'block' : 'none';\n",
              "\n",
              "        async function convertToInteractive(key) {\n",
              "          const element = document.querySelector('#df-fd489dc6-2691-4ad2-ba92-9e587b8d9688');\n",
              "          const dataTable =\n",
              "            await google.colab.kernel.invokeFunction('convertToInteractive',\n",
              "                                                     [key], {});\n",
              "          if (!dataTable) return;\n",
              "\n",
              "          const docLinkHtml = 'Like what you see? Visit the ' +\n",
              "            '<a target=\"_blank\" href=https://colab.research.google.com/notebooks/data_table.ipynb>data table notebook</a>'\n",
              "            + ' to learn more about interactive tables.';\n",
              "          element.innerHTML = '';\n",
              "          dataTable['output_type'] = 'display_data';\n",
              "          await google.colab.output.renderOutput(dataTable, element);\n",
              "          const docLink = document.createElement('div');\n",
              "          docLink.innerHTML = docLinkHtml;\n",
              "          element.appendChild(docLink);\n",
              "        }\n",
              "      </script>\n",
              "    </div>\n",
              "  </div>\n",
              "  "
            ],
            "text/plain": [
              "    citizen_number  maphia_number  probability\n",
              "36              15              1      65.2863\n",
              "7                6              1      52.9810\n",
              "35              14              1      64.7199\n",
              "41              20              1      68.1113"
            ]
          },
          "metadata": {},
          "execution_count": 29
        }
      ]
    },
    {
      "cell_type": "markdown",
      "source": [
        "위에서 보듯 테스트 데이터의 probability 값과 모델이 예측한 probabiity 값이 엇비슷함을 알 수 있다.\n",
        "\n",
        "또한 parameter로 표현된 일차식에 회귀하는 모습을 볼 수 있다. \n",
        "\n",
        "(선형회귀모델이라고 가정)"
      ],
      "metadata": {
        "id": "_ml2QMDVfsg4"
      }
    },
    {
      "cell_type": "markdown",
      "source": [
        "\n",
        "\n",
        "일차함수(예측시나리오)와 실제 probability값 비교 그래프"
      ],
      "metadata": {
        "id": "_xxjfANxi5IV"
      }
    },
    {
      "cell_type": "code",
      "source": [
        "print(\"maphia_number가 1일때\")\n",
        "sns.scatterplot(x=first[\"citizen_number\"], y=first[\"probability\"])\n",
        "x = np.arange(4,21)\n",
        "y = float(model.weight) * x + float(model.bias)\n",
        "plt.plot(x,y)\n",
        "plt.show()"
      ],
      "metadata": {
        "colab": {
          "base_uri": "https://localhost:8080/",
          "height": 298
        },
        "id": "6kZ4gWe9LgMC",
        "outputId": "54fd7230-71e7-48e5-db81-0336a164171b"
      },
      "execution_count": null,
      "outputs": [
        {
          "output_type": "stream",
          "name": "stdout",
          "text": [
            "maphia_number가 1일때\n"
          ]
        },
        {
          "output_type": "display_data",
          "data": {
            "image/png": "[encoded data removed]",
            "text/plain": [
              "<Figure size 432x288 with 1 Axes>"
            ]
          },
          "metadata": {
            "needs_background": "light"
          }
        }
      ]
    },
    {
      "cell_type": "markdown",
      "source": [
        "citizen_number가 커질수록 선형회귀하는 경향이 있지만 완전하진 않다고 판단이 된다.\n",
        "\n",
        "마피아의 수를 2,3,4,5로 바꾸어 진행해 본 결과는 아래와 같다. "
      ],
      "metadata": {
        "id": "6zF-wBdSL-X2"
      }
    },
    {
      "cell_type": "code",
      "source": [
        "second = maphia[maphia.maphia_number==2]\n",
        "third = maphia[maphia.maphia_number==3]\n",
        "fourth = maphia[maphia.maphia_number==4]\n",
        "fifth = maphia[maphia.maphia_number==5]\n",
        "train2, test2 = train_test_split(second,  test_size = 0.2)\n",
        "train3, test3 = train_test_split(third,  test_size = 0.2)\n",
        "train4, test4 = train_test_split(fourth,  test_size = 0.2)\n",
        "train5, test5 = train_test_split(fifth,  test_size = 0.2)"
      ],
      "metadata": {
        "id": "g0ILlvpnMhIF"
      },
      "execution_count": null,
      "outputs": []
    },
    {
      "cell_type": "markdown",
      "source": [
        "✔마피아 수가 2일때"
      ],
      "metadata": {
        "id": "WbHqG3U0Sfx6"
      }
    },
    {
      "cell_type": "code",
      "source": [
        "x_train2 = torch.Tensor([[x] for x in list(train2.citizen_number)])\n",
        "y_train2 = torch.Tensor([[x] for x in list(train2.probability)])\n",
        "train_data = TensorDataset(x_train2,y_train2)\n",
        "batch_size = len(x_train2)\n",
        "train_ = DataLoader(train_data,batch_size,shuffle=True)\n",
        "model = nn.Linear(1,1)\n",
        "loss  = nn.MSELoss()\n",
        "optimizer = torch.optim.SGD(model.parameters(),lr=0.001)\n",
        "num_epochs=100000\n",
        "lrmodel(num_epochs, model, loss, optimizer, train_)\n",
        "weight = float(model.weight)\n",
        "bias = float(model.bias)\n",
        "x_test = torch.Tensor([[x] for x in list(test2.citizen_number)])\n",
        "preds = model(x_test)\n",
        "print(f\"parameter 중 weight는 {weight} 이며 bias는 {bias}입니다.\")\n",
        "print(f\"모델의 예측값은 y = {weight} * x + {bias} 의 일차함수를 따르는 선형회귀모델이라 가정합니다\")\n",
        "print(\"선은 모델의 예측값, 점들은 실제 결과값을 의미합니다\")\n",
        "print(\"maphia_number가 2일때\")\n",
        "sns.scatterplot(x=second[\"citizen_number\"], y=second[\"probability\"])\n",
        "x = np.arange(4,21)\n",
        "y = float(weight) * x + float(bias)\n",
        "plt.plot(x,y)\n",
        "plt.show()"
      ],
      "metadata": {
        "colab": {
          "base_uri": "https://localhost:8080/",
          "height": 534
        },
        "id": "Dyd5irjMON_E",
        "outputId": "b001ced1-eaa6-4886-a56f-83478f0670e4"
      },
      "execution_count": null,
      "outputs": [
        {
          "output_type": "stream",
          "name": "stdout",
          "text": [
            "Epoch [1/100000], Loss: 944.5043\n",
            "Epoch [10001/100000], Loss: 8.5135\n",
            "Epoch [20001/100000], Loss: 8.3080\n",
            "Epoch [30001/100000], Loss: 8.3069\n",
            "Epoch [40001/100000], Loss: 8.3069\n",
            "Epoch [50001/100000], Loss: 8.3069\n",
            "Epoch [60001/100000], Loss: 8.3069\n",
            "Epoch [70001/100000], Loss: 8.3069\n",
            "Epoch [80001/100000], Loss: 8.3069\n",
            "Epoch [90001/100000], Loss: 8.3069\n",
            "parameter 중 weight는 1.674187183380127 이며 bias는 17.86608123779297입니다.\n",
            "모델의 예측값은 y = 1.674187183380127 * x + 17.86608123779297 의 일차함수를 따르는 선형회귀모델이라 가정합니다\n",
            "선은 모델의 예측값, 점들은 실제 결과값을 의미합니다\n",
            "maphia_number가 2일때\n"
          ]
        },
        {
          "output_type": "display_data",
          "data": {
            "image/png": "[encoded data removed]",
            "text/plain": [
              "<Figure size 432x288 with 1 Axes>"
            ]
          },
          "metadata": {
            "needs_background": "light"
          }
        }
      ]
    },
    {
      "cell_type": "markdown",
      "source": [
        "✔마피아 수가 3일때"
      ],
      "metadata": {
        "id": "ap64Me4fSmx1"
      }
    },
    {
      "cell_type": "code",
      "source": [
        "x_train3 = torch.Tensor([[x] for x in list(train3.citizen_number)])\n",
        "y_train3 = torch.Tensor([[x] for x in list(train3.probability)])\n",
        "train_data = TensorDataset(x_train3,y_train3)\n",
        "batch_size = len(x_train3)\n",
        "train_ = DataLoader(train_data,batch_size,shuffle=True)\n",
        "model = nn.Linear(1,1)\n",
        "loss  = nn.MSELoss()\n",
        "optimizer = torch.optim.SGD(model.parameters(),lr=0.001)\n",
        "num_epochs=100000\n",
        "lrmodel(num_epochs, model, loss, optimizer, train_)\n",
        "weight = float(model.weight)\n",
        "bias = float(model.bias)\n",
        "x_test = torch.Tensor([[x] for x in list(test3.citizen_number)])\n",
        "preds = model(x_test)\n",
        "print(f\"parameter 중 weight는 {weight} 이며 bias는 {bias}입니다.\")\n",
        "print(f\"모델의 예측값은 y = {weight} * x + {bias} 의 일차함수를 따르는 선형회귀모델이라 가정합니다\")\n",
        "print(\"선은 모델의 예측값, 점들은 실제 결과값을 의미합니다\")\n",
        "print(\"maphia_number가 3일때\")\n",
        "sns.scatterplot(x=third[\"citizen_number\"], y=third[\"probability\"])\n",
        "x = np.arange(4,21)\n",
        "y = float(weight) * x + float(bias)\n",
        "plt.plot(x,y)\n",
        "plt.show()"
      ],
      "metadata": {
        "colab": {
          "base_uri": "https://localhost:8080/",
          "height": 554
        },
        "id": "kV1CrNj2Smad",
        "outputId": "f7c3b9c9-fd30-4a81-a5cb-d45b35c97988"
      },
      "execution_count": null,
      "outputs": [
        {
          "output_type": "stream",
          "name": "stdout",
          "text": [
            "Epoch [1/100000], Loss: 827.2405\n",
            "Epoch [10001/100000], Loss: 5.1148\n",
            "Epoch [20001/100000], Loss: 5.1105\n",
            "Epoch [30001/100000], Loss: 5.1105\n",
            "Epoch [40001/100000], Loss: 5.1105\n",
            "Epoch [50001/100000], Loss: 5.1105\n",
            "Epoch [60001/100000], Loss: 5.1105\n",
            "Epoch [70001/100000], Loss: 5.1105\n",
            "Epoch [80001/100000], Loss: 5.1105\n",
            "Epoch [90001/100000], Loss: 5.1105\n",
            "parameter 중 weight는 1.69943106174469 이며 bias는 4.1723504066467285입니다.\n",
            "모델의 예측값은 y = 1.69943106174469 * x + 4.1723504066467285 의 일차함수를 따르는 선형회귀모델이라 가정합니다\n",
            "선은 모델의 예측값, 점들은 실제 결과값을 의미합니다\n",
            "maphia_number가 3일때\n"
          ]
        },
        {
          "output_type": "display_data",
          "data": {
            "image/png": "[encoded data removed]",
            "text/plain": [
              "<Figure size 432x288 with 1 Axes>"
            ]
          },
          "metadata": {
            "needs_background": "light"
          }
        }
      ]
    },
    {
      "cell_type": "markdown",
      "source": [
        "✔마피아 수가 4일때"
      ],
      "metadata": {
        "id": "D8z9PpBBS990"
      }
    },
    {
      "cell_type": "code",
      "source": [
        "x_train4 = torch.Tensor([[x] for x in list(train4.citizen_number)])\n",
        "y_train4 = torch.Tensor([[x] for x in list(train4.probability)])\n",
        "train_data = TensorDataset(x_train4,y_train4)\n",
        "batch_size = len(x_train4)\n",
        "train_ = DataLoader(train_data,batch_size,shuffle=True)\n",
        "model = nn.Linear(1,1)\n",
        "loss  = nn.MSELoss()\n",
        "optimizer = torch.optim.SGD(model.parameters(),lr=0.001)\n",
        "num_epochs=100000\n",
        "lrmodel(num_epochs, model, loss, optimizer, train_)\n",
        "weight = float(model.weight)\n",
        "bias = float(model.bias)\n",
        "x_test = torch.Tensor([[x] for x in list(test4.citizen_number)])\n",
        "preds = model(x_test)\n",
        "print(f\"parameter 중 weight는 {weight} 이며 bias는 {bias}입니다.\")\n",
        "print(f\"모델의 예측값은 y = {weight} * x + {bias} 의 일차함수를 따르는 선형회귀모델이라 가정합니다\")\n",
        "print(\"선은 모델의 예측값, 점들은 실제 결과값을 의미합니다\")\n",
        "print(\"maphia_number가 4일때\")\n",
        "sns.scatterplot(x=fourth[\"citizen_number\"], y=fourth[\"probability\"])\n",
        "x = np.arange(4,21)\n",
        "y = float(weight) * x + float(bias)\n",
        "plt.plot(x,y)\n",
        "plt.show()"
      ],
      "metadata": {
        "colab": {
          "base_uri": "https://localhost:8080/",
          "height": 554
        },
        "id": "_Y55I4QYTAuQ",
        "outputId": "649e6455-e3dc-4675-9c6d-656ae660cd49"
      },
      "execution_count": null,
      "outputs": [
        {
          "output_type": "stream",
          "name": "stdout",
          "text": [
            "Epoch [1/100000], Loss: 121.3127\n",
            "Epoch [10001/100000], Loss: 1.6711\n",
            "Epoch [20001/100000], Loss: 1.6697\n",
            "Epoch [30001/100000], Loss: 1.6697\n",
            "Epoch [40001/100000], Loss: 1.6697\n",
            "Epoch [50001/100000], Loss: 1.6697\n",
            "Epoch [60001/100000], Loss: 1.6697\n",
            "Epoch [70001/100000], Loss: 1.6697\n",
            "Epoch [80001/100000], Loss: 1.6697\n",
            "Epoch [90001/100000], Loss: 1.6697\n",
            "parameter 중 weight는 1.4816581010818481 이며 bias는 -1.8143621683120728입니다.\n",
            "모델의 예측값은 y = 1.4816581010818481 * x + -1.8143621683120728 의 일차함수를 따르는 선형회귀모델이라 가정합니다\n",
            "선은 모델의 예측값, 점들은 실제 결과값을 의미합니다\n",
            "maphia_number가 4일때\n"
          ]
        },
        {
          "output_type": "display_data",
          "data": {
            "image/png": "[encoded data removed]",
            "text/plain": [
              "<Figure size 432x288 with 1 Axes>"
            ]
          },
          "metadata": {
            "needs_background": "light"
          }
        }
      ]
    },
    {
      "cell_type": "markdown",
      "source": [
        "✔마피아 수가 5일때"
      ],
      "metadata": {
        "id": "5PKik-W9Ti5c"
      }
    },
    {
      "cell_type": "code",
      "source": [
        "x_train5 = torch.Tensor([[x] for x in list(train5.citizen_number)])\n",
        "y_train5 = torch.Tensor([[x] for x in list(train5.probability)])\n",
        "train_data = TensorDataset(x_train5,y_train5)\n",
        "batch_size = len(x_train5)\n",
        "train_ = DataLoader(train_data,batch_size,shuffle=True)\n",
        "model = nn.Linear(1,1)\n",
        "loss  = nn.MSELoss()\n",
        "optimizer = torch.optim.SGD(model.parameters(),lr=0.001)\n",
        "num_epochs=100000\n",
        "lrmodel(num_epochs, model, loss, optimizer, train_)\n",
        "weight = float(model.weight)\n",
        "bias = float(model.bias)\n",
        "x_test = torch.Tensor([[x] for x in list(test5.citizen_number)])\n",
        "preds = model(x_test)\n",
        "print(f\"parameter 중 weight는 {weight} 이며 bias는 {bias}입니다.\")\n",
        "print(f\"모델의 예측값은 y = {weight} * x + {bias} 의 일차함수를 따르는 선형회귀모델이라 가정합니다\")\n",
        "print(\"선은 모델의 예측값, 점들은 실제 결과값을 의미합니다\")\n",
        "print(\"maphia_number가 5일때\")\n",
        "sns.scatterplot(x=fifth[\"citizen_number\"], y=fifth[\"probability\"])\n",
        "x = np.arange(4,21)\n",
        "y = float(weight) * x + float(bias)\n",
        "plt.plot(x,y)\n",
        "plt.show()"
      ],
      "metadata": {
        "colab": {
          "base_uri": "https://localhost:8080/",
          "height": 554
        },
        "id": "guOoO2lgTmgx",
        "outputId": "7de3903c-d816-4498-8182-4508498cfec7"
      },
      "execution_count": null,
      "outputs": [
        {
          "output_type": "stream",
          "name": "stdout",
          "text": [
            "Epoch [1/100000], Loss: 563.4233\n",
            "Epoch [10001/100000], Loss: 0.4270\n",
            "Epoch [20001/100000], Loss: 0.3498\n",
            "Epoch [30001/100000], Loss: 0.3456\n",
            "Epoch [40001/100000], Loss: 0.3454\n",
            "Epoch [50001/100000], Loss: 0.3454\n",
            "Epoch [60001/100000], Loss: 0.3454\n",
            "Epoch [70001/100000], Loss: 0.3454\n",
            "Epoch [80001/100000], Loss: 0.3454\n",
            "Epoch [90001/100000], Loss: 0.3454\n",
            "parameter 중 weight는 1.2749154567718506 이며 bias는 -4.4868621826171875입니다.\n",
            "모델의 예측값은 y = 1.2749154567718506 * x + -4.4868621826171875 의 일차함수를 따르는 선형회귀모델이라 가정합니다\n",
            "선은 모델의 예측값, 점들은 실제 결과값을 의미합니다\n",
            "maphia_number가 5일때\n"
          ]
        },
        {
          "output_type": "display_data",
          "data": {
            "image/png": "[encoded data removed]",
            "text/plain": [
              "<Figure size 432x288 with 1 Axes>"
            ]
          },
          "metadata": {
            "needs_background": "light"
          }
        }
      ]
    },
    {
      "cell_type": "markdown",
      "source": [
        "#선형모델에 대한 해석\n",
        "\n",
        "진짜 마피아 게임의 확률은 선형모델을 따르는지 알 수 없지만,\n",
        "\n",
        "적어도 내가 짠 마피아 게임의 코드에서 10만번의 반복으로 구한 \n",
        "\n",
        "각각의 case별 확률값들의 분포는 선형모델을 따르는 것으로 유추할 수 있다.\n",
        "\n",
        "각 case별 모델 역시 10만번의 학습을 거쳤으며 \n",
        "학습을 통해 얻은 파라미터들로 이루어진 \n",
        "\n",
        "일차함수에 실제 데이터 분포의 대부분이 근접하는 것을 위의 데이터 시각화를 통해 알 수 있었다.\n"
      ],
      "metadata": {
        "id": "FO1JNMkfW3b_"
      }
    },
    {
      "cell_type": "markdown",
      "source": [
        "**6. 신경망 구현&학습&평가(비선형모델이라 가정)**\n",
        "\n",
        "\n",
        "http://www.gisdeveloper.co.kr/?p=8395 를 참고하였습니다."
      ],
      "metadata": {
        "id": "1ufLLGzHn35K"
      }
    },
    {
      "cell_type": "code",
      "source": [
        "import torch\n",
        "import torch.nn as nn\n",
        "import torch.optim as optim\n",
        "import torch.nn.init as init\n",
        "import matplotlib.pyplot as plt"
      ],
      "metadata": {
        "id": "DYCtEgdic_VZ"
      },
      "execution_count": null,
      "outputs": []
    },
    {
      "cell_type": "markdown",
      "source": [
        "데이터 전처리"
      ],
      "metadata": {
        "id": "5ec7UZwtYJej"
      }
    },
    {
      "cell_type": "code",
      "source": [
        "first = maphia[maphia.maphia_number==1]\n",
        "second = maphia[maphia.maphia_number==2]\n",
        "third = maphia[maphia.maphia_number==3]\n",
        "fourth = maphia[maphia.maphia_number==4]\n",
        "fifth = maphia[maphia.maphia_number==5]\n",
        "train1, test1 = train_test_split(first, test_size=0.2)\n",
        "train2, test2 = train_test_split(second,  test_size = 0.2)\n",
        "train3, test3 = train_test_split(third,  test_size = 0.2)\n",
        "train4, test4 = train_test_split(fourth,  test_size = 0.2)\n",
        "train5, test5 = train_test_split(fifth,  test_size = 0.2)"
      ],
      "metadata": {
        "id": "SSHtymiGbSs-"
      },
      "execution_count": null,
      "outputs": []
    },
    {
      "cell_type": "markdown",
      "source": [
        "데이터 학습"
      ],
      "metadata": {
        "id": "Fyd0nLndYKzs"
      }
    },
    {
      "cell_type": "code",
      "source": [
        "def lrmodel(num_epochs, model, loss_fn, optimizer, train_dl):\n",
        "    for epoch in range(num_epochs):\n",
        "        for xb,yb in train_dl:\n",
        "            \n",
        "            pred = model(xb)\n",
        "            loss = loss_fn(pred, yb)\n",
        "\n",
        "            optimizer.zero_grad()\n",
        "            loss.backward()\n",
        "            optimizer.step()            \n",
        "        \n",
        "        if epoch % 10000 == 0:\n",
        "          print('Epoch [{}/{}], Loss: {:.4f}'.format(epoch+1, num_epochs, loss.item()))\n",
        "\n",
        "num_epochs=100000\n",
        "#lrmodel(num_epochs, model, loss, optimizer, train_first)"
      ],
      "metadata": {
        "id": "kb52XapGPfCO"
      },
      "execution_count": null,
      "outputs": []
    },
    {
      "cell_type": "code",
      "source": [
        "x_train1 = torch.Tensor([[x] for x in list(train1.citizen_number)])\n",
        "y_train1 = torch.Tensor([[x] for x in list(train1.probability)])\n",
        "train_data = TensorDataset(x_train1,y_train1)\n",
        "batch_size = len(x_train1)\n",
        "train_ = DataLoader(train_data,batch_size,shuffle=True)\n",
        "\n",
        "#이제 여기서 차별점을 준다\n",
        "model = nn.Sequential(\n",
        "    nn.Linear(1,5),\n",
        "    nn.LeakyReLU(0.2),\n",
        "    nn.Linear(5,10),\n",
        "    nn.LeakyReLU(0.2),\n",
        "    nn.Linear(10,10),\n",
        "    nn.LeakyReLU(0.2),    \n",
        "    nn.Linear(10,10),\n",
        "    nn.LeakyReLU(0.2),        \n",
        "    nn.Linear(10,5),\n",
        "    nn.LeakyReLU(0.2),          \n",
        "    nn.Linear(5,1),\n",
        ")\n",
        "gpu = torch.device('cuda')\n",
        "loss_fuc  = nn.L1Loss()\n",
        "#optimizer = torch.optim.SGD(model.parameters(),lr=0.001)\n",
        "optimizer = torch.optim.Adam(model.parameters(),lr=0.002)\n",
        "\n",
        "num_epochs=100000\n",
        "lrmodel(num_epochs, model, loss, optimizer, train_)"
      ],
      "metadata": {
        "colab": {
          "base_uri": "https://localhost:8080/"
        },
        "id": "yARhT4e6bj7d",
        "outputId": "f5309c11-12bb-45b6-ca51-2a754283ce01"
      },
      "execution_count": null,
      "outputs": [
        {
          "output_type": "stream",
          "name": "stdout",
          "text": [
            "Epoch [1/100000], Loss: 3824.2256\n",
            "Epoch [10001/100000], Loss: 4.5900\n",
            "Epoch [20001/100000], Loss: 0.0480\n",
            "Epoch [30001/100000], Loss: 0.0640\n",
            "Epoch [40001/100000], Loss: 0.0332\n",
            "Epoch [50001/100000], Loss: 0.0273\n",
            "Epoch [60001/100000], Loss: 0.0268\n",
            "Epoch [70001/100000], Loss: 0.0443\n",
            "Epoch [80001/100000], Loss: 0.0276\n",
            "Epoch [90001/100000], Loss: 0.0165\n"
          ]
        }
      ]
    },
    {
      "cell_type": "markdown",
      "source": [
        "모델 테스트. 예측값과 실제 데이터값 비교"
      ],
      "metadata": {
        "id": "pkowxLPUYF0e"
      }
    },
    {
      "cell_type": "code",
      "source": [
        "x_test = torch.Tensor([[x] for x in list(test1.citizen_number)])\n",
        "preds = model(x_test)\n",
        "print(preds)"
      ],
      "metadata": {
        "colab": {
          "base_uri": "https://localhost:8080/"
        },
        "id": "sho6IafNWc1Z",
        "outputId": "119e9617-4dda-48a9-9635-e10bf7855554"
      },
      "execution_count": null,
      "outputs": [
        {
          "output_type": "stream",
          "name": "stdout",
          "text": [
            "tensor([[49.4419],\n",
            "        [62.4911],\n",
            "        [64.5773],\n",
            "        [63.8819]], grad_fn=<AddmmBackward0>)\n"
          ]
        }
      ]
    },
    {
      "cell_type": "code",
      "source": [
        "test1"
      ],
      "metadata": {
        "colab": {
          "base_uri": "https://localhost:8080/",
          "height": 174
        },
        "id": "ytqScevMWldi",
        "outputId": "61b8ae3a-0067-470d-d506-25e8ba591abf"
      },
      "execution_count": null,
      "outputs": [
        {
          "output_type": "execute_result",
          "data": {
            "text/html": [
              "\n",
              "  <div id=\"df-d3c8af30-e57a-4ce2-b765-23afc405d665\">\n",
              "    <div class=\"colab-df-container\">\n",
              "      <div>\n",
              "<style scoped>\n",
              "    .dataframe tbody tr th:only-of-type {\n",
              "        vertical-align: middle;\n",
              "    }\n",
              "\n",
              "    .dataframe tbody tr th {\n",
              "        vertical-align: top;\n",
              "    }\n",
              "\n",
              "    .dataframe thead th {\n",
              "        text-align: right;\n",
              "    }\n",
              "</style>\n",
              "<table border=\"1\" class=\"dataframe\">\n",
              "  <thead>\n",
              "    <tr style=\"text-align: right;\">\n",
              "      <th></th>\n",
              "      <th>citizen_number</th>\n",
              "      <th>maphia_number</th>\n",
              "      <th>probability</th>\n",
              "    </tr>\n",
              "  </thead>\n",
              "  <tbody>\n",
              "    <tr>\n",
              "      <th>3</th>\n",
              "      <td>5</td>\n",
              "      <td>1</td>\n",
              "      <td>47.6680</td>\n",
              "    </tr>\n",
              "    <tr>\n",
              "      <th>32</th>\n",
              "      <td>11</td>\n",
              "      <td>1</td>\n",
              "      <td>62.0655</td>\n",
              "    </tr>\n",
              "    <tr>\n",
              "      <th>35</th>\n",
              "      <td>14</td>\n",
              "      <td>1</td>\n",
              "      <td>64.7199</td>\n",
              "    </tr>\n",
              "    <tr>\n",
              "      <th>34</th>\n",
              "      <td>13</td>\n",
              "      <td>1</td>\n",
              "      <td>63.6254</td>\n",
              "    </tr>\n",
              "  </tbody>\n",
              "</table>\n",
              "</div>\n",
              "      <button class=\"colab-df-convert\" onclick=\"convertToInteractive('df-d3c8af30-e57a-4ce2-b765-23afc405d665')\"\n",
              "              title=\"Convert this dataframe to an interactive table.\"\n",
              "              style=\"display:none;\">\n",
              "        \n",
              "  <svg xmlns=\"http://www.w3.org/2000/svg\" height=\"24px\"viewBox=\"0 0 24 24\"\n",
              "       width=\"24px\">\n",
              "    <path d=\"M0 0h24v24H0V0z\" fill=\"none\"/>\n",
              "    <path d=\"M18.56 5.44l.94 2.06.94-2.06 2.06-.94-2.06-.94-.94-2.06-.94 2.06-2.06.94zm-11 1L8.5 8.5l.94-2.06 2.06-.94-2.06-.94L8.5 2.5l-.94 2.06-2.06.94zm10 10l.94 2.06.94-2.06 2.06-.94-2.06-.94-.94-2.06-.94 2.06-2.06.94z\"/><path d=\"M17.41 7.96l-1.37-1.37c-.4-.4-.92-.59-1.43-.59-.52 0-1.04.2-1.43.59L10.3 9.45l-7.72 7.72c-.78.78-.78 2.05 0 2.83L4 21.41c.39.39.9.59 1.41.59.51 0 1.02-.2 1.41-.59l7.78-7.78 2.81-2.81c.8-.78.8-2.07 0-2.86zM5.41 20L4 18.59l7.72-7.72 1.47 1.35L5.41 20z\"/>\n",
              "  </svg>\n",
              "      </button>\n",
              "      \n",
              "  <style>\n",
              "    .colab-df-container {\n",
              "      display:flex;\n",
              "      flex-wrap:wrap;\n",
              "      gap: 12px;\n",
              "    }\n",
              "\n",
              "    .colab-df-convert {\n",
              "      background-color: #E8F0FE;\n",
              "      border: none;\n",
              "      border-radius: 50%;\n",
              "      cursor: pointer;\n",
              "      display: none;\n",
              "      fill: #1967D2;\n",
              "      height: 32px;\n",
              "      padding: 0 0 0 0;\n",
              "      width: 32px;\n",
              "    }\n",
              "\n",
              "    .colab-df-convert:hover {\n",
              "      background-color: #E2EBFA;\n",
              "      box-shadow: 0px 1px 2px rgba(60, 64, 67, 0.3), 0px 1px 3px 1px rgba(60, 64, 67, 0.15);\n",
              "      fill: #174EA6;\n",
              "    }\n",
              "\n",
              "    [theme=dark] .colab-df-convert {\n",
              "      background-color: #3B4455;\n",
              "      fill: #D2E3FC;\n",
              "    }\n",
              "\n",
              "    [theme=dark] .colab-df-convert:hover {\n",
              "      background-color: #434B5C;\n",
              "      box-shadow: 0px 1px 3px 1px rgba(0, 0, 0, 0.15);\n",
              "      filter: drop-shadow(0px 1px 2px rgba(0, 0, 0, 0.3));\n",
              "      fill: #FFFFFF;\n",
              "    }\n",
              "  </style>\n",
              "\n",
              "      <script>\n",
              "        const buttonEl =\n",
              "          document.querySelector('#df-d3c8af30-e57a-4ce2-b765-23afc405d665 button.colab-df-convert');\n",
              "        buttonEl.style.display =\n",
              "          google.colab.kernel.accessAllowed ? 'block' : 'none';\n",
              "\n",
              "        async function convertToInteractive(key) {\n",
              "          const element = document.querySelector('#df-d3c8af30-e57a-4ce2-b765-23afc405d665');\n",
              "          const dataTable =\n",
              "            await google.colab.kernel.invokeFunction('convertToInteractive',\n",
              "                                                     [key], {});\n",
              "          if (!dataTable) return;\n",
              "\n",
              "          const docLinkHtml = 'Like what you see? Visit the ' +\n",
              "            '<a target=\"_blank\" href=https://colab.research.google.com/notebooks/data_table.ipynb>data table notebook</a>'\n",
              "            + ' to learn more about interactive tables.';\n",
              "          element.innerHTML = '';\n",
              "          dataTable['output_type'] = 'display_data';\n",
              "          await google.colab.output.renderOutput(dataTable, element);\n",
              "          const docLink = document.createElement('div');\n",
              "          docLink.innerHTML = docLinkHtml;\n",
              "          element.appendChild(docLink);\n",
              "        }\n",
              "      </script>\n",
              "    </div>\n",
              "  </div>\n",
              "  "
            ],
            "text/plain": [
              "    citizen_number  maphia_number  probability\n",
              "3                5              1      47.6680\n",
              "32              11              1      62.0655\n",
              "35              14              1      64.7199\n",
              "34              13              1      63.6254"
            ]
          },
          "metadata": {},
          "execution_count": 17
        }
      ]
    },
    {
      "cell_type": "markdown",
      "source": [
        "위에서 보듯 예측값과 실제 데이터 값이 거의 비슷함을 알 수 있다. \n",
        "\n",
        "---\n",
        "\n",
        "이제 이를 가시화해보자"
      ],
      "metadata": {
        "id": "kopCdBykYWh7"
      }
    },
    {
      "cell_type": "code",
      "source": [
        "plt.figure(figsize=(10,10))\n",
        "x_test = torch.Tensor([[x] for x in list(train1.citizen_number)]) \n",
        "x_test2 = torch.Tensor([[x] for x in list(test1.citizen_number)]) \n",
        "pred = model(x_test)\n",
        "pred = pred.cpu().detach().numpy()\n",
        "pred2 = model(x_test2)\n",
        "pred2= pred2.cpu().detach().numpy()\n",
        "x = first[\"citizen_number\"]\n",
        "y = first[\"probability\"]\n",
        "print(\"gray는 실제 데이터값, red는 모델의 예측값을 나타냅니다\")\n",
        "plt.scatter(x, y, s=1, c=\"gray\")\n",
        "plt.scatter(x_test, pred, s=1, c=\"red\")\n",
        "plt.scatter(x_test2, pred2, s=1, c= \"red\")\n",
        "plt.show()"
      ],
      "metadata": {
        "colab": {
          "base_uri": "https://localhost:8080/",
          "height": 610
        },
        "id": "DAHo8_qiah9F",
        "outputId": "7e4f6f86-d0ce-4e7a-cfa9-99c12e238172"
      },
      "execution_count": null,
      "outputs": [
        {
          "output_type": "stream",
          "name": "stdout",
          "text": [
            "gray는 실제 데이터값, red는 모델의 예측값을 나타냅니다\n"
          ]
        },
        {
          "output_type": "display_data",
          "data": {
            "image/png": "[encoded data removed]",
            "text/plain": [
              "<Figure size 720x720 with 1 Axes>"
            ]
          },
          "metadata": {
            "needs_background": "light"
          }
        }
      ]
    },
    {
      "cell_type": "markdown",
      "source": [
        "✔마피아의 수가 2일때"
      ],
      "metadata": {
        "id": "7YtFOUlckTbs"
      }
    },
    {
      "cell_type": "code",
      "source": [
        "x_train2 = torch.Tensor([[x] for x in list(train2.citizen_number)])\n",
        "y_train2 = torch.Tensor([[x] for x in list(train2.probability)])\n",
        "train_data = TensorDataset(x_train2,y_train2)\n",
        "batch_size = len(x_train2)\n",
        "train_ = DataLoader(train_data,batch_size,shuffle=True)\n",
        "\n",
        "#이제 여기서 차별점을 준다\n",
        "model = nn.Sequential(\n",
        "    nn.Linear(1,5),\n",
        "    nn.LeakyReLU(0.2),\n",
        "    nn.Linear(5,10),\n",
        "    nn.LeakyReLU(0.2),\n",
        "    nn.Linear(10,10),\n",
        "    nn.LeakyReLU(0.2),    \n",
        "    nn.Linear(10,10),\n",
        "    nn.LeakyReLU(0.2),        \n",
        "    nn.Linear(10,5),\n",
        "    nn.LeakyReLU(0.2),          \n",
        "    nn.Linear(5,1),\n",
        ")\n",
        "gpu = torch.device('cuda')\n",
        "loss_fuc  = nn.L1Loss()\n",
        "#optimizer = torch.optim.SGD(model.parameters(),lr=0.001)\n",
        "optimizer = torch.optim.Adam(model.parameters(),lr=0.002)\n",
        "\n",
        "num_epochs=100000\n",
        "lrmodel(num_epochs, model, loss, optimizer, train_)"
      ],
      "metadata": {
        "colab": {
          "base_uri": "https://localhost:8080/"
        },
        "id": "eCO_7-EDkVHm",
        "outputId": "51debf66-b172-4f99-8ba6-1bbaae19b105"
      },
      "execution_count": null,
      "outputs": [
        {
          "output_type": "stream",
          "name": "stdout",
          "text": [
            "Epoch [1/100000], Loss: 1451.2910\n",
            "Epoch [10001/100000], Loss: 0.6706\n",
            "Epoch [20001/100000], Loss: 0.1666\n",
            "Epoch [30001/100000], Loss: 0.1189\n",
            "Epoch [40001/100000], Loss: 0.1003\n",
            "Epoch [50001/100000], Loss: 0.1004\n",
            "Epoch [60001/100000], Loss: 0.1027\n",
            "Epoch [70001/100000], Loss: 0.1003\n",
            "Epoch [80001/100000], Loss: 0.1173\n",
            "Epoch [90001/100000], Loss: 0.1014\n"
          ]
        }
      ]
    },
    {
      "cell_type": "code",
      "source": [
        "plt.figure(figsize=(10,10))\n",
        "x_test = torch.Tensor([[x] for x in list(train2.citizen_number)]) \n",
        "x_test2 = torch.Tensor([[x] for x in list(test2.citizen_number)]) \n",
        "pred = model(x_test)\n",
        "pred = pred.cpu().detach().numpy()\n",
        "pred2 = model(x_test2)\n",
        "pred2= pred2.cpu().detach().numpy()\n",
        "x = second[\"citizen_number\"]\n",
        "y = second[\"probability\"]\n",
        "print(\"gray는 실제 데이터값, red는 모델의 예측값을 나타냅니다\")\n",
        "plt.scatter(x, y, s=1, c=\"gray\")\n",
        "plt.scatter(x_test, pred, s=1, c=\"red\")\n",
        "plt.scatter(x_test2, pred2, s=1, c= \"red\")\n",
        "plt.show()"
      ],
      "metadata": {
        "colab": {
          "base_uri": "https://localhost:8080/",
          "height": 610
        },
        "id": "HhhK7URPkklJ",
        "outputId": "bc504a0b-6395-46f3-fa6c-9b0e3986c34d"
      },
      "execution_count": null,
      "outputs": [
        {
          "output_type": "stream",
          "name": "stdout",
          "text": [
            "gray는 실제 데이터값, red는 모델의 예측값을 나타냅니다\n"
          ]
        },
        {
          "output_type": "display_data",
          "data": {
            "image/png": "[encoded data removed]",
            "text/plain": [
              "<Figure size 720x720 with 1 Axes>"
            ]
          },
          "metadata": {
            "needs_background": "light"
          }
        }
      ]
    },
    {
      "cell_type": "markdown",
      "source": [
        "✔마피아 수가 3일때"
      ],
      "metadata": {
        "id": "mW8GtcvTlW3K"
      }
    },
    {
      "cell_type": "code",
      "source": [
        "def lrmodel(num_epochs, model, loss_fn, optimizer, train_dl):\n",
        "    for epoch in range(num_epochs):\n",
        "        for xb,yb in train_dl:\n",
        "            \n",
        "            pred = model(xb)\n",
        "            loss = loss_fn(pred, yb)\n",
        "\n",
        "            optimizer.zero_grad()\n",
        "            loss.backward()\n",
        "            optimizer.step()            \n",
        "        \n",
        "        if epoch % 10000 == 0:\n",
        "          print('Epoch [{}/{}], Loss: {:.4f}'.format(epoch+1, num_epochs, loss.item()))\n",
        "\n",
        "num_epochs=100000\n",
        "#lrmodel(num_epochs, model, loss, optimizer, train_first)"
      ],
      "metadata": {
        "id": "_y-hkYiV_3VY"
      },
      "execution_count": null,
      "outputs": []
    },
    {
      "cell_type": "code",
      "source": [
        "x_train3 = torch.Tensor([[x] for x in list(train3.citizen_number)])\n",
        "y_train3 = torch.Tensor([[x] for x in list(train3.probability)])\n",
        "train_data = TensorDataset(x_train3,y_train3)\n",
        "batch_size = len(x_train3)\n",
        "train_ = DataLoader(train_data,batch_size,shuffle=True)\n",
        "\n",
        "#이제 여기서 차별점을 준다\n",
        "model = nn.Sequential(\n",
        "    nn.Linear(1,5),\n",
        "    nn.LeakyReLU(0.2),\n",
        "    nn.Linear(5,10),\n",
        "    nn.LeakyReLU(0.2),\n",
        "    nn.Linear(10,10),\n",
        "    nn.LeakyReLU(0.2),    \n",
        "    nn.Linear(10,10),\n",
        "    nn.LeakyReLU(0.2),        \n",
        "    nn.Linear(10,5),\n",
        "    nn.LeakyReLU(0.2),          \n",
        "    nn.Linear(5,1),\n",
        ")\n",
        "gpu = torch.device('cuda')\n",
        "loss_fuc  = nn.L1Loss()\n",
        "#optimizer = torch.optim.SGD(model.parameters(),lr=0.001)\n",
        "optimizer = torch.optim.Adam(model.parameters(),lr=0.002)\n",
        "\n",
        "num_epochs=100000\n",
        "lrmodel(num_epochs, model, loss, optimizer, train_)"
      ],
      "metadata": {
        "colab": {
          "base_uri": "https://localhost:8080/"
        },
        "id": "aJDlasf3lYvH",
        "outputId": "1e6a5959-d840-4c60-a46f-26d5208c2e57"
      },
      "execution_count": null,
      "outputs": [
        {
          "output_type": "stream",
          "name": "stdout",
          "text": [
            "Epoch [1/100000], Loss: 744.4638\n",
            "Epoch [10001/100000], Loss: 4.0113\n",
            "Epoch [20001/100000], Loss: 0.2057\n",
            "Epoch [30001/100000], Loss: 0.2057\n",
            "Epoch [40001/100000], Loss: 0.1490\n",
            "Epoch [50001/100000], Loss: 0.1476\n",
            "Epoch [60001/100000], Loss: 0.1419\n",
            "Epoch [70001/100000], Loss: 0.1421\n",
            "Epoch [80001/100000], Loss: 0.1412\n",
            "Epoch [90001/100000], Loss: 0.1405\n"
          ]
        }
      ]
    },
    {
      "cell_type": "code",
      "source": [
        "plt.figure(figsize=(10,10))\n",
        "x_test = torch.Tensor([[x] for x in list(train3.citizen_number)]) \n",
        "x_test2 = torch.Tensor([[x] for x in list(test3.citizen_number)]) \n",
        "pred = model(x_test)\n",
        "pred = pred.cpu().detach().numpy()\n",
        "pred2 = model(x_test2)\n",
        "pred2= pred2.cpu().detach().numpy()\n",
        "x = third[\"citizen_number\"]\n",
        "y = third[\"probability\"]\n",
        "print(\"gray는 실제 데이터값, red는 모델의 예측값을 나타냅니다\")\n",
        "plt.scatter(x, y, s=1, c=\"gray\")\n",
        "plt.scatter(x_test, pred, s=1, c=\"red\")\n",
        "plt.scatter(x_test2, pred2, s=1, c= \"red\")\n",
        "plt.show()"
      ],
      "metadata": {
        "colab": {
          "base_uri": "https://localhost:8080/",
          "height": 610
        },
        "id": "T36Dvrl_lYnR",
        "outputId": "89d8daa2-1090-4bb5-8998-fa2c49a8b4ac"
      },
      "execution_count": null,
      "outputs": [
        {
          "output_type": "stream",
          "name": "stdout",
          "text": [
            "gray는 실제 데이터값, red는 모델의 예측값을 나타냅니다\n"
          ]
        },
        {
          "output_type": "display_data",
          "data": {
            "image/png": "[encoded data removed]",
            "text/plain": [
              "<Figure size 720x720 with 1 Axes>"
            ]
          },
          "metadata": {
            "needs_background": "light"
          }
        }
      ]
    },
    {
      "cell_type": "markdown",
      "source": [
        "✔마피아  수가 4일때"
      ],
      "metadata": {
        "id": "6CCmvrbilm0P"
      }
    },
    {
      "cell_type": "code",
      "source": [
        "x_train4 = torch.Tensor([[x] for x in list(train4.citizen_number)])\n",
        "y_train4 = torch.Tensor([[x] for x in list(train4.probability)])\n",
        "train_data = TensorDataset(x_train4,y_train4)\n",
        "batch_size = len(x_train4)\n",
        "train_ = DataLoader(train_data,batch_size,shuffle=True)\n",
        "\n",
        "#이제 여기서 차별점을 준다\n",
        "model = nn.Sequential(\n",
        "    nn.Linear(1,5),\n",
        "    nn.LeakyReLU(0.2),\n",
        "    nn.Linear(5,10),\n",
        "    nn.LeakyReLU(0.2),\n",
        "    nn.Linear(10,10),\n",
        "    nn.LeakyReLU(0.2),    \n",
        "    nn.Linear(10,10),\n",
        "    nn.LeakyReLU(0.2),        \n",
        "    nn.Linear(10,5),\n",
        "    nn.LeakyReLU(0.2),          \n",
        "    nn.Linear(5,1),\n",
        ")\n",
        "gpu = torch.device('cuda')\n",
        "loss_fuc  = nn.L1Loss()\n",
        "#optimizer = torch.optim.SGD(model.parameters(),lr=0.001)\n",
        "optimizer = torch.optim.Adam(model.parameters(),lr=0.002)\n",
        "\n",
        "num_epochs=100000\n",
        "lrmodel(num_epochs, model, loss, optimizer, train_)"
      ],
      "metadata": {
        "colab": {
          "base_uri": "https://localhost:8080/"
        },
        "id": "mEJ4wSmblon4",
        "outputId": "84e6d3f7-e2ab-4af6-a3cc-3ba04bf1e7a9"
      },
      "execution_count": null,
      "outputs": [
        {
          "output_type": "stream",
          "name": "stdout",
          "text": [
            "Epoch [1/100000], Loss: 300.0752\n",
            "Epoch [10001/100000], Loss: 1.4911\n",
            "Epoch [20001/100000], Loss: 0.1073\n",
            "Epoch [30001/100000], Loss: 0.0265\n",
            "Epoch [40001/100000], Loss: 0.0224\n",
            "Epoch [50001/100000], Loss: 0.0218\n",
            "Epoch [60001/100000], Loss: 0.0212\n",
            "Epoch [70001/100000], Loss: 0.0073\n",
            "Epoch [80001/100000], Loss: 0.0054\n",
            "Epoch [90001/100000], Loss: 0.0023\n"
          ]
        }
      ]
    },
    {
      "cell_type": "code",
      "source": [
        "plt.figure(figsize=(10,10))\n",
        "x_test = torch.Tensor([[x] for x in list(train4.citizen_number)]) \n",
        "x_test2 = torch.Tensor([[x] for x in list(test4.citizen_number)]) \n",
        "pred = model(x_test)\n",
        "pred = pred.cpu().detach().numpy()\n",
        "pred2 = model(x_test2)\n",
        "pred2= pred2.cpu().detach().numpy()\n",
        "x = fourth[\"citizen_number\"]\n",
        "y = fourth[\"probability\"]\n",
        "print(\"gray는 실제 데이터값, red는 모델의 예측값을 나타냅니다\")\n",
        "plt.scatter(x, y, s=1, c=\"gray\")\n",
        "plt.scatter(x_test, pred, s=1, c=\"red\")\n",
        "plt.scatter(x_test2, pred2, s=1, c= \"red\")\n",
        "plt.show()"
      ],
      "metadata": {
        "colab": {
          "base_uri": "https://localhost:8080/",
          "height": 610
        },
        "id": "wv7DjPMrlogg",
        "outputId": "8207c793-b02c-45d7-d0d9-43330ec9e69a"
      },
      "execution_count": null,
      "outputs": [
        {
          "output_type": "stream",
          "name": "stdout",
          "text": [
            "gray는 실제 데이터값, red는 모델의 예측값을 나타냅니다\n"
          ]
        },
        {
          "output_type": "display_data",
          "data": {
            "image/png": "[encoded data removed]",
            "text/plain": [
              "<Figure size 720x720 with 1 Axes>"
            ]
          },
          "metadata": {
            "needs_background": "light"
          }
        }
      ]
    },
    {
      "cell_type": "markdown",
      "source": [
        "✔마피아 수가 5일때"
      ],
      "metadata": {
        "id": "Ai8QqLFxl1Y2"
      }
    },
    {
      "cell_type": "code",
      "source": [
        "x_train5 = torch.Tensor([[x] for x in list(train5.citizen_number)])\n",
        "y_train5 = torch.Tensor([[x] for x in list(train5.probability)])\n",
        "train_data = TensorDataset(x_train5,y_train5)\n",
        "batch_size = len(x_train5)\n",
        "train_ = DataLoader(train_data,batch_size,shuffle=True)\n",
        "\n",
        "#이제 여기서 차별점을 준다\n",
        "model = nn.Sequential(\n",
        "    nn.Linear(1,5),\n",
        "    nn.LeakyReLU(0.2),\n",
        "    nn.Linear(5,10),\n",
        "    nn.LeakyReLU(0.2),\n",
        "    nn.Linear(10,10),\n",
        "    nn.LeakyReLU(0.2),    \n",
        "    nn.Linear(10,10),\n",
        "    nn.LeakyReLU(0.2),        \n",
        "    nn.Linear(10,5),\n",
        "    nn.LeakyReLU(0.2),          \n",
        "    nn.Linear(5,1),\n",
        ")\n",
        "gpu = torch.device('cuda')\n",
        "loss_fuc  = nn.L1Loss()\n",
        "#optimizer = torch.optim.SGD(model.parameters(),lr=0.001)\n",
        "optimizer = torch.optim.Adam(model.parameters(),lr=0.002)\n",
        "\n",
        "num_epochs=100000\n",
        "lrmodel(num_epochs, model, loss, optimizer, train_)"
      ],
      "metadata": {
        "colab": {
          "base_uri": "https://localhost:8080/"
        },
        "id": "BpzQG1A8l1Fs",
        "outputId": "3b92fe68-de39-4ed2-e23c-781ef479c2ed"
      },
      "execution_count": null,
      "outputs": [
        {
          "output_type": "stream",
          "name": "stdout",
          "text": [
            "Epoch [1/100000], Loss: 160.7002\n",
            "Epoch [10001/100000], Loss: 0.0774\n",
            "Epoch [20001/100000], Loss: 0.0775\n",
            "Epoch [30001/100000], Loss: 0.0059\n",
            "Epoch [40001/100000], Loss: 0.0064\n",
            "Epoch [50001/100000], Loss: 0.0053\n",
            "Epoch [60001/100000], Loss: 0.0047\n",
            "Epoch [70001/100000], Loss: 0.0047\n",
            "Epoch [80001/100000], Loss: 0.0051\n",
            "Epoch [90001/100000], Loss: 0.0008\n"
          ]
        }
      ]
    },
    {
      "cell_type": "code",
      "source": [
        "plt.figure(figsize=(10,10))\n",
        "x_test = torch.Tensor([[x] for x in list(train5.citizen_number)]) \n",
        "x_test2 = torch.Tensor([[x] for x in list(test5.citizen_number)]) \n",
        "pred = model(x_test)\n",
        "pred = pred.cpu().detach().numpy()\n",
        "pred2 = model(x_test2)\n",
        "pred2= pred2.cpu().detach().numpy()\n",
        "x = fifth[\"citizen_number\"]\n",
        "y = fifth[\"probability\"]\n",
        "print(\"gray는 실제 데이터값, red는 모델의 예측값을 나타냅니다\")\n",
        "plt.scatter(x, y, s=1, c=\"gray\")\n",
        "plt.scatter(x_test, pred, s=1, c=\"red\")\n",
        "plt.scatter(x_test2, pred2, s=1, c= \"red\")\n",
        "plt.show()"
      ],
      "metadata": {
        "colab": {
          "base_uri": "https://localhost:8080/",
          "height": 610
        },
        "id": "Hvn9OW48l8r-",
        "outputId": "513a9918-abbb-4795-d294-d7d1a0381c74"
      },
      "execution_count": null,
      "outputs": [
        {
          "output_type": "stream",
          "name": "stdout",
          "text": [
            "gray는 실제 데이터값, red는 모델의 예측값을 나타냅니다\n"
          ]
        },
        {
          "output_type": "display_data",
          "data": {
            "image/png": "[encoded data removed]",
            "text/plain": [
              "<Figure size 720x720 with 1 Axes>"
            ]
          },
          "metadata": {
            "needs_background": "light"
          }
        }
      ]
    },
    {
      "cell_type": "markdown",
      "source": [
        "#비선형 모델에 대한 해석\n",
        "\n",
        "마피아 수를 1,2,3,4,5로 case를 나누고 각 경우마다 시민 수를 증가시키며 예측 데이터를 관찰하니 비선형 함수에 가까워지는 경향성을 보였다.\n",
        "\n",
        "데이터 시각화를 통해 알 수 있듯, **(5)의 선형 함수** 보다는 **(6)의 비선형 함수**를 따를때,  보다 실제 데이터의 결과값에 근접하는 경향을 보였다.\n",
        "\n",
        "이제 accuracy 지표를 활용하여, 비선형 모델을 기반으로 다양한 딥러닝 기술을 활용하며 최적화된 모델을 선정해보겠다."
      ],
      "metadata": {
        "id": "Xx9D42Xeqjzb"
      }
    },
    {
      "cell_type": "markdown",
      "source": [
        "**7. 가장 적합한 모델 선정하기**\n",
        "\n",
        "⚡ project_M의 모델은 비선형 모델을 따른다고 가정하겠습니다\n",
        "\n",
        "⚡ 마피아의 수는 5로 고정하고, 시민의 수를 늘리며 다양한 모델을 테스트해보겠습니다.\n",
        "\n",
        "⚡예측값과 정답 레이블간의 오차를 분석하기 위해 **acc 지표(실제 데이터 값과 모델의 예측값의 오차율)**를 활용하겠습니다.\n",
        "\n",
        "⚡조건을 동일하게 하기 위해, **loss지표가 최대 0.005이하까지 떨어질때의 accuracy를 기준**으로 각 모델의 성능을 평가하겠습니다.\n",
        "\n",
        "⚡loss함수는 L1Loss로 고정하겠습니다\n",
        "\n",
        "⚡오차율이 작을수록 좋은 모델인것으로 평가하겠습니다"
      ],
      "metadata": {
        "id": "VVGLN9Ex9mb9"
      }
    },
    {
      "cell_type": "markdown",
      "source": [
        "✔1. basic"
      ],
      "metadata": {
        "id": "ct-tMI7QQxeP"
      }
    },
    {
      "cell_type": "code",
      "source": [
        "x_train5 = torch.Tensor([[x] for x in list(train5.citizen_number)])\n",
        "y_train5 = torch.Tensor([[x] for x in list(train5.probability)])\n",
        "train_data = TensorDataset(x_train5,y_train5)\n",
        "batch_size = len(x_train5)\n",
        "train_ = DataLoader(train_data,batch_size,shuffle=True)\n",
        "\n",
        "model = nn.Sequential(\n",
        "    nn.Linear(1,5),\n",
        "    nn.LeakyReLU(0.2),\n",
        "    nn.Linear(5,10),\n",
        "    nn.LeakyReLU(0.2),\n",
        "    nn.Linear(10,10),\n",
        "    nn.LeakyReLU(0.2),    \n",
        "    nn.Linear(10,10),\n",
        "    nn.LeakyReLU(0.2),        \n",
        "    nn.Linear(10,5),\n",
        "    nn.LeakyReLU(0.2),          \n",
        "    nn.Linear(5,1),\n",
        ")\n",
        "gpu = torch.device('cuda')\n",
        "loss_fuc  = nn.L1Loss()\n",
        "#optimizer = torch.optim.SGD(model.parameters(),lr=0.001)\n",
        "optimizer = torch.optim.Adam(model.parameters(),lr=0.002)\n",
        "\n",
        "num_epochs=100000\n",
        "lrmodel(num_epochs, model, loss, optimizer, train_) "
      ],
      "metadata": {
        "colab": {
          "base_uri": "https://localhost:8080/"
        },
        "id": "JpXKEL20-wuS",
        "outputId": "d0812143-5959-4b13-8087-e7a259610e56"
      },
      "execution_count": null,
      "outputs": [
        {
          "output_type": "stream",
          "name": "stdout",
          "text": [
            "Epoch [1/100000], Loss: 157.1409\n",
            "Epoch [10001/100000], Loss: 0.4877\n",
            "Epoch [20001/100000], Loss: 0.4877\n",
            "Epoch [30001/100000], Loss: 0.0017\n",
            "Epoch [40001/100000], Loss: 0.0017\n",
            "Epoch [50001/100000], Loss: 0.0017\n",
            "Epoch [60001/100000], Loss: 0.0017\n",
            "Epoch [70001/100000], Loss: 0.0011\n",
            "Epoch [80001/100000], Loss: 0.0014\n",
            "Epoch [90001/100000], Loss: 0.0009\n"
          ]
        }
      ]
    },
    {
      "cell_type": "code",
      "source": [
        "plt.figure(figsize=(10,10))\n",
        "x_test = torch.Tensor([[x] for x in list(train5.citizen_number)]) \n",
        "x_test2 = torch.Tensor([[x] for x in list(test5.citizen_number)]) \n",
        "pred = model(x_test)\n",
        "pred = pred.cpu().detach().numpy()\n",
        "pred2 = model(x_test2)\n",
        "pred2= pred2.cpu().detach().numpy()\n",
        "x = fifth[\"citizen_number\"]\n",
        "y = fifth[\"probability\"]\n",
        "print(\"gray는 실제 데이터값, red는 모델의 예측값을 나타냅니다\")\n",
        "plt.scatter(x, y, s=1, c=\"gray\")\n",
        "plt.scatter(x_test, pred, s=1, c=\"red\")\n",
        "plt.scatter(x_test2, pred2, s=1, c= \"red\")\n",
        "plt.show()\n",
        "# 정확도 평가 코드\n",
        "pred = pred.reshape(-1,) #차원을 변경해야함\n",
        "tt = np.array(train5[\"probability\"])\n",
        "acc = []\n",
        "for x in pred,tt:\n",
        "  acc.append(abs(pred-tt)/pred * 100)\n",
        "acc = acc[0]\n",
        "acc = acc.sum()\n",
        "print(f\"이 모델의 오차율(%)는 {acc}(%)입니다\")"
      ],
      "metadata": {
        "id": "OQ3Yk3sSaMgj",
        "colab": {
          "base_uri": "https://localhost:8080/",
          "height": 628
        },
        "outputId": "a8b8996b-05ae-4b65-d828-e274a4dbd724"
      },
      "execution_count": null,
      "outputs": [
        {
          "output_type": "stream",
          "name": "stdout",
          "text": [
            "gray는 실제 데이터값, red는 모델의 예측값을 나타냅니다\n"
          ]
        },
        {
          "output_type": "display_data",
          "data": {
            "image/png": "[encoded data removed]",
            "text/plain": [
              "<Figure size 720x720 with 1 Axes>"
            ]
          },
          "metadata": {
            "needs_background": "light"
          }
        },
        {
          "output_type": "stream",
          "name": "stdout",
          "text": [
            "이 모델의 오차율(%)는 1.127979975429892(%)입니다\n"
          ]
        }
      ]
    },
    {
      "cell_type": "markdown",
      "source": [
        "✔2. Adam -> SGD"
      ],
      "metadata": {
        "id": "n_dEEiPGVWOL"
      }
    },
    {
      "cell_type": "code",
      "source": [
        "x_train5 = torch.Tensor([[x] for x in list(train5.citizen_number)])\n",
        "y_train5 = torch.Tensor([[x] for x in list(train5.probability)])\n",
        "train_data = TensorDataset(x_train5,y_train5)\n",
        "batch_size = len(x_train5)\n",
        "train_ = DataLoader(train_data,batch_size,shuffle=True)\n",
        "\n",
        "model = nn.Sequential(\n",
        "    nn.Linear(1,5),\n",
        "    nn.LeakyReLU(0.2),\n",
        "    nn.Linear(5,10),\n",
        "    nn.LeakyReLU(0.2),\n",
        "    nn.Linear(10,10),\n",
        "    nn.LeakyReLU(0.2),    \n",
        "    nn.Linear(10,10),\n",
        "    nn.LeakyReLU(0.2),        \n",
        "    nn.Linear(10,5),\n",
        "    nn.LeakyReLU(0.2),          \n",
        "    nn.Linear(5,1),\n",
        ")\n",
        "gpu = torch.device('cuda')\n",
        "loss_fuc  = nn.L1Loss()\n",
        "optimizer = torch.optim.SGD(model.parameters(),lr=0.002)\n",
        "#optimizer = torch.optim.Adam(model.parameters(),lr=0.002)\n",
        "\n",
        "num_epochs=100000\n",
        "lrmodel(num_epochs, model, loss, optimizer, train_) "
      ],
      "metadata": {
        "colab": {
          "base_uri": "https://localhost:8080/"
        },
        "id": "sZetGCpxNM8M",
        "outputId": "4f775d41-ff5d-43a3-f00b-d1b43faea191"
      },
      "execution_count": null,
      "outputs": [
        {
          "output_type": "stream",
          "name": "stdout",
          "text": [
            "Epoch [1/100000], Loss: 158.0192\n",
            "Epoch [10001/100000], Loss: 0.2805\n",
            "Epoch [20001/100000], Loss: 0.0109\n",
            "Epoch [30001/100000], Loss: 0.0081\n",
            "Epoch [40001/100000], Loss: 0.0076\n",
            "Epoch [50001/100000], Loss: 0.0073\n",
            "Epoch [60001/100000], Loss: 0.0067\n",
            "Epoch [70001/100000], Loss: 0.0062\n",
            "Epoch [80001/100000], Loss: 0.0058\n",
            "Epoch [90001/100000], Loss: 0.0054\n"
          ]
        }
      ]
    },
    {
      "cell_type": "code",
      "source": [
        "plt.figure(figsize=(10,10))\n",
        "x_test = torch.Tensor([[x] for x in list(train5.citizen_number)]) \n",
        "x_test2 = torch.Tensor([[x] for x in list(test5.citizen_number)]) \n",
        "pred = model(x_test)\n",
        "pred = pred.cpu().detach().numpy()\n",
        "pred2 = model(x_test2)\n",
        "pred2= pred2.cpu().detach().numpy()\n",
        "x = fifth[\"citizen_number\"]\n",
        "y = fifth[\"probability\"]\n",
        "print(\"gray는 실제 데이터값, red는 모델의 예측값을 나타냅니다\")\n",
        "plt.scatter(x, y, s=1, c=\"gray\")\n",
        "plt.scatter(x_test, pred, s=1, c=\"red\")\n",
        "plt.scatter(x_test2, pred2, s=1, c= \"red\")\n",
        "plt.show()\n",
        "# 정확도 평가 코드\n",
        "pred = pred.reshape(-1,) #차원을 변경해야함\n",
        "tt = np.array(train5[\"probability\"])\n",
        "acc = []\n",
        "for x in pred,tt:\n",
        "  acc.append(abs(pred-tt)/pred * 100)\n",
        "acc = acc[0]\n",
        "acc = acc.sum()\n",
        "print(f\"이 모델의 오차율(%)는 {acc}(%)입니다\")"
      ],
      "metadata": {
        "colab": {
          "base_uri": "https://localhost:8080/",
          "height": 628
        },
        "id": "6-_LtemDVlkC",
        "outputId": "39491431-3c4c-4b08-f8fd-cd53a747e47e"
      },
      "execution_count": null,
      "outputs": [
        {
          "output_type": "stream",
          "name": "stdout",
          "text": [
            "gray는 실제 데이터값, red는 모델의 예측값을 나타냅니다\n"
          ]
        },
        {
          "output_type": "display_data",
          "data": {
            "image/png": "[encoded data removed]",
            "text/plain": [
              "<Figure size 720x720 with 1 Axes>"
            ]
          },
          "metadata": {
            "needs_background": "light"
          }
        },
        {
          "output_type": "stream",
          "name": "stdout",
          "text": [
            "이 모델의 오차율(%)는 4.894563548041216(%)입니다\n"
          ]
        }
      ]
    },
    {
      "cell_type": "markdown",
      "source": [
        "\n",
        "SGD방식은 ADAM과 달리 단순히 loss의 기울기가 줄어드는 방향으로 갱신된다.\n",
        "\n",
        "애초에 loss가 0.0009수준까지 떨어지도록 하는 게 쉽지 않았다.  비효율적인 방식이라 생각된다."
      ],
      "metadata": {
        "id": "3ildjwBmZWgi"
      }
    },
    {
      "cell_type": "markdown",
      "source": [
        "✔3. Adam -> Momentum"
      ],
      "metadata": {
        "id": "ZhOd0iwRyjyW"
      }
    },
    {
      "cell_type": "code",
      "source": [
        "x_train5 = torch.Tensor([[x] for x in list(train5.citizen_number)])\n",
        "y_train5 = torch.Tensor([[x] for x in list(train5.probability)])\n",
        "train_data = TensorDataset(x_train5,y_train5)\n",
        "batch_size = len(x_train5)\n",
        "train_ = DataLoader(train_data,batch_size,shuffle=True)\n",
        "\n",
        "model = nn.Sequential(\n",
        "    nn.Linear(1,5),\n",
        "    nn.LeakyReLU(0.2),\n",
        "    nn.Linear(5,10),\n",
        "    nn.LeakyReLU(0.2),\n",
        "    nn.Linear(10,10),\n",
        "    nn.LeakyReLU(0.2),    \n",
        "    nn.Linear(10,10),\n",
        "    nn.LeakyReLU(0.2),        \n",
        "    nn.Linear(10,5),\n",
        "    nn.LeakyReLU(0.2),          \n",
        "    nn.Linear(5,1),\n",
        ")\n",
        "\n",
        "gpu = torch.device('cuda')\n",
        "loss_fuc  = nn.L1Loss()\n",
        "optimizer = torch.optim.SGD(model.parameters(),lr=0.002,momentum=0.7)\n",
        "#optimizer = torch.optim.Adam(model.parameters(),lr=0.002)\n",
        "\n",
        "num_epochs=100000\n",
        "lrmodel(num_epochs, model, loss, optimizer, train_) "
      ],
      "metadata": {
        "colab": {
          "base_uri": "https://localhost:8080/"
        },
        "id": "ifDR-OxbyjS5",
        "outputId": "2c16aae0-cfd5-4414-ae48-ebe7ee2cb58b"
      },
      "execution_count": null,
      "outputs": [
        {
          "output_type": "stream",
          "name": "stdout",
          "text": [
            "Epoch [1/100000], Loss: 168.2854\n",
            "Epoch [10001/100000], Loss: 0.1146\n",
            "Epoch [20001/100000], Loss: 0.1140\n",
            "Epoch [30001/100000], Loss: 0.1139\n",
            "Epoch [40001/100000], Loss: 0.1139\n",
            "Epoch [50001/100000], Loss: 0.1139\n",
            "Epoch [60001/100000], Loss: 0.1139\n",
            "Epoch [70001/100000], Loss: 0.1139\n",
            "Epoch [80001/100000], Loss: 0.1139\n",
            "Epoch [90001/100000], Loss: 0.1139\n"
          ]
        }
      ]
    },
    {
      "cell_type": "code",
      "source": [
        "plt.figure(figsize=(10,10))\n",
        "x_test = torch.Tensor([[x] for x in list(train5.citizen_number)]) \n",
        "x_test2 = torch.Tensor([[x] for x in list(test5.citizen_number)]) \n",
        "pred = model(x_test)\n",
        "pred = pred.cpu().detach().numpy()\n",
        "pred2 = model(x_test2)\n",
        "pred2= pred2.cpu().detach().numpy()\n",
        "x = fifth[\"citizen_number\"]\n",
        "y = fifth[\"probability\"]\n",
        "print(\"gray는 실제 데이터값, red는 모델의 예측값을 나타냅니다\")\n",
        "plt.scatter(x, y, s=1, c=\"gray\")\n",
        "plt.scatter(x_test, pred, s=1, c=\"red\")\n",
        "plt.scatter(x_test2, pred2, s=1, c= \"red\")\n",
        "plt.show()\n",
        "# 정확도 평가 코드\n",
        "pred = pred.reshape(-1,) #차원을 변경해야함\n",
        "tt = np.array(train5[\"probability\"])\n",
        "acc = []\n",
        "for x in pred,tt:\n",
        "  acc.append(abs(pred-tt)/pred * 100)\n",
        "acc = acc[0]\n",
        "acc = acc.sum()\n",
        "print(f\"이 모델의 오차율(%)는 {acc}(%)입니다\")"
      ],
      "metadata": {
        "colab": {
          "base_uri": "https://localhost:8080/",
          "height": 628
        },
        "id": "E_dVgZ7cyp_D",
        "outputId": "d9b17c10-6963-4403-b311-8f4cc90f5b6f"
      },
      "execution_count": null,
      "outputs": [
        {
          "output_type": "stream",
          "name": "stdout",
          "text": [
            "gray는 실제 데이터값, red는 모델의 예측값을 나타냅니다\n"
          ]
        },
        {
          "output_type": "display_data",
          "data": {
            "image/png": "[encoded data removed]",
            "text/plain": [
              "<Figure size 720x720 with 1 Axes>"
            ]
          },
          "metadata": {
            "needs_background": "light"
          }
        },
        {
          "output_type": "stream",
          "name": "stdout",
          "text": [
            "이 모델의 오차율(%)는 38.283919265001906(%)입니다\n"
          ]
        }
      ]
    },
    {
      "cell_type": "markdown",
      "source": [
        "Momentum 방식을 이용하니 , loss 수치가 더더욱 잘 떨어지지 않았다. momentum을 0.9, 0.7, 0.5 등으로 바꾸어가며 실험해보았다.\n",
        "\n",
        "어느 것으로 해도 loss와 오차율은 잘 감소하지 않았다. 그래서 momentum에 학습률을 강제변환해주는 scheduler를 도입해본다"
      ],
      "metadata": {
        "id": "vFIluBvi3UGI"
      }
    },
    {
      "cell_type": "markdown",
      "source": [
        "✔4. Momentum + scheduler"
      ],
      "metadata": {
        "id": "PvXWducf2MMs"
      }
    },
    {
      "cell_type": "code",
      "source": [
        "x_train5 = torch.Tensor([[x] for x in list(train5.citizen_number)])\n",
        "y_train5 = torch.Tensor([[x] for x in list(train5.probability)])\n",
        "train_data = TensorDataset(x_train5,y_train5)\n",
        "batch_size = len(x_train5)\n",
        "train_ = DataLoader(train_data,batch_size,shuffle=True)\n",
        "\n",
        "model = nn.Sequential(\n",
        "    nn.Linear(1,5),\n",
        "    nn.LeakyReLU(0.2),\n",
        "    nn.Linear(5,10),\n",
        "    nn.LeakyReLU(0.2),\n",
        "    nn.Linear(10,10),\n",
        "    nn.LeakyReLU(0.2),    \n",
        "    nn.Linear(10,10),\n",
        "    nn.LeakyReLU(0.2),        \n",
        "    nn.Linear(10,5),\n",
        "    nn.LeakyReLU(0.2),          \n",
        "    nn.Linear(5,1),\n",
        ")\n",
        "\n",
        "gpu = torch.device('cuda')\n",
        "loss_fuc  = nn.L1Loss()\n",
        "#optimizer = torch.optim.SGD(model.parameters(),lr=0.002,momentum=0.5)\n",
        "#optimizer = torch.optim.Adam(model.parameters(),lr=0.002)\n",
        "optimizer = torch.optim.SGD(model.parameters(),lr=0.002,momentum=0.3)\n",
        "scheduler = torch.optim.lr_scheduler.StepLR(optimizer,step_size=100,gamma=0.3)\n",
        "num_epochs=100000\n",
        "\n",
        "def lrmodel(num_epochs, model, loss_fn, optimizer, train_dl):\n",
        "    for epoch in range(num_epochs):\n",
        "        for xb,yb in train_dl:\n",
        "            \n",
        "            pred = model(xb)\n",
        "            loss = loss_fn(pred, yb)\n",
        "\n",
        "            optimizer.zero_grad()\n",
        "            loss.backward()\n",
        "            optimizer.step()            \n",
        "        scheduler.step()\n",
        "        if epoch % 10000 == 0:\n",
        "          print('Epoch [{}/{}], Loss: {:.4f}'.format(epoch+1, num_epochs, loss.item()))\n",
        "\n",
        "num_epochs=100000\n",
        "#lrmodel(num_epochs, model, loss, optimizer, train_first)\n",
        "lrmodel(num_epochs, model, loss, optimizer, train_) "
      ],
      "metadata": {
        "colab": {
          "base_uri": "https://localhost:8080/"
        },
        "id": "4vY4oL272Kdj",
        "outputId": "e47712c1-da60-4989-b02d-0e0631666c0c"
      },
      "execution_count": null,
      "outputs": [
        {
          "output_type": "stream",
          "name": "stdout",
          "text": [
            "Epoch [1/100000], Loss: 164.8215\n",
            "Epoch [10001/100000], Loss: 1.4343\n",
            "Epoch [20001/100000], Loss: 1.4343\n",
            "Epoch [30001/100000], Loss: 1.4343\n",
            "Epoch [40001/100000], Loss: 1.4343\n",
            "Epoch [50001/100000], Loss: 1.4343\n",
            "Epoch [60001/100000], Loss: 1.4343\n",
            "Epoch [70001/100000], Loss: 1.4343\n",
            "Epoch [80001/100000], Loss: 1.4343\n",
            "Epoch [90001/100000], Loss: 1.4343\n"
          ]
        }
      ]
    },
    {
      "cell_type": "code",
      "source": [
        "plt.figure(figsize=(10,10))\n",
        "x_test = torch.Tensor([[x] for x in list(train5.citizen_number)]) \n",
        "x_test2 = torch.Tensor([[x] for x in list(test5.citizen_number)]) \n",
        "pred = model(x_test)\n",
        "pred = pred.cpu().detach().numpy()\n",
        "pred2 = model(x_test2)\n",
        "pred2= pred2.cpu().detach().numpy()\n",
        "x = fifth[\"citizen_number\"]\n",
        "y = fifth[\"probability\"]\n",
        "print(\"gray는 실제 데이터값, red는 모델의 예측값을 나타냅니다\")\n",
        "plt.scatter(x, y, s=1, c=\"gray\")\n",
        "plt.scatter(x_test, pred, s=1, c=\"red\")\n",
        "plt.scatter(x_test2, pred2, s=1, c= \"red\")\n",
        "plt.show()\n",
        "# 정확도 평가 코드\n",
        "pred = pred.reshape(-1,) #차원을 변경해야함\n",
        "tt = np.array(train5[\"probability\"])\n",
        "acc = []\n",
        "for x in pred,tt:\n",
        "  acc.append(abs(pred-tt)/pred * 100)\n",
        "acc = acc[0]\n",
        "acc = acc.sum()\n",
        "print(f\"이 모델의 오차율(%)는 {acc}(%)입니다\")"
      ],
      "metadata": {
        "colab": {
          "base_uri": "https://localhost:8080/",
          "height": 628
        },
        "id": "Jaa2n7wA21qp",
        "outputId": "27d95471-e8bd-4d3b-b8f2-54d38016f87c"
      },
      "execution_count": null,
      "outputs": [
        {
          "output_type": "stream",
          "name": "stdout",
          "text": [
            "gray는 실제 데이터값, red는 모델의 예측값을 나타냅니다\n"
          ]
        },
        {
          "output_type": "display_data",
          "data": {
            "image/png": "[encoded data removed]",
            "text/plain": [
              "<Figure size 720x720 with 1 Axes>"
            ]
          },
          "metadata": {
            "needs_background": "light"
          }
        },
        {
          "output_type": "stream",
          "name": "stdout",
          "text": [
            "이 모델의 오차율(%)는 137.46760479895505(%)입니다\n"
          ]
        }
      ]
    },
    {
      "cell_type": "markdown",
      "source": [
        "다양하게 momentum과 gamma, step_size를 조정해봤지만 적당한 loss와 오차율을 찾기가 힘들었다. \n",
        "\n",
        "하이퍼 파라미터 최적값 찾기 알고리즘을 도입하면 찾을 수 있겠지만, 상당한 시행착오가 더 있을 것 같다"
      ],
      "metadata": {
        "id": "5ROI3UG-AOVj"
      }
    },
    {
      "cell_type": "markdown",
      "source": [
        "✔5. lr =  0.002 --> 0.005\n"
      ],
      "metadata": {
        "id": "z1DUD91lbHRu"
      }
    },
    {
      "cell_type": "code",
      "source": [
        "x_train5 = torch.Tensor([[x] for x in list(train5.citizen_number)])\n",
        "y_train5 = torch.Tensor([[x] for x in list(train5.probability)])\n",
        "train_data = TensorDataset(x_train5,y_train5)\n",
        "batch_size = len(x_train5)\n",
        "train_ = DataLoader(train_data,batch_size,shuffle=True)\n",
        "\n",
        "model = nn.Sequential(\n",
        "    nn.Linear(1,5),\n",
        "    nn.LeakyReLU(0.2),\n",
        "    nn.Linear(5,10),\n",
        "    nn.LeakyReLU(0.2),\n",
        "    nn.Linear(10,10),\n",
        "    nn.LeakyReLU(0.2),    \n",
        "    nn.Linear(10,10),\n",
        "    nn.LeakyReLU(0.2),        \n",
        "    nn.Linear(10,5),\n",
        "    nn.LeakyReLU(0.2),          \n",
        "    nn.Linear(5,1),\n",
        ")\n",
        "gpu = torch.device('cuda')\n",
        "loss_fuc  = nn.L1Loss()\n",
        "#optimizer = torch.optim.SGD(model.parameters(),lr=0.002)\n",
        "optimizer = torch.optim.Adam(model.parameters(),lr=0.005)\n",
        "\n",
        "num_epochs=100000\n",
        "lrmodel(num_epochs, model, loss, optimizer, train_) "
      ],
      "metadata": {
        "id": "fQ3TZKuoWgN4",
        "colab": {
          "base_uri": "https://localhost:8080/"
        },
        "outputId": "a158248a-f08d-43f0-f207-c8403ffcf861"
      },
      "execution_count": null,
      "outputs": [
        {
          "output_type": "stream",
          "name": "stdout",
          "text": [
            "Epoch [1/100000], Loss: 168.2734\n",
            "Epoch [10001/100000], Loss: 0.1140\n",
            "Epoch [20001/100000], Loss: 0.0093\n",
            "Epoch [30001/100000], Loss: 0.0086\n",
            "Epoch [40001/100000], Loss: 0.0091\n",
            "Epoch [50001/100000], Loss: 0.0013\n",
            "Epoch [60001/100000], Loss: 0.0009\n",
            "Epoch [70001/100000], Loss: 0.0000\n",
            "Epoch [80001/100000], Loss: 0.0000\n",
            "Epoch [90001/100000], Loss: 0.0000\n"
          ]
        }
      ]
    },
    {
      "cell_type": "code",
      "source": [
        "plt.figure(figsize=(10,10))\n",
        "x_test = torch.Tensor([[x] for x in list(train5.citizen_number)]) \n",
        "x_test2 = torch.Tensor([[x] for x in list(test5.citizen_number)]) \n",
        "pred = model(x_test)\n",
        "pred = pred.cpu().detach().numpy()\n",
        "pred2 = model(x_test2)\n",
        "pred2= pred2.cpu().detach().numpy()\n",
        "x = fifth[\"citizen_number\"]\n",
        "y = fifth[\"probability\"]\n",
        "print(\"gray는 실제 데이터값, red는 모델의 예측값을 나타냅니다\")\n",
        "plt.scatter(x, y, s=1, c=\"gray\")\n",
        "plt.scatter(x_test, pred, s=1, c=\"red\")\n",
        "plt.scatter(x_test2, pred2, s=1, c= \"red\")\n",
        "plt.show()\n",
        "# 정확도 평가 코드\n",
        "pred = pred.reshape(-1,) #차원을 변경해야함\n",
        "tt = np.array(train5[\"probability\"])\n",
        "acc = []\n",
        "for x in pred,tt:\n",
        "  acc.append(abs(pred-tt)/pred * 100)\n",
        "acc = acc[0]\n",
        "acc = acc.sum()\n",
        "print(f\"이 모델의 오차율(%)는 {acc}(%)입니다\")"
      ],
      "metadata": {
        "colab": {
          "base_uri": "https://localhost:8080/",
          "height": 628
        },
        "id": "kiikee7btEe9",
        "outputId": "99740921-67f0-4e52-b66c-042bbc36a84f"
      },
      "execution_count": null,
      "outputs": [
        {
          "output_type": "stream",
          "name": "stdout",
          "text": [
            "gray는 실제 데이터값, red는 모델의 예측값을 나타냅니다\n"
          ]
        },
        {
          "output_type": "display_data",
          "data": {
            "image/png": "[encoded data removed]",
            "text/plain": [
              "<Figure size 720x720 with 1 Axes>"
            ]
          },
          "metadata": {
            "needs_background": "light"
          }
        },
        {
          "output_type": "stream",
          "name": "stdout",
          "text": [
            "이 모델의 오차율(%)는 1.4882931656540372(%)입니다\n"
          ]
        }
      ]
    },
    {
      "cell_type": "markdown",
      "source": [
        "학습률을 늘리니 loss는 0.0000까지 비교적 쉽게 내려왔지만, 막상 오차율을 구해보니 basic의 방법보다 떨어지는 효율을 보였다.\n",
        "\n",
        "학습률은 그대로 0.002정도가 적당한 것으로 판단된다.\n",
        "\n",
        "학습률이 너무 크거나 작으면 효율이 떨어지거나 학습 자체가 잘 이루어지지 않음을 실험을 통해 알 수 있었다."
      ],
      "metadata": {
        "id": "eOwN-PyguhG5"
      }
    },
    {
      "cell_type": "markdown",
      "source": [
        "✔6. 계층을 깊게 하기 "
      ],
      "metadata": {
        "id": "akQNUkv4ugqs"
      }
    },
    {
      "cell_type": "code",
      "source": [
        "x_train5 = torch.Tensor([[x] for x in list(train5.citizen_number)])\n",
        "y_train5 = torch.Tensor([[x] for x in list(train5.probability)])\n",
        "train_data = TensorDataset(x_train5,y_train5)\n",
        "batch_size = len(x_train5)\n",
        "train_ = DataLoader(train_data,batch_size,shuffle=True)\n",
        "\n",
        "model = nn.Sequential(\n",
        "    nn.Linear(1,5),\n",
        "    nn.LeakyReLU(0.2),\n",
        "    nn.Linear(5,10),\n",
        "    nn.LeakyReLU(0.2),\n",
        "    nn.Linear(10,10),\n",
        "    nn.LeakyReLU(0.2), \n",
        "    nn.Linear(10,10),\n",
        "    nn.LeakyReLU(0.2), \n",
        "    nn.Linear(10,10),\n",
        "    nn.LeakyReLU(0.2), \n",
        "    nn.Linear(10,10),\n",
        "    nn.LeakyReLU(0.2), \n",
        "    nn.Linear(10,10),\n",
        "    nn.LeakyReLU(0.2), \n",
        "    nn.Linear(10,10),\n",
        "    nn.LeakyReLU(0.2), \n",
        "    nn.Linear(10,10),\n",
        "    nn.LeakyReLU(0.2), \n",
        "    nn.Linear(10,10),\n",
        "    nn.LeakyReLU(0.2),        \n",
        "    nn.Linear(10,5),\n",
        "    nn.LeakyReLU(0.2),          \n",
        "    nn.Linear(5,1),\n",
        ")\n",
        "gpu = torch.device('cuda')\n",
        "loss_fuc  = nn.L1Loss()\n",
        "#optimizer = torch.optim.SGD(model.parameters(),lr=0.002)\n",
        "optimizer = torch.optim.Adam(model.parameters(),lr=0.002)\n",
        "\n",
        "num_epochs=100000\n",
        "lrmodel(num_epochs, model, loss, optimizer, train_) "
      ],
      "metadata": {
        "colab": {
          "base_uri": "https://localhost:8080/"
        },
        "id": "Fi5qz2icukTY",
        "outputId": "b7179481-407b-49da-c045-543484f6dab0"
      },
      "execution_count": null,
      "outputs": [
        {
          "output_type": "stream",
          "name": "stdout",
          "text": [
            "Epoch [1/100000], Loss: 163.6005\n",
            "Epoch [10001/100000], Loss: 0.1139\n",
            "Epoch [20001/100000], Loss: 0.1139\n",
            "Epoch [30001/100000], Loss: 0.0097\n",
            "Epoch [40001/100000], Loss: 0.0013\n",
            "Epoch [50001/100000], Loss: 0.0006\n",
            "Epoch [60001/100000], Loss: 0.0200\n",
            "Epoch [70001/100000], Loss: 0.0010\n",
            "Epoch [80001/100000], Loss: 0.0001\n",
            "Epoch [90001/100000], Loss: 0.0001\n"
          ]
        }
      ]
    },
    {
      "cell_type": "code",
      "source": [
        "plt.figure(figsize=(10,10))\n",
        "x_test = torch.Tensor([[x] for x in list(train5.citizen_number)]) \n",
        "x_test2 = torch.Tensor([[x] for x in list(test5.citizen_number)]) \n",
        "pred = model(x_test)\n",
        "pred = pred.cpu().detach().numpy()\n",
        "pred2 = model(x_test2)\n",
        "pred2= pred2.cpu().detach().numpy()\n",
        "x = fifth[\"citizen_number\"]\n",
        "y = fifth[\"probability\"]\n",
        "print(\"gray는 실제 데이터값, red는 모델의 예측값을 나타냅니다\")\n",
        "plt.scatter(x, y, s=1, c=\"gray\")\n",
        "plt.scatter(x_test, pred, s=1, c=\"red\")\n",
        "plt.scatter(x_test2, pred2, s=1, c= \"red\")\n",
        "plt.show()\n",
        "# 정확도 평가 코드\n",
        "pred = pred.reshape(-1,) #차원을 변경해야함\n",
        "tt = np.array(train5[\"probability\"])\n",
        "acc = []\n",
        "for x in pred,tt:\n",
        "  acc.append(abs(pred-tt)/pred * 100)\n",
        "acc = acc[0]\n",
        "acc = acc.sum()\n",
        "print(f\"이 모델의 오차율(%)는 {acc}(%)입니다\")"
      ],
      "metadata": {
        "colab": {
          "base_uri": "https://localhost:8080/",
          "height": 628
        },
        "id": "blbX0uHJ408M",
        "outputId": "8943ea80-4f6c-4bcc-e3b1-8e83e124ba1a"
      },
      "execution_count": null,
      "outputs": [
        {
          "output_type": "stream",
          "name": "stdout",
          "text": [
            "gray는 실제 데이터값, red는 모델의 예측값을 나타냅니다\n"
          ]
        },
        {
          "output_type": "display_data",
          "data": {
            "image/png": "[encoded data removed]",
            "text/plain": [
              "<Figure size 720x720 with 1 Axes>"
            ]
          },
          "metadata": {
            "needs_background": "light"
          }
        },
        {
          "output_type": "stream",
          "name": "stdout",
          "text": [
            "이 모델의 오차율(%)는 2.4884105762354816(%)입니다\n"
          ]
        }
      ]
    },
    {
      "cell_type": "markdown",
      "source": [
        "basic에서의 모든 조건을 동일하게 하고, 계층만 더욱 깊게 형성하였다.\n",
        "\n",
        "loss는 비교적 더 빠르게 감소하였지만 오차율은 basic보다 더 높게 나왔다."
      ],
      "metadata": {
        "id": "6nV6gzoXBz1d"
      }
    },
    {
      "cell_type": "markdown",
      "source": [
        "✔7. 계층을 아주 깊게 하기"
      ],
      "metadata": {
        "id": "VQ_LDafkB-mv"
      }
    },
    {
      "cell_type": "code",
      "source": [
        "x_train5 = torch.Tensor([[x] for x in list(train5.citizen_number)])\n",
        "y_train5 = torch.Tensor([[x] for x in list(train5.probability)])\n",
        "train_data = TensorDataset(x_train5,y_train5)\n",
        "batch_size = len(x_train5)\n",
        "train_ = DataLoader(train_data,batch_size,shuffle=True)\n",
        "\n",
        "model = nn.Sequential(\n",
        "    nn.Linear(1,5),\n",
        "    nn.LeakyReLU(0.2),\n",
        "    nn.Linear(5,10),\n",
        "    nn.LeakyReLU(0.2),\n",
        "    nn.Linear(10,10),\n",
        "    nn.LeakyReLU(0.2), \n",
        "    nn.Linear(10,10),\n",
        "    nn.LeakyReLU(0.2), \n",
        "    nn.Linear(10,10),\n",
        "    nn.LeakyReLU(0.2), \n",
        "    nn.Linear(10,10),\n",
        "    nn.LeakyReLU(0.2), \n",
        "    nn.Linear(10,10),\n",
        "    nn.LeakyReLU(0.2), \n",
        "    nn.Linear(10,10),\n",
        "    nn.LeakyReLU(0.2), \n",
        "    nn.Linear(10,10),\n",
        "    nn.LeakyReLU(0.2), \n",
        "    nn.Linear(10,10),\n",
        "    nn.LeakyReLU(0.2), \n",
        "    nn.Linear(10,10),\n",
        "    nn.LeakyReLU(0.2), \n",
        "    nn.Linear(10,10),\n",
        "    nn.LeakyReLU(0.2), \n",
        "    nn.Linear(10,10),\n",
        "    nn.LeakyReLU(0.2), \n",
        "    nn.Linear(10,10),\n",
        "    nn.LeakyReLU(0.2), \n",
        "    nn.Linear(10,10),\n",
        "    nn.LeakyReLU(0.2),        \n",
        "    nn.Linear(10,5),\n",
        "    nn.LeakyReLU(0.2),          \n",
        "    nn.Linear(5,1),\n",
        ")\n",
        "gpu = torch.device('cuda')\n",
        "loss_fuc  = nn.L1Loss()\n",
        "#optimizer = torch.optim.SGD(model.parameters(),lr=0.002)\n",
        "optimizer = torch.optim.Adam(model.parameters(),lr=0.002)\n",
        "\n",
        "num_epochs=100000\n",
        "lrmodel(num_epochs, model, loss, optimizer, train_) "
      ],
      "metadata": {
        "colab": {
          "base_uri": "https://localhost:8080/"
        },
        "id": "sHwcFdGPBtbD",
        "outputId": "06d46f20-b27d-4fab-f606-d7635dd2591f"
      },
      "execution_count": null,
      "outputs": [
        {
          "output_type": "stream",
          "name": "stdout",
          "text": [
            "Epoch [1/100000], Loss: 176.8440\n",
            "Epoch [10001/100000], Loss: 0.1139\n",
            "Epoch [20001/100000], Loss: 0.0023\n",
            "Epoch [30001/100000], Loss: 0.0016\n",
            "Epoch [40001/100000], Loss: 0.0018\n",
            "Epoch [50001/100000], Loss: 0.0016\n",
            "Epoch [60001/100000], Loss: 0.0259\n",
            "Epoch [70001/100000], Loss: 0.0144\n",
            "Epoch [80001/100000], Loss: 0.0013\n",
            "Epoch [90001/100000], Loss: 0.0018\n"
          ]
        }
      ]
    },
    {
      "cell_type": "code",
      "source": [
        "plt.figure(figsize=(10,10))\n",
        "x_test = torch.Tensor([[x] for x in list(train5.citizen_number)]) \n",
        "x_test2 = torch.Tensor([[x] for x in list(test5.citizen_number)]) \n",
        "pred = model(x_test)\n",
        "pred = pred.cpu().detach().numpy()\n",
        "pred2 = model(x_test2)\n",
        "pred2= pred2.cpu().detach().numpy()\n",
        "x = fifth[\"citizen_number\"]\n",
        "y = fifth[\"probability\"]\n",
        "print(\"gray는 실제 데이터값, red는 모델의 예측값을 나타냅니다\")\n",
        "plt.scatter(x, y, s=1, c=\"gray\")\n",
        "plt.scatter(x_test, pred, s=1, c=\"red\")\n",
        "plt.scatter(x_test2, pred2, s=1, c= \"red\")\n",
        "plt.show()\n",
        "# 정확도 평가 코드\n",
        "pred = pred.reshape(-1,) #차원을 변경해야함\n",
        "tt = np.array(train5[\"probability\"])\n",
        "acc = []\n",
        "for x in pred,tt:\n",
        "  acc.append(abs(pred-tt)/pred * 100)\n",
        "acc = acc[0]\n",
        "acc = acc.sum()\n",
        "print(f\"이 모델의 오차율(%)는 {acc}(%)입니다\")"
      ],
      "metadata": {
        "colab": {
          "base_uri": "https://localhost:8080/",
          "height": 628
        },
        "id": "8jPNTDVzCGow",
        "outputId": "b8cb2eed-aeef-4083-baf2-cdcb369779c6"
      },
      "execution_count": null,
      "outputs": [
        {
          "output_type": "stream",
          "name": "stdout",
          "text": [
            "gray는 실제 데이터값, red는 모델의 예측값을 나타냅니다\n"
          ]
        },
        {
          "output_type": "display_data",
          "data": {
            "image/png": "[encoded data removed]",
            "text/plain": [
              "<Figure size 720x720 with 1 Axes>"
            ]
          },
          "metadata": {
            "needs_background": "light"
          }
        },
        {
          "output_type": "stream",
          "name": "stdout",
          "text": [
            "이 모델의 오차율(%)는 2.703366368580559(%)입니다\n"
          ]
        }
      ]
    },
    {
      "cell_type": "markdown",
      "source": [
        "마찬가지로 단순히 층을 깊게 할수록 정확도가 올라가는 것은 아님을 알 수 있었다.\n",
        "\n",
        "layers는 기존의 basic처럼 너무 많지도 적지도 않은 적당한 개수의 층으로 설정하는 것이 가장 적합함을 알 수 있었다."
      ],
      "metadata": {
        "id": "_ZLyhKgSM18U"
      }
    },
    {
      "cell_type": "markdown",
      "source": [
        "⏰**(7)**에 대한 정리\n",
        "\n",
        "⚡단순히 층을 깊게 할수록 항상 학습효율이 높아지는 것은 아니다\n",
        "\n",
        "⚡적당한 학습률을 사용해야 학습이 올바르고 효율적으로 이루어진다\n",
        "\n",
        "⚡optimizer는 최소한 마피아 데이터에서는 Adam이 가장 적절한 것으로 판단된다.\n",
        "\n",
        "⚡optimizer을 momentum + scheduler로 하고, 이 하이퍼 파라미터의 최적값을 찾는다면 효율적인 모델이 완성되겠지만  찾는 과정이 복잡하다"
      ],
      "metadata": {
        "id": "XwpOeq2zC9OC"
      }
    },
    {
      "cell_type": "markdown",
      "source": [
        "**8. 최종 모델 선정**"
      ],
      "metadata": {
        "id": "mts6_yiZERT6"
      }
    },
    {
      "cell_type": "code",
      "source": [
        "x_train5 = torch.Tensor([[x] for x in list(train5.citizen_number)])\n",
        "y_train5 = torch.Tensor([[x] for x in list(train5.probability)])\n",
        "train_data = TensorDataset(x_train5,y_train5)\n",
        "batch_size = len(x_train5)\n",
        "train_ = DataLoader(train_data,batch_size,shuffle=True)\n",
        "\n",
        "model = nn.Sequential(\n",
        "    nn.Linear(1,5),\n",
        "    nn.LeakyReLU(0.2),\n",
        "    nn.Linear(5,10),\n",
        "    nn.LeakyReLU(0.2),\n",
        "    nn.Linear(10,10),\n",
        "    nn.LeakyReLU(0.2),    \n",
        "    nn.Linear(10,10),\n",
        "    nn.LeakyReLU(0.2),        \n",
        "    nn.Linear(10,5),\n",
        "    nn.LeakyReLU(0.2),          \n",
        "    nn.Linear(5,1),\n",
        ")\n",
        "\n",
        "gpu = torch.device('cuda')\n",
        "loss_fuc  = nn.L1Loss()\n",
        "#optimizer = torch.optim.SGD(model.parameters(),lr=0.001)\n",
        "optimizer = torch.optim.Adam(model.parameters(),lr=0.002)\n",
        "\n",
        "num_epochs=100000\n",
        "lrmodel(num_epochs, model, loss, optimizer, train_) "
      ],
      "metadata": {
        "colab": {
          "base_uri": "https://localhost:8080/"
        },
        "id": "WRXdeaxNEdJA",
        "outputId": "533e84b4-d07b-4c41-a31d-9a2df62e8bb2"
      },
      "execution_count": null,
      "outputs": [
        {
          "output_type": "stream",
          "name": "stdout",
          "text": [
            "Epoch [1/100000], Loss: 170.2687\n",
            "Epoch [10001/100000], Loss: 0.1928\n",
            "Epoch [20001/100000], Loss: 0.1139\n",
            "Epoch [30001/100000], Loss: 0.1139\n",
            "Epoch [40001/100000], Loss: 0.0076\n",
            "Epoch [50001/100000], Loss: 0.0004\n",
            "Epoch [60001/100000], Loss: 0.0010\n",
            "Epoch [70001/100000], Loss: 0.0000\n",
            "Epoch [80001/100000], Loss: 0.0000\n",
            "Epoch [90001/100000], Loss: 0.0000\n"
          ]
        }
      ]
    },
    {
      "cell_type": "code",
      "source": [
        "plt.figure(figsize=(10,10))\n",
        "x_test = torch.Tensor([[x] for x in list(train5.citizen_number)]) \n",
        "x_test2 = torch.Tensor([[x] for x in list(test5.citizen_number)]) \n",
        "pred = model(x_test)\n",
        "pred = pred.cpu().detach().numpy()\n",
        "pred2 = model(x_test2)\n",
        "pred2= pred2.cpu().detach().numpy()\n",
        "x = fifth[\"citizen_number\"]\n",
        "y = fifth[\"probability\"]\n",
        "print(\"gray는 실제 데이터값, red는 모델의 예측값을 나타냅니다\")\n",
        "plt.scatter(x, y, s=1, c=\"gray\")\n",
        "plt.scatter(x_test, pred, s=1, c=\"red\")\n",
        "plt.scatter(x_test2, pred2, s=1, c= \"red\")\n",
        "plt.show()\n",
        "# 정확도 평가 코드\n",
        "pred = pred.reshape(-1,) #차원을 변경해야함\n",
        "tt = np.array(train5[\"probability\"])\n",
        "acc = []\n",
        "for x in pred,tt:\n",
        "  acc.append(abs(pred-tt)/pred * 100)\n",
        "acc = acc[0]\n",
        "acc = acc.sum()\n",
        "print(f\"이 모델의 오차율(%)는 {acc}(%)입니다\")"
      ],
      "metadata": {
        "colab": {
          "base_uri": "https://localhost:8080/",
          "height": 628
        },
        "id": "GYp6OJUuElz8",
        "outputId": "748a4c62-e9ec-4d61-9cd3-694b3300ef35"
      },
      "execution_count": null,
      "outputs": [
        {
          "output_type": "stream",
          "name": "stdout",
          "text": [
            "gray는 실제 데이터값, red는 모델의 예측값을 나타냅니다\n"
          ]
        },
        {
          "output_type": "display_data",
          "data": {
            "image/png": "[encoded data removed]",
            "text/plain": [
              "<Figure size 720x720 with 1 Axes>"
            ]
          },
          "metadata": {
            "needs_background": "light"
          }
        },
        {
          "output_type": "stream",
          "name": "stdout",
          "text": [
            "이 모델의 오차율(%)는 0.2203309244379142(%)입니다\n"
          ]
        }
      ]
    },
    {
      "cell_type": "markdown",
      "source": [
        "\n",
        "\n",
        "⏰최적 모델의 조건들\n",
        "\n",
        "**optimzer** : Adam\n",
        "\n",
        "**lr** : 0.002\n",
        "\n",
        "**layers** :  nn.Linear(1,5),  nn.LeakyReLU(0.2),  nn.Linear(5,10),  nn.LeakyReLU(0.2),nn.Linear(10,10), \n",
        "\n",
        "nn.LeakyReLU(0.2),  nn.Linear(10,10), nn.LeakyReLU(0.2),  nn.Linear(10,5), nn.LeakyReLU(0.2),   nn.Linear(5,1)\n",
        "\n",
        "**num_epochs** : 100000\n",
        "\n",
        "**batch_size** : len(x_train5)\n",
        "\n",
        "**shuffle** : True\n",
        "\n",
        "**loss_fuc**  : nn.L1Loss()\n",
        "\n",
        "이렇게 해서, 최적 모델을 선정할 수 있었다.\n",
        "\n",
        "위 모델의 학습에는 10,0000 에폭의 반복학습이 필요했지만, loss를 최대한 0으로 근접하게 하기 위해 전체 학습을 10번정도 재시도했다. \n",
        "\n",
        "이렇게 해서 loss = 0.0000, 오차율 = 0.2203 % 의 최적 모델을 완성하였다."
      ],
      "metadata": {
        "id": "jweBaSJMI9zx"
      }
    },
    {
      "cell_type": "markdown",
      "source": [
        "⏰**최적 모델의 예측값과 실제 데이터값의 비교를 통한 insight**\n",
        "\n",
        "오차율은 단순히 훈련데이터의 결과값과 모델의 예측값으로부터 구한 지표였기 때문에, \n",
        "\n",
        "이 오차율이 작다고 시험데이터의 결과값과 모델의 예측값의 오차율이 그만큼 작다고 보장할 수 없다. \n",
        "\n",
        "또한 이는 **오버피팅**과 관련이 있다. 실제로 훈련 데이터가 적은 모델은 오버피팅이 빈번하게 일어남이 알려져있다.\n",
        "\n",
        "실제로 위의 최적 모델에서 오차율이 0.2203(%)이지만, 그래프를 보면 시험 데이터의 결과값과 예측데이터의 결과값에 상당한 차이가 나타남을 알 수 있다.\n",
        "(위의 그래프에서 citizen_number = 10, 15, 17에 해당된다) \n",
        "\n",
        "이는 가중치 감소, 드롭아웃 등의 방법으로 해결할 수 있다.\n",
        "\n",
        "훈련 데이터의 결과값과 모델의 예측값을 비교해보면, 최적화된 모델로 학습이 이루어지면서 적절한 값의 예측에 성공했다는 것을 알 수 있다.\n",
        "\n",
        "또한 마피아의 수가 고정되었을때 시민의 수가 증가할수록 probability(시민이 이길 확률)이 비선형함수를 따르며 증가함을 알 수 있다.\n",
        "\n",
        "위의 과정에서 데이터의 경향성이 선형함수보단 비선형함수에 가까우며 마피아의 수가 1,2,3,4,5...처럼 계속 증가해도 같은 추세를 따른다는 점을 알 수 있었다.\n",
        "\n",
        "**즉, 마피아의 수가 고정되었을때 시민의 수를 증가하면 시민이 이길 확률이 비선형함수의 구조로 꾸준히 증가한다는 결론을 내릴 수 있다.**"
      ],
      "metadata": {
        "id": "YyH5LWd7I-03"
      }
    },
    {
      "cell_type": "markdown",
      "source": [
        "#마무리하며\n",
        "\n",
        "이렇게 해서 21.12~22.02에 걸친 \n",
        "\n",
        "project_Maphia, machine_learning_basic, data_analysis_with_stats, deep_learning_frameworks의 공부에 대한 정리와 통합 프로젝트를 완성하였습니다.\n",
        "https://github.com/easyhardhoon?tab=repositories\n",
        "\n",
        "코드 작성, 코드로부터 데이터 수집, 데이터 분석, 데이터 시각화,데이터 학습,\n",
        " 다양한 딥러닝 모델 제작 및 평가, 최적화 모델 선정, \n",
        "최종 insight도출 등의 작업을 완료했습니다.\n",
        "\n",
        "**한편**\n",
        "\n",
        "데이터를 더 많이 수집했다면 보다 정확한 데이터 분석과 시각화가 가능해졌을 것이며 데이터 학습에도 용이했을 것입니다. \n",
        "\n",
        "오버피팅을 방지할 수 있을 것이며 혹시 모를 오버피팅을 방지하기 위해 가중치 감소, 드롭아웃등의 기법을 활용할 수 있을 것입니다\n",
        "\n",
        "결과적으로 보다 최적화된 모델을 선정할 수 있을 것입니다\n",
        "\n",
        "**다음에는**\n",
        "\n",
        "자연어 데이터에 대해 다루고 RNN신경망을 이용하여 딥러닝 학습을 구현하는 프로젝트를 해 볼 생각입니다.\n",
        "\n",
        "    \n",
        "\n",
        "\n"
      ],
      "metadata": {
        "id": "C772dnZyCa64"
      }
    },
    {
      "cell_type": "code",
      "source": [
        ""
      ],
      "metadata": {
        "id": "tgEp5GMfCctP"
      },
      "execution_count": null,
      "outputs": []
    }
  ]
}